{
 "cells": [
  {
   "cell_type": "code",
   "execution_count": 1,
   "metadata": {},
   "outputs": [
    {
     "name": "stderr",
     "output_type": "stream",
     "text": [
      "UsageError: Line magic function `%` not found.\n"
     ]
    }
   ],
   "source": [
    "# Import libraries\n",
    "import pandas as pd\n",
    "from pandas import ExcelWriter\n",
    "import numpy as np\n",
    "import matplotlib.pyplot as plt\n",
    "import seaborn as sb\n",
    "% matplotlib inline\n"
   ]
  },
  {
   "cell_type": "code",
   "execution_count": 2,
   "metadata": {},
   "outputs": [
    {
     "name": "stderr",
     "output_type": "stream",
     "text": [
      "/opt/anaconda3/lib/python3.7/site-packages/IPython/core/interactiveshell.py:3146: DtypeWarning: Columns (8) have mixed types.Specify dtype option on import or set low_memory=False.\n",
      "  interactivity=interactivity, compiler=compiler, result=result)\n"
     ]
    }
   ],
   "source": [
    "###Import enrollment files\n",
    "##1. Find file in finder\n",
    "##2. Option + Command + C\n",
    "##3. Paste Info read_csv(r” ”)\n",
    "\n",
    "\n",
    "enroll_1213 = pd.read_csv(r\"/Users/holly/Desktop/nycdoe/SPOP Enrollment Files/2012-13_enroll.csv\")\n",
    "enroll_1314 = pd.read_csv(r\"/Users/holly/Desktop/nycdoe/SPOP Enrollment Files/2013-14_enroll.csv\")\n",
    "enroll_1415 = pd.read_csv(r\"/Users/holly/Desktop/nycdoe/SPOP Enrollment Files/2014-15_enroll.csv\")\n",
    "enroll_1516 = pd.read_csv(r\"/Users/holly/Desktop/nycdoe/SPOP Enrollment Files/2015-16_enroll.csv\")\n",
    "enroll_1617 = pd.read_csv(r\"/Users/holly/Desktop/nycdoe/SPOP Enrollment Files/2016-17_enroll.csv\") \n",
    "enroll_1718 = pd.read_csv(r\"/Users/holly/Desktop/nycdoe/SPOP Enrollment Files/2017-18_enroll.csv\")  \n",
    "enroll_1819 = pd.read_csv(r\"/Users/holly/Desktop/nycdoe/SPOP Enrollment Files/2018-19_enroll.csv\")\n",
    "enroll_1920 = pd.read_csv(r\"/Users/holly/Desktop/nycdoe/SPOP Enrollment Files/2019-20_enroll.csv\")"
   ]
  },
  {
   "cell_type": "code",
   "execution_count": 3,
   "metadata": {},
   "outputs": [],
   "source": [
    "#https://thispointer.com/python-pandas-how-to-add-new-columns-in-a-dataframe-using-or-dataframe-assign/\n",
    "#df_obj['Total'] = 50\n",
    "enroll_1213['year'] = '2012-2013'\n",
    "enroll_1314['year'] = '2013-2014'\n",
    "enroll_1415['year'] = '2014-2015'\n",
    "enroll_1516['year'] = '2015-2016'\n",
    "enroll_1617['year'] = '2016-2017'\n",
    "enroll_1718['year'] = '2017-2018'\n",
    "enroll_1819['year'] = '2018-2019'\n",
    "enroll_1920['year'] = '2019-2020'"
   ]
  },
  {
   "cell_type": "code",
   "execution_count": 4,
   "metadata": {},
   "outputs": [],
   "source": [
    "#new_rows = df1.append(df2)\n",
    "enroll_1214 = enroll_1213.append(enroll_1314)\n",
    "enroll_1215 = enroll_1214.append(enroll_1415)\n",
    "enroll_1216 = enroll_1215.append(enroll_1516)\n",
    "enroll_1217 = enroll_1216.append(enroll_1617)\n",
    "enroll_1218 = enroll_1217.append(enroll_1718)\n",
    "enroll_1219 = enroll_1218.append(enroll_1819)\n",
    "enroll_final = enroll_1219.append(enroll_1920)"
   ]
  },
  {
   "cell_type": "code",
   "execution_count": 5,
   "metadata": {},
   "outputs": [
    {
     "data": {
      "text/plain": [
       "(8388600, 39)"
      ]
     },
     "execution_count": 5,
     "metadata": {},
     "output_type": "execute_result"
    }
   ],
   "source": [
    "enroll_final.shape"
   ]
  },
  {
   "cell_type": "code",
   "execution_count": 6,
   "metadata": {},
   "outputs": [],
   "source": [
    "#Source: https://thispointer.com/python-pandas-how-to-add-new-columns-in-a-dataframe-using-or-dataframe-assign/\n",
    "#Source: https://stackoverflow.com/questions/26886653/pandas-create-new-column-based-on-values-from-other-columns-apply-a-function-o\n",
    "#df_obj['Percentage'] = (df_obj['Marks'] / df_obj['Total']) * 100\n",
    "\n",
    "#enroll_1213['grade_cat'] = (enroll_1213['grade_level'])\n",
    "\n",
    "def grade_cat (row):\n",
    "    if row['grade_level'] == \"K\":\n",
    "      return 'K-2'\n",
    "    if row['grade_level'] == \"1\":\n",
    "      return 'K-2'\n",
    "    if row['grade_level'] == \"2\":\n",
    "      return 'K-2'\n",
    "    if row['grade_level'] == \"3\":\n",
    "      return '3-5'\n",
    "    if row['grade_level'] == \"4\":\n",
    "      return '3-5'\n",
    "    if row['grade_level'] == \"5\":\n",
    "      return '3-5'\n",
    "    if row['grade_level'] == \"6\":\n",
    "      return 'MS'\n",
    "    if row['grade_level'] == \"7\":\n",
    "      return 'MS'\n",
    "    if row['grade_level'] == \"8\":\n",
    "      return 'MS'\n",
    "    if row['grade_level'] == \"9\":\n",
    "      return 'HS'\n",
    "    if row['grade_level'] == \"10\":\n",
    "      return 'HS'\n",
    "    if row['grade_level'] == \"11\":\n",
    "      return 'HS'\n",
    "    if row['grade_level'] == \"12\":\n",
    "      return 'HS'\n",
    "    return 'Other'\n",
    "\n"
   ]
  },
  {
   "cell_type": "code",
   "execution_count": 7,
   "metadata": {},
   "outputs": [
    {
     "data": {
      "text/plain": [
       "0           HS\n",
       "1           HS\n",
       "2           HS\n",
       "3           HS\n",
       "4           HS\n",
       "          ... \n",
       "1048570     MS\n",
       "1048571    3-5\n",
       "1048572     MS\n",
       "1048573     MS\n",
       "1048574     MS\n",
       "Length: 8388600, dtype: object"
      ]
     },
     "execution_count": 7,
     "metadata": {},
     "output_type": "execute_result"
    }
   ],
   "source": [
    "#enroll_1213.apply (lambda row: grade_cat(row), axis=1)\n",
    "enroll_final.apply (lambda row: grade_cat(row), axis=1)"
   ]
  },
  {
   "cell_type": "code",
   "execution_count": 8,
   "metadata": {},
   "outputs": [],
   "source": [
    "enroll_final['grade_cat'] = enroll_final.apply (lambda row: grade_cat(row), axis=1)"
   ]
  },
  {
   "cell_type": "code",
   "execution_count": 10,
   "metadata": {},
   "outputs": [],
   "source": [
    "def swd_flg (row):\n",
    "    if row['iep_spec_ed_flg'] == \"Y\":\n",
    "      return 'Y'\n",
    "    if row['iep_spec_ed_flg'] == \"P\":\n",
    "      return 'Y'\n",
    "    return 'N'"
   ]
  },
  {
   "cell_type": "code",
   "execution_count": 11,
   "metadata": {},
   "outputs": [
    {
     "data": {
      "text/plain": [
       "0          N\n",
       "1          N\n",
       "2          Y\n",
       "3          N\n",
       "4          Y\n",
       "          ..\n",
       "1048570    N\n",
       "1048571    N\n",
       "1048572    N\n",
       "1048573    N\n",
       "1048574    N\n",
       "Length: 8388600, dtype: object"
      ]
     },
     "execution_count": 11,
     "metadata": {},
     "output_type": "execute_result"
    }
   ],
   "source": [
    "enroll_final.apply (lambda row: swd_flg(row), axis=1)"
   ]
  },
  {
   "cell_type": "code",
   "execution_count": 12,
   "metadata": {},
   "outputs": [],
   "source": [
    "enroll_final['swd_flg'] = enroll_final.apply (lambda row: swd_flg(row), axis=1)"
   ]
  },
  {
   "cell_type": "code",
   "execution_count": 345,
   "metadata": {
    "scrolled": true
   },
   "outputs": [],
   "source": [
    "#enroll_1213.shape, enroll_1314.shape, enroll_1415.shape, enroll_1516.shape, enroll_1617.shape, enroll_1718.shape, enroll_1819.shape, enroll_1920.shape"
   ]
  },
  {
   "cell_type": "code",
   "execution_count": 13,
   "metadata": {
    "scrolled": false
   },
   "outputs": [
    {
     "data": {
      "text/html": [
       "<div>\n",
       "<style scoped>\n",
       "    .dataframe tbody tr th:only-of-type {\n",
       "        vertical-align: middle;\n",
       "    }\n",
       "\n",
       "    .dataframe tbody tr th {\n",
       "        vertical-align: top;\n",
       "    }\n",
       "\n",
       "    .dataframe thead th {\n",
       "        text-align: right;\n",
       "    }\n",
       "</style>\n",
       "<table border=\"1\" class=\"dataframe\">\n",
       "  <thead>\n",
       "    <tr style=\"text-align: right;\">\n",
       "      <th></th>\n",
       "      <th>dbn</th>\n",
       "      <th>student_id</th>\n",
       "      <th>dob</th>\n",
       "      <th>sex</th>\n",
       "      <th>ethnicity</th>\n",
       "      <th>poverty</th>\n",
       "      <th>admit_date</th>\n",
       "      <th>home_lang</th>\n",
       "      <th>grade_level</th>\n",
       "      <th>iep_spec_ed_flg</th>\n",
       "      <th>...</th>\n",
       "      <th>other</th>\n",
       "      <th>white</th>\n",
       "      <th>swd</th>\n",
       "      <th>ell</th>\n",
       "      <th>frl</th>\n",
       "      <th>district</th>\n",
       "      <th>borough</th>\n",
       "      <th>year</th>\n",
       "      <th>grade_cat</th>\n",
       "      <th>swd_flg</th>\n",
       "    </tr>\n",
       "  </thead>\n",
       "  <tbody>\n",
       "    <tr>\n",
       "      <th>0</th>\n",
       "      <td>26Q495</td>\n",
       "      <td>200000024</td>\n",
       "      <td>19941228</td>\n",
       "      <td>F</td>\n",
       "      <td>Asian</td>\n",
       "      <td>1</td>\n",
       "      <td>20110702</td>\n",
       "      <td>MN</td>\n",
       "      <td>12</td>\n",
       "      <td>NaN</td>\n",
       "      <td>...</td>\n",
       "      <td>0</td>\n",
       "      <td>0</td>\n",
       "      <td>0</td>\n",
       "      <td>0</td>\n",
       "      <td>1</td>\n",
       "      <td>26</td>\n",
       "      <td>Queens</td>\n",
       "      <td>2012-2013</td>\n",
       "      <td>HS</td>\n",
       "      <td>N</td>\n",
       "    </tr>\n",
       "    <tr>\n",
       "      <th>1</th>\n",
       "      <td>01M515</td>\n",
       "      <td>200000107</td>\n",
       "      <td>19950207</td>\n",
       "      <td>F</td>\n",
       "      <td>Hispanic</td>\n",
       "      <td>1</td>\n",
       "      <td>20121010</td>\n",
       "      <td>SP</td>\n",
       "      <td>11</td>\n",
       "      <td>NaN</td>\n",
       "      <td>...</td>\n",
       "      <td>0</td>\n",
       "      <td>0</td>\n",
       "      <td>0</td>\n",
       "      <td>0</td>\n",
       "      <td>1</td>\n",
       "      <td>1</td>\n",
       "      <td>Manhattan</td>\n",
       "      <td>2012-2013</td>\n",
       "      <td>HS</td>\n",
       "      <td>N</td>\n",
       "    </tr>\n",
       "    <tr>\n",
       "      <th>2</th>\n",
       "      <td>02M305</td>\n",
       "      <td>200000123</td>\n",
       "      <td>19950818</td>\n",
       "      <td>F</td>\n",
       "      <td>Hispanic</td>\n",
       "      <td>1</td>\n",
       "      <td>20110702</td>\n",
       "      <td>SP</td>\n",
       "      <td>10</td>\n",
       "      <td>Y</td>\n",
       "      <td>...</td>\n",
       "      <td>0</td>\n",
       "      <td>0</td>\n",
       "      <td>1</td>\n",
       "      <td>1</td>\n",
       "      <td>1</td>\n",
       "      <td>2</td>\n",
       "      <td>Manhattan</td>\n",
       "      <td>2012-2013</td>\n",
       "      <td>HS</td>\n",
       "      <td>Y</td>\n",
       "    </tr>\n",
       "    <tr>\n",
       "      <th>3</th>\n",
       "      <td>01M450</td>\n",
       "      <td>200000156</td>\n",
       "      <td>19961018</td>\n",
       "      <td>F</td>\n",
       "      <td>Hispanic</td>\n",
       "      <td>1</td>\n",
       "      <td>20110702</td>\n",
       "      <td>SP</td>\n",
       "      <td>10</td>\n",
       "      <td>NaN</td>\n",
       "      <td>...</td>\n",
       "      <td>0</td>\n",
       "      <td>0</td>\n",
       "      <td>0</td>\n",
       "      <td>0</td>\n",
       "      <td>1</td>\n",
       "      <td>1</td>\n",
       "      <td>Manhattan</td>\n",
       "      <td>2012-2013</td>\n",
       "      <td>HS</td>\n",
       "      <td>N</td>\n",
       "    </tr>\n",
       "    <tr>\n",
       "      <th>4</th>\n",
       "      <td>01M450</td>\n",
       "      <td>200000180</td>\n",
       "      <td>19960522</td>\n",
       "      <td>M</td>\n",
       "      <td>Hispanic</td>\n",
       "      <td>1</td>\n",
       "      <td>20110702</td>\n",
       "      <td>NO</td>\n",
       "      <td>10</td>\n",
       "      <td>Y</td>\n",
       "      <td>...</td>\n",
       "      <td>0</td>\n",
       "      <td>0</td>\n",
       "      <td>1</td>\n",
       "      <td>0</td>\n",
       "      <td>1</td>\n",
       "      <td>1</td>\n",
       "      <td>Manhattan</td>\n",
       "      <td>2012-2013</td>\n",
       "      <td>HS</td>\n",
       "      <td>Y</td>\n",
       "    </tr>\n",
       "  </tbody>\n",
       "</table>\n",
       "<p>5 rows × 41 columns</p>\n",
       "</div>"
      ],
      "text/plain": [
       "      dbn  student_id       dob sex ethnicity  poverty  admit_date home_lang  \\\n",
       "0  26Q495   200000024  19941228   F     Asian        1    20110702        MN   \n",
       "1  01M515   200000107  19950207   F  Hispanic        1    20121010        SP   \n",
       "2  02M305   200000123  19950818   F  Hispanic        1    20110702        SP   \n",
       "3  01M450   200000156  19961018   F  Hispanic        1    20110702        SP   \n",
       "4  01M450   200000180  19960522   M  Hispanic        1    20110702        NO   \n",
       "\n",
       "  grade_level iep_spec_ed_flg  ... other  white  swd  ell  frl  district  \\\n",
       "0          12             NaN  ...     0      0    0    0    1        26   \n",
       "1          11             NaN  ...     0      0    0    0    1         1   \n",
       "2          10               Y  ...     0      0    1    1    1         2   \n",
       "3          10             NaN  ...     0      0    0    0    1         1   \n",
       "4          10               Y  ...     0      0    1    0    1         1   \n",
       "\n",
       "     borough       year  grade_cat  swd_flg  \n",
       "0     Queens  2012-2013         HS        N  \n",
       "1  Manhattan  2012-2013         HS        N  \n",
       "2  Manhattan  2012-2013         HS        Y  \n",
       "3  Manhattan  2012-2013         HS        N  \n",
       "4  Manhattan  2012-2013         HS        Y  \n",
       "\n",
       "[5 rows x 41 columns]"
      ]
     },
     "execution_count": 13,
     "metadata": {},
     "output_type": "execute_result"
    }
   ],
   "source": [
    "enroll_final.head()"
   ]
  },
  {
   "cell_type": "code",
   "execution_count": 349,
   "metadata": {},
   "outputs": [],
   "source": [
    "#Source: https://stackoverflow.com/questions/26837998/pandas-replace-nan-with-blank-empty-string\n",
    "#df.column1 = df.column1.fillna('')\n",
    "#enroll_final['swd_flg']=enroll_final.iep_spec_ed_flg.fillna('N')"
   ]
  },
  {
   "cell_type": "code",
   "execution_count": 14,
   "metadata": {},
   "outputs": [],
   "source": [
    "#Source: https://stackoverflow.com/questions/39291499/how-to-concatenate-multiple-column-values-into-a-single-column-in-panda-datafram\n",
    "#df['combined']=df['bar'].astype(str)+'_'+df['foo']+'_'+df['new']\n",
    "enroll_final['ethnicity_swd_flg']=enroll_final['ethnicity'].astype(str)+'_'+enroll_final['swd_flg'].astype(str)\n",
    "enroll_final['ethnicity_swd_flg_sex']=enroll_final['ethnicity'].astype(str)+'_'+enroll_final['swd_flg'].astype(str)+'_'+enroll_final['sex'].astype(str)\n",
    "\n",
    "enroll_final['ethnicity_swd_flg_sex_grade_cat']=enroll_final['ethnicity'].astype(str)+'_'+enroll_final['swd_flg'].astype(str)+'_'+enroll_final['sex'].astype(str)+'_'+enroll_final['grade_cat'].astype(str)\n",
    "\n"
   ]
  },
  {
   "cell_type": "code",
   "execution_count": 15,
   "metadata": {},
   "outputs": [],
   "source": [
    "#Source: https://www.listendata.com/2019/07/how-to-filter-pandas-dataframe.html\n",
    "#Drop all PK students and D84/charter schools from the files (f1)\n",
    "\n",
    "enroll_final = enroll_final.query('grade_level != \"PK\" & district != \"84\"')"
   ]
  },
  {
   "cell_type": "code",
   "execution_count": 16,
   "metadata": {},
   "outputs": [
    {
     "data": {
      "text/plain": [
       "(7394663, 44)"
      ]
     },
     "execution_count": 16,
     "metadata": {},
     "output_type": "execute_result"
    }
   ],
   "source": [
    "enroll_final.shape"
   ]
  },
  {
   "cell_type": "code",
   "execution_count": 17,
   "metadata": {},
   "outputs": [],
   "source": [
    "#Source: https://stackoverflow.com/questions/27965295/dropping-rows-from-dataframe-based-on-a-not-in-condition\n",
    "#df = df[~df['date'].isin(a)]\n",
    "\n",
    "dbn_to_remove = [\"75M501\", \"75K403\", \"75K503\", \"75M401\", \"75M444\", \"75R405\", \"75R505\", \"75Q404\", \"75Q504\", \"75X402\", \"75X502\"]\n",
    "\n",
    "#enroll_1213 = enroll_1213[~enroll_1213['dbn'].isin(dbn_to_remove)]\n",
    "#enroll_1314 = enroll_1314[~enroll_1314['dbn'].isin(dbn_to_remove)]\n",
    "#enroll_1415 = enroll_1415[~enroll_1415['dbn'].isin(dbn_to_remove)]\n",
    "#enroll_1516 = enroll_1516[~enroll_1516['dbn'].isin(dbn_to_remove)]\n",
    "#enroll_1617 = enroll_1617[~enroll_1617['dbn'].isin(dbn_to_remove)]\n",
    "#enroll_1718 = enroll_1718[~enroll_1718['dbn'].isin(dbn_to_remove)]\n",
    "#enroll_1819 = enroll_1819[~enroll_1819['dbn'].isin(dbn_to_remove)]\n",
    "#enroll_1920 = enroll_1920[~enroll_1920['dbn'].isin(dbn_to_remove)]\n",
    "\n",
    "enroll_final = enroll_final[~enroll_final['dbn'].isin(dbn_to_remove)]"
   ]
  },
  {
   "cell_type": "code",
   "execution_count": 22,
   "metadata": {},
   "outputs": [
    {
     "data": {
      "text/html": [
       "<div>\n",
       "<style scoped>\n",
       "    .dataframe tbody tr th:only-of-type {\n",
       "        vertical-align: middle;\n",
       "    }\n",
       "\n",
       "    .dataframe tbody tr th {\n",
       "        vertical-align: top;\n",
       "    }\n",
       "\n",
       "    .dataframe thead th {\n",
       "        text-align: right;\n",
       "    }\n",
       "</style>\n",
       "<table border=\"1\" class=\"dataframe\">\n",
       "  <thead>\n",
       "    <tr style=\"text-align: right;\">\n",
       "      <th></th>\n",
       "      <th>dbn</th>\n",
       "      <th>student_id</th>\n",
       "      <th>dob</th>\n",
       "      <th>sex</th>\n",
       "      <th>ethnicity</th>\n",
       "      <th>poverty</th>\n",
       "      <th>admit_date</th>\n",
       "      <th>home_lang</th>\n",
       "      <th>grade_level</th>\n",
       "      <th>iep_spec_ed_flg</th>\n",
       "      <th>...</th>\n",
       "      <th>ell</th>\n",
       "      <th>frl</th>\n",
       "      <th>district</th>\n",
       "      <th>borough</th>\n",
       "      <th>year</th>\n",
       "      <th>grade_cat</th>\n",
       "      <th>swd_flg</th>\n",
       "      <th>ethnicity_swd_flg</th>\n",
       "      <th>ethnicity_swd_flg_sex</th>\n",
       "      <th>ethnicity_swd_flg_sex_grade_cat</th>\n",
       "    </tr>\n",
       "  </thead>\n",
       "  <tbody>\n",
       "    <tr>\n",
       "      <th>0</th>\n",
       "      <td>26Q495</td>\n",
       "      <td>200000024</td>\n",
       "      <td>19941228</td>\n",
       "      <td>F</td>\n",
       "      <td>Asian</td>\n",
       "      <td>1</td>\n",
       "      <td>20110702</td>\n",
       "      <td>MN</td>\n",
       "      <td>12</td>\n",
       "      <td>NaN</td>\n",
       "      <td>...</td>\n",
       "      <td>0</td>\n",
       "      <td>1</td>\n",
       "      <td>26</td>\n",
       "      <td>Queens</td>\n",
       "      <td>2012-2013</td>\n",
       "      <td>HS</td>\n",
       "      <td>N</td>\n",
       "      <td>Asian_N</td>\n",
       "      <td>Asian_N_F</td>\n",
       "      <td>Asian_N_F_HS</td>\n",
       "    </tr>\n",
       "    <tr>\n",
       "      <th>1</th>\n",
       "      <td>01M515</td>\n",
       "      <td>200000107</td>\n",
       "      <td>19950207</td>\n",
       "      <td>F</td>\n",
       "      <td>Hispanic</td>\n",
       "      <td>1</td>\n",
       "      <td>20121010</td>\n",
       "      <td>SP</td>\n",
       "      <td>11</td>\n",
       "      <td>NaN</td>\n",
       "      <td>...</td>\n",
       "      <td>0</td>\n",
       "      <td>1</td>\n",
       "      <td>1</td>\n",
       "      <td>Manhattan</td>\n",
       "      <td>2012-2013</td>\n",
       "      <td>HS</td>\n",
       "      <td>N</td>\n",
       "      <td>Hispanic_N</td>\n",
       "      <td>Hispanic_N_F</td>\n",
       "      <td>Hispanic_N_F_HS</td>\n",
       "    </tr>\n",
       "    <tr>\n",
       "      <th>2</th>\n",
       "      <td>02M305</td>\n",
       "      <td>200000123</td>\n",
       "      <td>19950818</td>\n",
       "      <td>F</td>\n",
       "      <td>Hispanic</td>\n",
       "      <td>1</td>\n",
       "      <td>20110702</td>\n",
       "      <td>SP</td>\n",
       "      <td>10</td>\n",
       "      <td>Y</td>\n",
       "      <td>...</td>\n",
       "      <td>1</td>\n",
       "      <td>1</td>\n",
       "      <td>2</td>\n",
       "      <td>Manhattan</td>\n",
       "      <td>2012-2013</td>\n",
       "      <td>HS</td>\n",
       "      <td>Y</td>\n",
       "      <td>Hispanic_Y</td>\n",
       "      <td>Hispanic_Y_F</td>\n",
       "      <td>Hispanic_Y_F_HS</td>\n",
       "    </tr>\n",
       "    <tr>\n",
       "      <th>3</th>\n",
       "      <td>01M450</td>\n",
       "      <td>200000156</td>\n",
       "      <td>19961018</td>\n",
       "      <td>F</td>\n",
       "      <td>Hispanic</td>\n",
       "      <td>1</td>\n",
       "      <td>20110702</td>\n",
       "      <td>SP</td>\n",
       "      <td>10</td>\n",
       "      <td>NaN</td>\n",
       "      <td>...</td>\n",
       "      <td>0</td>\n",
       "      <td>1</td>\n",
       "      <td>1</td>\n",
       "      <td>Manhattan</td>\n",
       "      <td>2012-2013</td>\n",
       "      <td>HS</td>\n",
       "      <td>N</td>\n",
       "      <td>Hispanic_N</td>\n",
       "      <td>Hispanic_N_F</td>\n",
       "      <td>Hispanic_N_F_HS</td>\n",
       "    </tr>\n",
       "    <tr>\n",
       "      <th>4</th>\n",
       "      <td>01M450</td>\n",
       "      <td>200000180</td>\n",
       "      <td>19960522</td>\n",
       "      <td>M</td>\n",
       "      <td>Hispanic</td>\n",
       "      <td>1</td>\n",
       "      <td>20110702</td>\n",
       "      <td>NO</td>\n",
       "      <td>10</td>\n",
       "      <td>Y</td>\n",
       "      <td>...</td>\n",
       "      <td>0</td>\n",
       "      <td>1</td>\n",
       "      <td>1</td>\n",
       "      <td>Manhattan</td>\n",
       "      <td>2012-2013</td>\n",
       "      <td>HS</td>\n",
       "      <td>Y</td>\n",
       "      <td>Hispanic_Y</td>\n",
       "      <td>Hispanic_Y_M</td>\n",
       "      <td>Hispanic_Y_M_HS</td>\n",
       "    </tr>\n",
       "  </tbody>\n",
       "</table>\n",
       "<p>5 rows × 44 columns</p>\n",
       "</div>"
      ],
      "text/plain": [
       "      dbn  student_id       dob sex ethnicity  poverty  admit_date home_lang  \\\n",
       "0  26Q495   200000024  19941228   F     Asian        1    20110702        MN   \n",
       "1  01M515   200000107  19950207   F  Hispanic        1    20121010        SP   \n",
       "2  02M305   200000123  19950818   F  Hispanic        1    20110702        SP   \n",
       "3  01M450   200000156  19961018   F  Hispanic        1    20110702        SP   \n",
       "4  01M450   200000180  19960522   M  Hispanic        1    20110702        NO   \n",
       "\n",
       "  grade_level iep_spec_ed_flg  ... ell  frl  district    borough       year  \\\n",
       "0          12             NaN  ...   0    1        26     Queens  2012-2013   \n",
       "1          11             NaN  ...   0    1         1  Manhattan  2012-2013   \n",
       "2          10               Y  ...   1    1         2  Manhattan  2012-2013   \n",
       "3          10             NaN  ...   0    1         1  Manhattan  2012-2013   \n",
       "4          10               Y  ...   0    1         1  Manhattan  2012-2013   \n",
       "\n",
       "   grade_cat  swd_flg  ethnicity_swd_flg  ethnicity_swd_flg_sex  \\\n",
       "0         HS        N            Asian_N              Asian_N_F   \n",
       "1         HS        N         Hispanic_N           Hispanic_N_F   \n",
       "2         HS        Y         Hispanic_Y           Hispanic_Y_F   \n",
       "3         HS        N         Hispanic_N           Hispanic_N_F   \n",
       "4         HS        Y         Hispanic_Y           Hispanic_Y_M   \n",
       "\n",
       "   ethnicity_swd_flg_sex_grade_cat  \n",
       "0                     Asian_N_F_HS  \n",
       "1                  Hispanic_N_F_HS  \n",
       "2                  Hispanic_Y_F_HS  \n",
       "3                  Hispanic_N_F_HS  \n",
       "4                  Hispanic_Y_M_HS  \n",
       "\n",
       "[5 rows x 44 columns]"
      ]
     },
     "execution_count": 22,
     "metadata": {},
     "output_type": "execute_result"
    }
   ],
   "source": [
    "enroll_final.head()"
   ]
  },
  {
   "cell_type": "code",
   "execution_count": 18,
   "metadata": {},
   "outputs": [
    {
     "data": {
      "text/plain": [
       "(7390281, 44)"
      ]
     },
     "execution_count": 18,
     "metadata": {},
     "output_type": "execute_result"
    }
   ],
   "source": [
    "enroll_final.shape"
   ]
  },
  {
   "cell_type": "code",
   "execution_count": 358,
   "metadata": {
    "scrolled": true
   },
   "outputs": [
    {
     "data": {
      "image/png": "[encoded data removed]",
      "text/plain": [
       "<Figure size 432x288 with 1 Axes>"
      ]
     },
     "metadata": {
      "needs_background": "light"
     },
     "output_type": "display_data"
    }
   ],
   "source": [
    "enroll_final.groupby('year').total.sum().plot(kind='bar');"
   ]
  },
  {
   "cell_type": "code",
   "execution_count": 281,
   "metadata": {},
   "outputs": [
    {
     "data": {
      "text/plain": [
       "<AxesSubplot:title={'center':'Title'}, xlabel='year,ethnicity'>"
      ]
     },
     "execution_count": 281,
     "metadata": {},
     "output_type": "execute_result"
    },
    {
     "data": {
      "image/png": "[encoded data removed]",
      "text/plain": [
       "<Figure size 432x288 with 1 Axes>"
      ]
     },
     "metadata": {
      "needs_background": "light"
     },
     "output_type": "display_data"
    }
   ],
   "source": [
    "enroll_final.groupby('year')['ethnicity'].value_counts().plot(kind='bar', title='Title', alpha=.7 )"
   ]
  },
  {
   "cell_type": "code",
   "execution_count": 282,
   "metadata": {},
   "outputs": [],
   "source": [
    "#enroll_final.plot(x = 'black', y='swd', kind='scatter');"
   ]
  },
  {
   "cell_type": "code",
   "execution_count": 283,
   "metadata": {
    "scrolled": false
   },
   "outputs": [
    {
     "data": {
      "image/png": "[encoded data removed]",
      "text/plain": [
       "<Figure size 432x288 with 1 Axes>"
      ]
     },
     "metadata": {
      "needs_background": "light"
     },
     "output_type": "display_data"
    }
   ],
   "source": [
    "enroll_final.groupby(['year', 'ethnicity']).total.sum().plot(kind='bar', alpha=0.7);"
   ]
  },
  {
   "cell_type": "code",
   "execution_count": 126,
   "metadata": {
    "scrolled": false
   },
   "outputs": [
    {
     "data": {
      "text/plain": [
       "year\n",
       "2012-2013    934824\n",
       "2013-2014    922111\n",
       "2014-2015    916840\n",
       "2015-2016    924770\n",
       "2016-2017    924782\n",
       "2017-2018    918866\n",
       "2018-2019    933150\n",
       "2019-2020    914938\n",
       "Name: year, dtype: int64"
      ]
     },
     "execution_count": 126,
     "metadata": {},
     "output_type": "execute_result"
    }
   ],
   "source": [
    "total_enroll = enroll_final.groupby(['year']).year.count()\n",
    "total_enroll"
   ]
  },
  {
   "cell_type": "code",
   "execution_count": 200,
   "metadata": {
    "scrolled": false
   },
   "outputs": [
    {
     "data": {
      "text/plain": [
       "year       ethnicity\n",
       "2012-2013  Asian        150240\n",
       "           Black        254570\n",
       "           Hispanic     378530\n",
       "           Other         12021\n",
       "           White        139463\n",
       "2013-2014  Asian        150867\n",
       "           Black        241826\n",
       "           Hispanic     375256\n",
       "           Other         15660\n",
       "           White        138502\n",
       "2014-2015  Asian        154602\n",
       "           Black        229781\n",
       "           Hispanic     374413\n",
       "           Other         16750\n",
       "           White        141294\n",
       "2015-2016  Asian        156829\n",
       "           Black        225563\n",
       "           Hispanic     378836\n",
       "           Other         19192\n",
       "           White        144350\n",
       "2016-2017  Asian        158962\n",
       "           Black        220052\n",
       "           Hispanic     379771\n",
       "           Other         20675\n",
       "           White        145322\n",
       "2017-2018  Asian        161599\n",
       "           Black        211884\n",
       "           Hispanic     377441\n",
       "           Other         22240\n",
       "           White        145702\n",
       "2018-2019  Asian        167021\n",
       "           Black        208892\n",
       "           Hispanic     382963\n",
       "           Other         25178\n",
       "           White        149096\n",
       "2019-2020  Asian        166679\n",
       "           Black        197864\n",
       "           Hispanic     377239\n",
       "           Other         25424\n",
       "           White        147732\n",
       "Name: ethnicity, dtype: int64"
      ]
     },
     "execution_count": 200,
     "metadata": {},
     "output_type": "execute_result"
    }
   ],
   "source": [
    "race_enroll = enroll_final.groupby(['year', 'ethnicity']).ethnicity.count()\n",
    "race_enroll"
   ]
  },
  {
   "cell_type": "code",
   "execution_count": 26,
   "metadata": {},
   "outputs": [
    {
     "data": {
      "text/plain": [
       "year       ethnicity\n",
       "2012-2013  Asian        16.071474\n",
       "           Black        27.231864\n",
       "           Hispanic     40.492114\n",
       "           Other         1.285911\n",
       "           White        14.918637\n",
       "2013-2014  Asian        16.361045\n",
       "           Black        26.225259\n",
       "           Hispanic     40.695318\n",
       "           Other         1.698277\n",
       "           White        15.020101\n",
       "2014-2015  Asian        16.862484\n",
       "           Black        25.062279\n",
       "           Hispanic     40.837333\n",
       "           Other         1.826927\n",
       "           White        15.410977\n",
       "2015-2016  Asian        16.958703\n",
       "           Black        24.391254\n",
       "           Hispanic     40.965429\n",
       "           Other         2.075327\n",
       "           White        15.609287\n",
       "2016-2017  Asian        17.189132\n",
       "           Black        23.795013\n",
       "           Hispanic     41.066003\n",
       "           Other         2.235662\n",
       "           White        15.714190\n",
       "2017-2018  Asian        17.586786\n",
       "           Black        23.059293\n",
       "           Hispanic     41.076827\n",
       "           Other         2.420375\n",
       "           White        15.856719\n",
       "2018-2019  Asian        17.898623\n",
       "           Black        22.385683\n",
       "           Hispanic     41.039811\n",
       "           Other         2.698173\n",
       "           White        15.977710\n",
       "2019-2020  Asian        18.217519\n",
       "           Black        21.625946\n",
       "           Hispanic     41.231100\n",
       "           Other         2.778768\n",
       "           White        16.146668\n",
       "dtype: float64"
      ]
     },
     "execution_count": 26,
     "metadata": {},
     "output_type": "execute_result"
    }
   ],
   "source": [
    "race_percents = (race_enroll/total_enroll)*100\n",
    "race_percents"
   ]
  },
  {
   "cell_type": "code",
   "execution_count": 21,
   "metadata": {
    "scrolled": false
   },
   "outputs": [
    {
     "data": {
      "text/plain": [
       "year       swd_flg\n",
       "2012-2013  N          765097\n",
       "           Y          169727\n",
       "2013-2014  N          743211\n",
       "           Y          178900\n",
       "2014-2015  N          738699\n",
       "           Y          178141\n",
       "2015-2016  N          734782\n",
       "           Y          189988\n",
       "2016-2017  N          728105\n",
       "           Y          196677\n",
       "2017-2018  N          718452\n",
       "           Y          200414\n",
       "2018-2019  N          733181\n",
       "           Y          199969\n",
       "2019-2020  N          714950\n",
       "           Y          199988\n",
       "Name: ethnicity, dtype: int64"
      ]
     },
     "execution_count": 21,
     "metadata": {},
     "output_type": "execute_result"
    }
   ],
   "source": [
    "swd_flg_enroll = enroll_final.groupby(['year', 'swd_flg']).ethnicity.count()\n",
    "swd_flg_enroll"
   ]
  },
  {
   "cell_type": "code",
   "execution_count": 64,
   "metadata": {
    "scrolled": true
   },
   "outputs": [
    {
     "data": {
      "text/plain": [
       "year       swd_flg\n",
       "2012-2013  N          81.843962\n",
       "           Y          18.156038\n",
       "2013-2014  N          80.598865\n",
       "           Y          19.401135\n",
       "2014-2015  N          80.570110\n",
       "           Y          19.429890\n",
       "2015-2016  N          79.455648\n",
       "           Y          20.544352\n",
       "2016-2017  N          78.732609\n",
       "           Y          21.267391\n",
       "2017-2018  N          78.188985\n",
       "           Y          21.811015\n",
       "2018-2019  N          78.570541\n",
       "           Y          21.429459\n",
       "2019-2020  N          78.141907\n",
       "           Y          21.858093\n",
       "dtype: float64"
      ]
     },
     "execution_count": 64,
     "metadata": {},
     "output_type": "execute_result"
    }
   ],
   "source": [
    "swd_percents = (swd_flg_enroll/total_enroll)*100\n",
    "swd_percents"
   ]
  },
  {
   "cell_type": "code",
   "execution_count": 127,
   "metadata": {
    "scrolled": true
   },
   "outputs": [
    {
     "data": {
      "text/plain": [
       "year       swd_flg\n",
       "2012-2013  Y          169727\n",
       "2013-2014  Y          178900\n",
       "2014-2015  Y          178141\n",
       "2015-2016  Y          189988\n",
       "2016-2017  Y          196677\n",
       "2017-2018  Y          200414\n",
       "2018-2019  Y          199969\n",
       "2019-2020  Y          199988\n",
       "Name: ethnicity, dtype: int64"
      ]
     },
     "execution_count": 127,
     "metadata": {},
     "output_type": "execute_result"
    }
   ],
   "source": [
    "swd_y = enroll_final.query('swd_flg == \"Y\"')\n",
    "swd_y_enroll = swd_y.groupby(['year', 'swd_flg']).swd_flg.count()\n",
    "swd_y_enroll"
   ]
  },
  {
   "cell_type": "code",
   "execution_count": 129,
   "metadata": {},
   "outputs": [
    {
     "data": {
      "text/plain": [
       "year       swd_flg\n",
       "2012-2013  Y          18.156038\n",
       "2013-2014  Y          19.401135\n",
       "2014-2015  Y          19.429890\n",
       "2015-2016  Y          20.544352\n",
       "2016-2017  Y          21.267391\n",
       "2017-2018  Y          21.811015\n",
       "2018-2019  Y          21.429459\n",
       "2019-2020  Y          21.858093\n",
       "dtype: float64"
      ]
     },
     "execution_count": 129,
     "metadata": {},
     "output_type": "execute_result"
    }
   ],
   "source": [
    "swd_y_percents = (swd_y_enroll/total_enroll)*100\n",
    "swd_y_percents"
   ]
  },
  {
   "cell_type": "code",
   "execution_count": 128,
   "metadata": {
    "scrolled": true
   },
   "outputs": [
    {
     "data": {
      "text/plain": [
       "year       swd_flg\n",
       "2012-2013  N          765097\n",
       "2013-2014  N          743211\n",
       "2014-2015  N          738699\n",
       "2015-2016  N          734782\n",
       "2016-2017  N          728105\n",
       "2017-2018  N          718452\n",
       "2018-2019  N          733181\n",
       "2019-2020  N          714950\n",
       "Name: swd_flg, dtype: int64"
      ]
     },
     "execution_count": 128,
     "metadata": {},
     "output_type": "execute_result"
    }
   ],
   "source": [
    "swd_n = enroll_final.query('swd_flg == \"N\"')\n",
    "swd_n_enroll = swd_n.groupby(['year', 'swd_flg']).swd_flg.count()\n",
    "swd_n_enroll"
   ]
  },
  {
   "cell_type": "code",
   "execution_count": 130,
   "metadata": {},
   "outputs": [
    {
     "data": {
      "text/plain": [
       "year       swd_flg\n",
       "2012-2013  N          81.843962\n",
       "2013-2014  N          80.598865\n",
       "2014-2015  N          80.570110\n",
       "2015-2016  N          79.455648\n",
       "2016-2017  N          78.732609\n",
       "2017-2018  N          78.188985\n",
       "2018-2019  N          78.570541\n",
       "2019-2020  N          78.141907\n",
       "dtype: float64"
      ]
     },
     "execution_count": 130,
     "metadata": {},
     "output_type": "execute_result"
    }
   ],
   "source": [
    "swd_n_percents = (swd_n_enroll/total_enroll)*100\n",
    "swd_n_percents"
   ]
  },
  {
   "cell_type": "code",
   "execution_count": 23,
   "metadata": {
    "scrolled": true
   },
   "outputs": [
    {
     "data": {
      "text/plain": [
       "year       ethnicity_swd_flg\n",
       "2012-2013  Asian_N              139277\n",
       "           Asian_Y               10963\n",
       "           Black_N              201065\n",
       "           Black_Y               53505\n",
       "           Hispanic_N           298299\n",
       "                                 ...  \n",
       "2019-2020  Hispanic_Y            98768\n",
       "           Other_N               21078\n",
       "           Other_Y                4346\n",
       "           White_N              120731\n",
       "           White_Y               27001\n",
       "Name: ethnicity, Length: 80, dtype: int64"
      ]
     },
     "execution_count": 23,
     "metadata": {},
     "output_type": "execute_result"
    }
   ],
   "source": [
    "race_swd_flg_enroll = enroll_final.groupby(['year', 'ethnicity_swd_flg']).ethnicity.count()\n",
    "race_swd_flg_enroll"
   ]
  },
  {
   "cell_type": "code",
   "execution_count": 24,
   "metadata": {
    "scrolled": true
   },
   "outputs": [
    {
     "data": {
      "text/plain": [
       "year       ethnicity_swd_flg_sex\n",
       "2012-2013  Asian_N_F                 68748\n",
       "           Asian_N_M                 70529\n",
       "           Asian_Y_F                  3391\n",
       "           Asian_Y_M                  7572\n",
       "           Black_N_F                106619\n",
       "                                     ...  \n",
       "2019-2020  Other_Y_M                  2870\n",
       "           White_N_F                 61940\n",
       "           White_N_M                 58791\n",
       "           White_Y_F                  8806\n",
       "           White_Y_M                 18195\n",
       "Name: ethnicity, Length: 167, dtype: int64"
      ]
     },
     "execution_count": 24,
     "metadata": {},
     "output_type": "execute_result"
    }
   ],
   "source": [
    "race_swd_flg_sex_enroll = enroll_final.groupby(['year', 'ethnicity_swd_flg_sex']).ethnicity.count()\n",
    "race_swd_flg_sex_enroll"
   ]
  },
  {
   "cell_type": "code",
   "execution_count": 25,
   "metadata": {},
   "outputs": [
    {
     "data": {
      "text/plain": [
       "year       ethnicity_swd_flg_sex_grade_cat\n",
       "2012-2013  Asian_N_F_3-5                      16010\n",
       "           Asian_N_F_HS                       16435\n",
       "           Asian_N_F_K-2                      11198\n",
       "           Asian_N_F_MS                       15279\n",
       "           Asian_N_F_Other                     9826\n",
       "                                              ...  \n",
       "2019-2020  White_Y_M_3-5                       4751\n",
       "           White_Y_M_HS                        4684\n",
       "           White_Y_M_K-2                       3189\n",
       "           White_Y_M_MS                        3945\n",
       "           White_Y_M_Other                     1626\n",
       "Name: ethnicity, Length: 807, dtype: int64"
      ]
     },
     "execution_count": 25,
     "metadata": {},
     "output_type": "execute_result"
    }
   ],
   "source": [
    "race_swd_flg_sex_grade_cat_enroll = enroll_final.groupby(['year', 'ethnicity_swd_flg_sex_grade_cat']).ethnicity.count()\n",
    "race_swd_flg_sex_grade_cat_enroll"
   ]
  },
  {
   "cell_type": "code",
   "execution_count": 27,
   "metadata": {},
   "outputs": [],
   "source": [
    "#counts = enroll_final.groupby(['year', 'ethnicity']).ethnicity.count()\n",
    "#totals = enroll_final.groupby(['year']).borough.count()\n",
    "#race_enroll_percents = (counts/totals) * 100\n",
    "#race_enroll_percents"
   ]
  },
  {
   "cell_type": "code",
   "execution_count": 29,
   "metadata": {
    "scrolled": true
   },
   "outputs": [
    {
     "data": {
      "image/png": "[encoded data removed]",
      "text/plain": [
       "<Figure size 1080x360 with 1 Axes>"
      ]
     },
     "metadata": {
      "needs_background": "light"
     },
     "output_type": "display_data"
    }
   ],
   "source": [
    "#Source: https://pythonbasics.org/matplotlib-bar-chart/\n",
    "#Source: https://stackoverflow.com/questions/10998621/rotate-axis-text-in-python-matplotlib\n",
    "#Source: https://stackoverflow.com/questions/40575067/matplotlib-bar-chart-space-out-bars/40575741\n",
    "race_percents.plot(kind='bar', title='Percent of Enrollment', alpha=0.7, figsize=(15, 5), align='edge', width=0.5)\n",
    "plt.xlabel(\"Year/Race\", fontsize=18)\n",
    "plt.ylabel(\"Percent\", fontsize=18)\n",
    "plt.xticks(rotation=90)\n",
    "plt.show()"
   ]
  },
  {
   "cell_type": "code",
   "execution_count": 286,
   "metadata": {},
   "outputs": [
    {
     "data": {
      "text/plain": [
       "year       swd\n",
       "2012-2013  0      81.887821\n",
       "           1      18.112179\n",
       "2013-2014  0      80.635412\n",
       "           1      19.364588\n",
       "2014-2015  0      80.602722\n",
       "           1      19.397278\n",
       "2015-2016  0      79.484412\n",
       "           1      20.515588\n",
       "2016-2017  0      78.732609\n",
       "           1      21.267391\n",
       "2017-2018  0      78.188985\n",
       "           1      21.811015\n",
       "2018-2019  0      78.570541\n",
       "           1      21.429459\n",
       "2019-2020  0      78.141907\n",
       "           1      21.858093\n",
       "Name: borough, dtype: float64"
      ]
     },
     "execution_count": 286,
     "metadata": {},
     "output_type": "execute_result"
    }
   ],
   "source": [
    "counts = enroll_final.groupby(['year', 'swd']).borough.count()\n",
    "totals = enroll_final.groupby(['year']).borough.count()\n",
    "swd_enroll_percents = (counts/totals) * 100\n",
    "swd_enroll_percents"
   ]
  },
  {
   "cell_type": "code",
   "execution_count": 287,
   "metadata": {
    "scrolled": true
   },
   "outputs": [
    {
     "data": {
      "image/png": "[encoded data removed]",
      "text/plain": [
       "<Figure size 1080x360 with 1 Axes>"
      ]
     },
     "metadata": {
      "needs_background": "light"
     },
     "output_type": "display_data"
    }
   ],
   "source": [
    "swd_enroll_percents.plot(kind='bar', title='Percent of Enrollment', alpha=0.7, figsize=(15, 5), align='edge', width=0.8)\n",
    "plt.xlabel(\"Year/Race\", fontsize=18)\n",
    "plt.ylabel(\"Percent\", fontsize=18)\n",
    "plt.xticks(rotation=90)\n",
    "plt.show()"
   ]
  },
  {
   "cell_type": "code",
   "execution_count": 288,
   "metadata": {},
   "outputs": [
    {
     "data": {
      "text/plain": [
       "year       ethnicity  swd\n",
       "2012-2013  Asian      0      14.906121\n",
       "                      1       1.165353\n",
       "           Black      0      21.515815\n",
       "                      1       5.716049\n",
       "           Hispanic   0      31.932963\n",
       "                               ...    \n",
       "2019-2020  Hispanic   1      10.795048\n",
       "           Other      0       2.303763\n",
       "                      1       0.475005\n",
       "           White      0      13.195539\n",
       "                      1       2.951129\n",
       "Length: 80, dtype: float64"
      ]
     },
     "execution_count": 288,
     "metadata": {},
     "output_type": "execute_result"
    }
   ],
   "source": [
    "counts = enroll_final.groupby(['year', 'ethnicity', 'swd']).ethnicity.count()\n",
    "totals = enroll_final.groupby(['year']).borough.count()\n",
    "race_swd_enroll_percents = (counts/totals) * 100\n",
    "race_swd_enroll_percents"
   ]
  },
  {
   "cell_type": "code",
   "execution_count": 289,
   "metadata": {},
   "outputs": [
    {
     "data": {
      "image/png": "[encoded data removed]",
      "text/plain": [
       "<Figure size 1080x360 with 1 Axes>"
      ]
     },
     "metadata": {
      "needs_background": "light"
     },
     "output_type": "display_data"
    }
   ],
   "source": [
    "race_swd_enroll_percents.plot(kind='bar', title='Percent of Enrollment', alpha=0.7, figsize=(15, 5), align='edge', width=0.8)\n",
    "plt.xlabel(\"Year/Race\", fontsize=18)\n",
    "plt.ylabel(\"Percent\", fontsize=18)\n",
    "plt.xticks(rotation=90)\n",
    "plt.legend()\n",
    "plt.show()"
   ]
  },
  {
   "cell_type": "code",
   "execution_count": 290,
   "metadata": {},
   "outputs": [],
   "source": [
    "#enroll_final.SibSp[survived].value_counts().plot(kind='bar', alpha=0.5, color='blue', label='survived')\n",
    "#df.SibSp[died].value_counts().plot(kind='bar', alpha=0.5, color='orange', label='died')\n",
    "#Plt.legend();\n"
   ]
  },
  {
   "cell_type": "code",
   "execution_count": 194,
   "metadata": {},
   "outputs": [],
   "source": [
    "#Pivot enroll data to get summary\n",
    "enroll_pivot = pd.DataFrame(enroll_final, columns= ['borough','year','ethnicity', 'sex', 'swd', 'grade_cat', 'total'])\n"
   ]
  },
  {
   "cell_type": "code",
   "execution_count": 220,
   "metadata": {
    "scrolled": true
   },
   "outputs": [
    {
     "data": {
      "text/html": [
       "<div>\n",
       "<style scoped>\n",
       "    .dataframe tbody tr th:only-of-type {\n",
       "        vertical-align: middle;\n",
       "    }\n",
       "\n",
       "    .dataframe tbody tr th {\n",
       "        vertical-align: top;\n",
       "    }\n",
       "\n",
       "    .dataframe thead tr th {\n",
       "        text-align: left;\n",
       "    }\n",
       "\n",
       "    .dataframe thead tr:last-of-type th {\n",
       "        text-align: right;\n",
       "    }\n",
       "</style>\n",
       "<table border=\"1\" class=\"dataframe\">\n",
       "  <thead>\n",
       "    <tr>\n",
       "      <th></th>\n",
       "      <th></th>\n",
       "      <th></th>\n",
       "      <th></th>\n",
       "      <th></th>\n",
       "      <th></th>\n",
       "      <th colspan=\"8\" halign=\"left\">total</th>\n",
       "    </tr>\n",
       "    <tr>\n",
       "      <th></th>\n",
       "      <th></th>\n",
       "      <th></th>\n",
       "      <th></th>\n",
       "      <th></th>\n",
       "      <th>year</th>\n",
       "      <th>2012-2013</th>\n",
       "      <th>2013-2014</th>\n",
       "      <th>2014-2015</th>\n",
       "      <th>2015-2016</th>\n",
       "      <th>2016-2017</th>\n",
       "      <th>2017-2018</th>\n",
       "      <th>2018-2019</th>\n",
       "      <th>2019-2020</th>\n",
       "    </tr>\n",
       "    <tr>\n",
       "      <th>year</th>\n",
       "      <th>borough</th>\n",
       "      <th>ethnicity</th>\n",
       "      <th>sex</th>\n",
       "      <th>swd</th>\n",
       "      <th>grade_cat</th>\n",
       "      <th></th>\n",
       "      <th></th>\n",
       "      <th></th>\n",
       "      <th></th>\n",
       "      <th></th>\n",
       "      <th></th>\n",
       "      <th></th>\n",
       "      <th></th>\n",
       "    </tr>\n",
       "  </thead>\n",
       "  <tbody>\n",
       "    <tr>\n",
       "      <th rowspan=\"5\" valign=\"top\">2012-2013</th>\n",
       "      <th rowspan=\"5\" valign=\"top\">Bronx</th>\n",
       "      <th rowspan=\"5\" valign=\"top\">Asian</th>\n",
       "      <th rowspan=\"5\" valign=\"top\">F</th>\n",
       "      <th rowspan=\"5\" valign=\"top\">0</th>\n",
       "      <th>3-5</th>\n",
       "      <td>919</td>\n",
       "      <td>0</td>\n",
       "      <td>0</td>\n",
       "      <td>0</td>\n",
       "      <td>0</td>\n",
       "      <td>0</td>\n",
       "      <td>0</td>\n",
       "      <td>0</td>\n",
       "    </tr>\n",
       "    <tr>\n",
       "      <th>HS</th>\n",
       "      <td>1030</td>\n",
       "      <td>0</td>\n",
       "      <td>0</td>\n",
       "      <td>0</td>\n",
       "      <td>0</td>\n",
       "      <td>0</td>\n",
       "      <td>0</td>\n",
       "      <td>0</td>\n",
       "    </tr>\n",
       "    <tr>\n",
       "      <th>K-2</th>\n",
       "      <td>627</td>\n",
       "      <td>0</td>\n",
       "      <td>0</td>\n",
       "      <td>0</td>\n",
       "      <td>0</td>\n",
       "      <td>0</td>\n",
       "      <td>0</td>\n",
       "      <td>0</td>\n",
       "    </tr>\n",
       "    <tr>\n",
       "      <th>MS</th>\n",
       "      <td>878</td>\n",
       "      <td>0</td>\n",
       "      <td>0</td>\n",
       "      <td>0</td>\n",
       "      <td>0</td>\n",
       "      <td>0</td>\n",
       "      <td>0</td>\n",
       "      <td>0</td>\n",
       "    </tr>\n",
       "    <tr>\n",
       "      <th>Other</th>\n",
       "      <td>570</td>\n",
       "      <td>0</td>\n",
       "      <td>0</td>\n",
       "      <td>0</td>\n",
       "      <td>0</td>\n",
       "      <td>0</td>\n",
       "      <td>0</td>\n",
       "      <td>0</td>\n",
       "    </tr>\n",
       "    <tr>\n",
       "      <th>...</th>\n",
       "      <th>...</th>\n",
       "      <th>...</th>\n",
       "      <th>...</th>\n",
       "      <th>...</th>\n",
       "      <th>...</th>\n",
       "      <td>...</td>\n",
       "      <td>...</td>\n",
       "      <td>...</td>\n",
       "      <td>...</td>\n",
       "      <td>...</td>\n",
       "      <td>...</td>\n",
       "      <td>...</td>\n",
       "      <td>...</td>\n",
       "    </tr>\n",
       "    <tr>\n",
       "      <th rowspan=\"5\" valign=\"top\">2019-2020</th>\n",
       "      <th rowspan=\"5\" valign=\"top\">Staten Island</th>\n",
       "      <th rowspan=\"5\" valign=\"top\">White</th>\n",
       "      <th rowspan=\"5\" valign=\"top\">M</th>\n",
       "      <th rowspan=\"5\" valign=\"top\">1</th>\n",
       "      <th>3-5</th>\n",
       "      <td>0</td>\n",
       "      <td>0</td>\n",
       "      <td>0</td>\n",
       "      <td>0</td>\n",
       "      <td>0</td>\n",
       "      <td>0</td>\n",
       "      <td>0</td>\n",
       "      <td>1029</td>\n",
       "    </tr>\n",
       "    <tr>\n",
       "      <th>HS</th>\n",
       "      <td>0</td>\n",
       "      <td>0</td>\n",
       "      <td>0</td>\n",
       "      <td>0</td>\n",
       "      <td>0</td>\n",
       "      <td>0</td>\n",
       "      <td>0</td>\n",
       "      <td>1216</td>\n",
       "    </tr>\n",
       "    <tr>\n",
       "      <th>K-2</th>\n",
       "      <td>0</td>\n",
       "      <td>0</td>\n",
       "      <td>0</td>\n",
       "      <td>0</td>\n",
       "      <td>0</td>\n",
       "      <td>0</td>\n",
       "      <td>0</td>\n",
       "      <td>681</td>\n",
       "    </tr>\n",
       "    <tr>\n",
       "      <th>MS</th>\n",
       "      <td>0</td>\n",
       "      <td>0</td>\n",
       "      <td>0</td>\n",
       "      <td>0</td>\n",
       "      <td>0</td>\n",
       "      <td>0</td>\n",
       "      <td>0</td>\n",
       "      <td>923</td>\n",
       "    </tr>\n",
       "    <tr>\n",
       "      <th>Other</th>\n",
       "      <td>0</td>\n",
       "      <td>0</td>\n",
       "      <td>0</td>\n",
       "      <td>0</td>\n",
       "      <td>0</td>\n",
       "      <td>0</td>\n",
       "      <td>0</td>\n",
       "      <td>319</td>\n",
       "    </tr>\n",
       "  </tbody>\n",
       "</table>\n",
       "<p>4000 rows × 8 columns</p>\n",
       "</div>"
      ],
      "text/plain": [
       "                                                        total            \\\n",
       "year                                                2012-2013 2013-2014   \n",
       "year      borough       ethnicity sex swd grade_cat                       \n",
       "2012-2013 Bronx         Asian     F   0   3-5             919         0   \n",
       "                                          HS             1030         0   \n",
       "                                          K-2             627         0   \n",
       "                                          MS              878         0   \n",
       "                                          Other           570         0   \n",
       "...                                                       ...       ...   \n",
       "2019-2020 Staten Island White     M   1   3-5               0         0   \n",
       "                                          HS                0         0   \n",
       "                                          K-2               0         0   \n",
       "                                          MS                0         0   \n",
       "                                          Other             0         0   \n",
       "\n",
       "                                                                         \\\n",
       "year                                                2014-2015 2015-2016   \n",
       "year      borough       ethnicity sex swd grade_cat                       \n",
       "2012-2013 Bronx         Asian     F   0   3-5               0         0   \n",
       "                                          HS                0         0   \n",
       "                                          K-2               0         0   \n",
       "                                          MS                0         0   \n",
       "                                          Other             0         0   \n",
       "...                                                       ...       ...   \n",
       "2019-2020 Staten Island White     M   1   3-5               0         0   \n",
       "                                          HS                0         0   \n",
       "                                          K-2               0         0   \n",
       "                                          MS                0         0   \n",
       "                                          Other             0         0   \n",
       "\n",
       "                                                                         \\\n",
       "year                                                2016-2017 2017-2018   \n",
       "year      borough       ethnicity sex swd grade_cat                       \n",
       "2012-2013 Bronx         Asian     F   0   3-5               0         0   \n",
       "                                          HS                0         0   \n",
       "                                          K-2               0         0   \n",
       "                                          MS                0         0   \n",
       "                                          Other             0         0   \n",
       "...                                                       ...       ...   \n",
       "2019-2020 Staten Island White     M   1   3-5               0         0   \n",
       "                                          HS                0         0   \n",
       "                                          K-2               0         0   \n",
       "                                          MS                0         0   \n",
       "                                          Other             0         0   \n",
       "\n",
       "                                                                         \n",
       "year                                                2018-2019 2019-2020  \n",
       "year      borough       ethnicity sex swd grade_cat                      \n",
       "2012-2013 Bronx         Asian     F   0   3-5               0         0  \n",
       "                                          HS                0         0  \n",
       "                                          K-2               0         0  \n",
       "                                          MS                0         0  \n",
       "                                          Other             0         0  \n",
       "...                                                       ...       ...  \n",
       "2019-2020 Staten Island White     M   1   3-5               0      1029  \n",
       "                                          HS                0      1216  \n",
       "                                          K-2               0       681  \n",
       "                                          MS                0       923  \n",
       "                                          Other             0       319  \n",
       "\n",
       "[4000 rows x 8 columns]"
      ]
     },
     "execution_count": 220,
     "metadata": {},
     "output_type": "execute_result"
    }
   ],
   "source": [
    "#Create aggregated data file to export to excel\n",
    "enroll_rawdata = enroll_pivot.pivot_table(index=['year','borough','ethnicity', 'sex', 'swd', 'grade_cat'], columns=['year'], values=['total'], aggfunc='sum', fill_value=0)\n",
    "enroll_rawdata"
   ]
  },
  {
   "cell_type": "code",
   "execution_count": 196,
   "metadata": {},
   "outputs": [],
   "source": [
    "#Export type pivot table to excel\n",
    "enroll_rawdata.to_excel(r\"/Users/holly/Desktop/12172020 Susp Dispro Enroll.xlsx\", sheet_name='enroll',header=True, merge_cells=False)"
   ]
  },
  {
   "cell_type": "code",
   "execution_count": 291,
   "metadata": {
    "scrolled": false
   },
   "outputs": [
    {
     "name": "stdout",
     "output_type": "stream",
     "text": [
      "                  total                                                    \\\n",
      "year          2012-2013 2013-2014 2014-2015 2015-2016 2016-2017 2017-2018   \n",
      "borough                                                                     \n",
      "Bronx            197109    195625    193964    193245    191577    189068   \n",
      "Brooklyn         275233    270707    266553    267263    266756    264501   \n",
      "Manhattan        139223    136091    135515    137743    137243    136071   \n",
      "Queens           266231    263838    264432    268075    270032    269971   \n",
      "Staten Island     57028     55850     56376     58444     59174     59255   \n",
      "\n",
      "                                   \n",
      "year          2018-2019 2019-2020  \n",
      "borough                            \n",
      "Bronx            190440    182465  \n",
      "Brooklyn         268711    264514  \n",
      "Manhattan        138585    137651  \n",
      "Queens           275338    270545  \n",
      "Staten Island     60076     59763  \n"
     ]
    }
   ],
   "source": [
    "#Pivot enroll data to get summary\n",
    "\n",
    "enroll_total = enroll_pivot.pivot_table(index=['borough'], columns=['year'], values=['total'], aggfunc='sum', fill_value=0)\n",
    "print(enroll_total)"
   ]
  },
  {
   "cell_type": "code",
   "execution_count": 292,
   "metadata": {},
   "outputs": [
    {
     "name": "stdout",
     "output_type": "stream",
     "text": [
      "                  total                                                  \\\n",
      "year          2012-2013                               2013-2014           \n",
      "ethnicity         Asian   Black Hispanic Other  White     Asian   Black   \n",
      "borough                                                                   \n",
      "Bronx              9038   55951   122112  1886   8122      8878   54565   \n",
      "Brooklyn          42938  107117    77990  2795  44393     44345  100422   \n",
      "Manhattan         18774   29786    65492  2526  22645     18584   28194   \n",
      "Queens            74855   53720    98426  4149  35081     74538   50996   \n",
      "Staten Island      4635    7996    14510   665  29222      4522    7649   \n",
      "\n",
      "                                     ...                                  \\\n",
      "year                                 ... 2018-2019                         \n",
      "ethnicity     Hispanic Other  White  ...     Asian  Black Hispanic Other   \n",
      "borough                              ...                                   \n",
      "Bronx           121479  2488   8215  ...     10249  47879   120271  2987   \n",
      "Brooklyn         77272  3702  44966  ...     51190  82393    77649  5997   \n",
      "Manhattan        63053  3148  23112  ...     19321  25269    61343  5459   \n",
      "Queens           98567  5486  34251  ...     79717  45545   106405  9247   \n",
      "Staten Island    14885   836  27958  ...      6544   7806    17295  1488   \n",
      "\n",
      "                                                             \n",
      "year                 2019-2020                               \n",
      "ethnicity      White     Asian  Black Hispanic Other  White  \n",
      "borough                                                      \n",
      "Bronx           9054     10063  45024   115820  2862   8696  \n",
      "Brooklyn       51482     51578  77774    77390  6091  51681  \n",
      "Manhattan      27193     19236  24569    60783  5545  27518  \n",
      "Queens         34424     78668  42951   105816  9517  33593  \n",
      "Staten Island  26943      7134   7546    17430  1409  26244  \n",
      "\n",
      "[5 rows x 40 columns]\n"
     ]
    }
   ],
   "source": [
    "race_enroll_pivot = enroll_pivot.pivot_table(index=['borough'], columns=['year','ethnicity'], values=['total'], aggfunc='sum', fill_value=0)\n",
    "print(race_enroll_pivot)"
   ]
  },
  {
   "cell_type": "code",
   "execution_count": 293,
   "metadata": {},
   "outputs": [
    {
     "name": "stdout",
     "output_type": "stream",
     "text": [
      "                  total                                                     \\\n",
      "year          2012-2013        2013-2014        2014-2015        2015-2016   \n",
      "swd                   0      1         0      1         0      1         0   \n",
      "borough                                                                      \n",
      "Bronx            155191  41918    150675  44950    149241  44723    145882   \n",
      "Brooklyn         226975  48258    219759  50948    216427  50126    214259   \n",
      "Manhattan        114617  24606    110238  25853    109882  25633    110094   \n",
      "Queens           224902  41329    220718  43120    220866  43566    221115   \n",
      "Staten Island     43822  13206     42158  13692     42582  13794     43698   \n",
      "\n",
      "                                                                         \\\n",
      "year                 2016-2017        2017-2018        2018-2019          \n",
      "swd                1         0      1         0      1         0      1   \n",
      "borough                                                                   \n",
      "Bronx          47363    143047  48530    140134  48934    142351  48089   \n",
      "Brooklyn       53004    211837  54919    208583  55918    212939  55772   \n",
      "Manhattan      27649    108491  28752    106615  29456    108900  29685   \n",
      "Queens         46960    221099  48933    219877  50094    225110  50228   \n",
      "Staten Island  14746     43631  15543     43243  16012     43881  16195   \n",
      "\n",
      "                                \n",
      "year          2019-2020         \n",
      "swd                   0      1  \n",
      "borough                         \n",
      "Bronx            135363  47102  \n",
      "Brooklyn         208550  55964  \n",
      "Manhattan        107289  30362  \n",
      "Queens           220226  50319  \n",
      "Staten Island     43522  16241  \n"
     ]
    }
   ],
   "source": [
    "swd_enroll_pivot = enroll_pivot.pivot_table(index=['borough'], columns=['year','swd'], values=['total'], aggfunc='sum', fill_value=0)\n",
    "print(swd_enroll_pivot)"
   ]
  },
  {
   "cell_type": "code",
   "execution_count": 294,
   "metadata": {},
   "outputs": [],
   "source": [
    "#df.to_excel(r'Path to store the exported excel file\\File Name.xlsx', sheet_name='Your sheet name', index = False)"
   ]
  },
  {
   "cell_type": "code",
   "execution_count": 295,
   "metadata": {
    "scrolled": false
   },
   "outputs": [
    {
     "name": "stdout",
     "output_type": "stream",
     "text": [
      "                  total                                                        \\\n",
      "year          2012-2013                                                         \n",
      "ethnicity         Asian        Black        Hispanic        Other       White   \n",
      "swd                   0     1      0      1        0      1     0    1      0   \n",
      "borough                                                                         \n",
      "Bronx              8402   636  43508  12443    94959  27153  1527  359   6795   \n",
      "Brooklyn          39982  2956  86112  21005    60747  17243  2345  450  37789   \n",
      "Manhattan         17359  1415  23106   6680    52163  13329  2132  394  19857   \n",
      "Queens            69315  5540  42802  10918    80148  18278  3593  556  29044   \n",
      "Staten Island      4288   347   5607   2389    10500   4010   525  140  22902   \n",
      "\n",
      "                     ...                                                      \\\n",
      "year                 ... 2019-2020                                             \n",
      "ethnicity            ...     Asian        Black        Hispanic        Other   \n",
      "swd               1  ...         0     1      0      1        0      1     0   \n",
      "borough              ...                                                       \n",
      "Bronx          1327  ...      9100   963  32282  12742    84418  31402  2278   \n",
      "Brooklyn       6604  ...     46634  4944  57268  20506    56402  20988  5041   \n",
      "Manhattan      2788  ...     17425  1811  17196   7373    44558  16225  4699   \n",
      "Queens         6037  ...     71200  7468  32375  10576    81714  24102  8050   \n",
      "Staten Island  6320  ...      6330   804   4860   2686    11379   6051  1010   \n",
      "\n",
      "                                  \n",
      "year                              \n",
      "ethnicity            White        \n",
      "swd               1      0     1  \n",
      "borough                           \n",
      "Bronx           584   7285  1411  \n",
      "Brooklyn       1050  43205  8476  \n",
      "Manhattan       846  23411  4107  \n",
      "Queens         1467  26887  6706  \n",
      "Staten Island   399  19943  6301  \n",
      "\n",
      "[5 rows x 80 columns]\n"
     ]
    }
   ],
   "source": [
    "race_swd_enroll_pivot = enroll_pivot.pivot_table(index=['borough'], columns=['year','ethnicity', 'swd'], values=['total'], aggfunc='sum', fill_value=0)\n",
    "print(race_swd_enroll_pivot)"
   ]
  },
  {
   "cell_type": "code",
   "execution_count": 296,
   "metadata": {},
   "outputs": [
    {
     "name": "stdout",
     "output_type": "stream",
     "text": [
      "                  total                                                \\\n",
      "year          2012-2013                                                 \n",
      "ethnicity         Asian                     Black                       \n",
      "swd                   0            1            0            1          \n",
      "sex                   F      M     F     M      F      M     F      M   \n",
      "borough                                                                 \n",
      "Bronx              4024   4378   185   451  22873  20635  3853   8590   \n",
      "Brooklyn          19467  20515   941  2015  45320  40792  6969  14036   \n",
      "Manhattan          8872   8487   463   952  13129   9977  2349   4331   \n",
      "Queens            34280  35035  1672  3868  22269  20533  3515   7403   \n",
      "Staten Island      2128   2160   107   240   3057   2550   798   1591   \n",
      "\n",
      "                               ...                                         \\\n",
      "year                           ... 2019-2020                                \n",
      "ethnicity     Hispanic         ...  Hispanic        Other                   \n",
      "swd                  0         ...         1            0          1        \n",
      "sex                  F      M  ...         F      M     F     M    F    M   \n",
      "borough                        ...                                          \n",
      "Bronx            49748  45211  ...     10595  20807  1207  1071  208  376   \n",
      "Brooklyn         31773  28974  ...      7602  13386  2594  2447  360  690   \n",
      "Manhattan        28377  23786  ...      5891  10334  2560  2139  293  553   \n",
      "Queens           41288  38860  ...      8295  15807  4135  3915  473  994   \n",
      "Staten Island     5626   4874  ...      2243   3808   549   461  142  257   \n",
      "\n",
      "                                         \n",
      "year                                     \n",
      "ethnicity      White                     \n",
      "swd                0            1        \n",
      "sex                F      M     F     M  \n",
      "borough                                  \n",
      "Bronx           3580   3705   461   950  \n",
      "Brooklyn       21708  21497  2768  5708  \n",
      "Manhattan      12569  10842  1337  2770  \n",
      "Queens         13736  13151  2107  4599  \n",
      "Staten Island  10347   9596  2133  4168  \n",
      "\n",
      "[5 rows x 160 columns]\n"
     ]
    }
   ],
   "source": [
    "race_swd_gender_enroll_pivot = enroll_pivot.pivot_table(index=['borough'], columns=['year','ethnicity', 'swd', 'sex'], values=['total'], aggfunc='sum', fill_value=0)\n",
    "print(race_swd_gender_enroll_pivot)"
   ]
  },
  {
   "cell_type": "code",
   "execution_count": 298,
   "metadata": {},
   "outputs": [],
   "source": [
    "########SUSP Data"
   ]
  },
  {
   "cell_type": "code",
   "execution_count": 30,
   "metadata": {},
   "outputs": [],
   "source": [
    "#Import suspension data.\n",
    "suspmaster = pd.ExcelFile(r\"/Users/holly/Desktop/nycdoe/12152020 SUSP Dispro Data.xlsx\")"
   ]
  },
  {
   "cell_type": "code",
   "execution_count": 31,
   "metadata": {},
   "outputs": [],
   "source": [
    "#Read data from each tab.\n",
    "#schools = suspmaster.parse('schools')\n",
    "susp_1920 = suspmaster.parse('1920')\n",
    "susp_1819 = suspmaster.parse('1819')\n",
    "susp_1718 = suspmaster.parse('1718')\n",
    "susp_1617 = suspmaster.parse('1617')\n",
    "susp_1516 = suspmaster.parse('1516')\n",
    "susp_1415 = suspmaster.parse('1415')\n",
    "susp_1314 = suspmaster.parse('1314')\n",
    "susp_1213 = suspmaster.parse('1213')"
   ]
  },
  {
   "cell_type": "code",
   "execution_count": 32,
   "metadata": {},
   "outputs": [],
   "source": [
    "#enroll_1214 = enroll_1213.append(enroll_1314)\n",
    "\n",
    "susp_1214 = susp_1213.append(susp_1314)\n",
    "susp_1215 = susp_1214.append(susp_1415)\n",
    "susp_1216 = susp_1215.append(susp_1516)\n",
    "susp_1217 = susp_1216.append(susp_1617)\n",
    "susp_1218 = susp_1217.append(susp_1718)\n",
    "susp_1219 = susp_1218.append(susp_1819)\n",
    "susp_final = susp_1219.append(susp_1920)"
   ]
  },
  {
   "cell_type": "code",
   "execution_count": 33,
   "metadata": {},
   "outputs": [
    {
     "data": {
      "text/plain": [
       "(312160, 19)"
      ]
     },
     "execution_count": 33,
     "metadata": {},
     "output_type": "execute_result"
    }
   ],
   "source": [
    "susp_final.shape"
   ]
  },
  {
   "cell_type": "code",
   "execution_count": 34,
   "metadata": {},
   "outputs": [],
   "source": [
    "#Source: https://stackoverflow.com/questions/11346283/renaming-columns-in-pandas\n",
    "susp_final = susp_final.rename(columns={'Grade': 'grade_level', 'Ethnicity': 'race', 'AcademicYear': 'year'})"
   ]
  },
  {
   "cell_type": "code",
   "execution_count": 35,
   "metadata": {},
   "outputs": [],
   "source": [
    "#susp_final.head()"
   ]
  },
  {
   "cell_type": "code",
   "execution_count": 36,
   "metadata": {},
   "outputs": [],
   "source": [
    "def grade_cat (row):\n",
    "    if row['grade_level'] == \"K\":\n",
    "      return 'K-2'\n",
    "    if row['grade_level'] == \"1\":\n",
    "      return 'K-2'\n",
    "    if row['grade_level'] == \"2\":\n",
    "      return 'K-2'\n",
    "    if row['grade_level'] == \"3\":\n",
    "      return '3-5'\n",
    "    if row['grade_level'] == \"4\":\n",
    "      return '3-5'\n",
    "    if row['grade_level'] == \"5\":\n",
    "      return '3-5'\n",
    "    if row['grade_level'] == \"6\":\n",
    "      return 'MS'\n",
    "    if row['grade_level'] == \"7\":\n",
    "      return 'MS'\n",
    "    if row['grade_level'] == \"8\":\n",
    "      return 'MS'\n",
    "    if row['grade_level'] == \"9\":\n",
    "      return 'HS'\n",
    "    if row['grade_level'] == \"10\":\n",
    "      return 'HS'\n",
    "    if row['grade_level'] == \"11\":\n",
    "      return 'HS'\n",
    "    if row['grade_level'] == \"12\":\n",
    "      return 'HS'\n",
    "    return 'Other'"
   ]
  },
  {
   "cell_type": "code",
   "execution_count": 37,
   "metadata": {},
   "outputs": [
    {
     "data": {
      "text/plain": [
       "0           HS\n",
       "1           HS\n",
       "2           HS\n",
       "3           HS\n",
       "4           HS\n",
       "         ...  \n",
       "18210    Other\n",
       "18211    Other\n",
       "18212       HS\n",
       "18213       HS\n",
       "18214       HS\n",
       "Length: 312160, dtype: object"
      ]
     },
     "execution_count": 37,
     "metadata": {},
     "output_type": "execute_result"
    }
   ],
   "source": [
    "#susp_final.apply (lambda row: grade_cat(row), axis=1)\n",
    "susp_final.apply (lambda row: grade_cat(row), axis=1)"
   ]
  },
  {
   "cell_type": "code",
   "execution_count": 38,
   "metadata": {},
   "outputs": [],
   "source": [
    "susp_final['grade_cat'] = susp_final.apply (lambda row: grade_cat(row), axis=1)"
   ]
  },
  {
   "cell_type": "code",
   "execution_count": 256,
   "metadata": {},
   "outputs": [
    {
     "data": {
      "text/html": [
       "<div>\n",
       "<style scoped>\n",
       "    .dataframe tbody tr th:only-of-type {\n",
       "        vertical-align: middle;\n",
       "    }\n",
       "\n",
       "    .dataframe tbody tr th {\n",
       "        vertical-align: top;\n",
       "    }\n",
       "\n",
       "    .dataframe thead th {\n",
       "        text-align: right;\n",
       "    }\n",
       "</style>\n",
       "<table border=\"1\" class=\"dataframe\">\n",
       "  <thead>\n",
       "    <tr style=\"text-align: right;\">\n",
       "      <th></th>\n",
       "      <th>AcademicYear</th>\n",
       "      <th>SOHO_Case</th>\n",
       "      <th>Type</th>\n",
       "      <th>Student_ID</th>\n",
       "      <th>Suspend_Days</th>\n",
       "      <th>ControlNo</th>\n",
       "      <th>Level</th>\n",
       "      <th>Code</th>\n",
       "      <th>Short Description</th>\n",
       "      <th>DBN</th>\n",
       "      <th>...</th>\n",
       "      <th>race</th>\n",
       "      <th>Location_Category</th>\n",
       "      <th>Administrative_District</th>\n",
       "      <th>Borough</th>\n",
       "      <th>grade_cat</th>\n",
       "      <th>ethnicity</th>\n",
       "      <th>ethnicity_SWD</th>\n",
       "      <th>ethnicity_SWD_Gender</th>\n",
       "      <th>ethnicity_SWD_Gender_grade_cat</th>\n",
       "      <th>total</th>\n",
       "    </tr>\n",
       "  </thead>\n",
       "  <tbody>\n",
       "    <tr>\n",
       "      <th>68</th>\n",
       "      <td>2012-2013</td>\n",
       "      <td>13-79-30394</td>\n",
       "      <td>P</td>\n",
       "      <td>270279862</td>\n",
       "      <td>5.0</td>\n",
       "      <td>79Q950-021113-0159</td>\n",
       "      <td>4</td>\n",
       "      <td>B38</td>\n",
       "      <td>Coercion/Threats</td>\n",
       "      <td>79Q950</td>\n",
       "      <td>...</td>\n",
       "      <td>Black</td>\n",
       "      <td>High school</td>\n",
       "      <td>79</td>\n",
       "      <td>Q</td>\n",
       "      <td>Other</td>\n",
       "      <td>Black</td>\n",
       "      <td>Black_N</td>\n",
       "      <td>Black_N_M</td>\n",
       "      <td>Black_N_M_Other</td>\n",
       "      <td>1</td>\n",
       "    </tr>\n",
       "    <tr>\n",
       "      <th>160</th>\n",
       "      <td>2012-2013</td>\n",
       "      <td>13-79-28458</td>\n",
       "      <td>S</td>\n",
       "      <td>205363237</td>\n",
       "      <td>6.0</td>\n",
       "      <td>24Q061-013013-0183</td>\n",
       "      <td>5</td>\n",
       "      <td>B55</td>\n",
       "      <td>Group Violence</td>\n",
       "      <td>79M973</td>\n",
       "      <td>...</td>\n",
       "      <td>Hispanic</td>\n",
       "      <td>Ungraded</td>\n",
       "      <td>79</td>\n",
       "      <td>M</td>\n",
       "      <td>Other</td>\n",
       "      <td>Hispanic</td>\n",
       "      <td>Hispanic_N</td>\n",
       "      <td>Hispanic_N_M</td>\n",
       "      <td>Hispanic_N_M_Other</td>\n",
       "      <td>1</td>\n",
       "    </tr>\n",
       "    <tr>\n",
       "      <th>162</th>\n",
       "      <td>2012-2013</td>\n",
       "      <td>13-79-65527</td>\n",
       "      <td>P</td>\n",
       "      <td>223473919</td>\n",
       "      <td>2.0</td>\n",
       "      <td>27Q223-061813-0048</td>\n",
       "      <td>3</td>\n",
       "      <td>B22</td>\n",
       "      <td>Trespassing</td>\n",
       "      <td>79M973</td>\n",
       "      <td>...</td>\n",
       "      <td>Hispanic</td>\n",
       "      <td>Ungraded</td>\n",
       "      <td>79</td>\n",
       "      <td>M</td>\n",
       "      <td>Other</td>\n",
       "      <td>Hispanic</td>\n",
       "      <td>Hispanic_N</td>\n",
       "      <td>Hispanic_N_M</td>\n",
       "      <td>Hispanic_N_M_Other</td>\n",
       "      <td>1</td>\n",
       "    </tr>\n",
       "    <tr>\n",
       "      <th>163</th>\n",
       "      <td>2012-2013</td>\n",
       "      <td>13-79-63499</td>\n",
       "      <td>P</td>\n",
       "      <td>203218458</td>\n",
       "      <td>3.0</td>\n",
       "      <td>79M973-060513-0059</td>\n",
       "      <td>4</td>\n",
       "      <td>B37</td>\n",
       "      <td>Altercation and/or Physically Aggressive Behavior</td>\n",
       "      <td>79M973</td>\n",
       "      <td>...</td>\n",
       "      <td>Black</td>\n",
       "      <td>Ungraded</td>\n",
       "      <td>79</td>\n",
       "      <td>M</td>\n",
       "      <td>Other</td>\n",
       "      <td>Black</td>\n",
       "      <td>Black_N</td>\n",
       "      <td>Black_N_M</td>\n",
       "      <td>Black_N_M_Other</td>\n",
       "      <td>1</td>\n",
       "    </tr>\n",
       "    <tr>\n",
       "      <th>164</th>\n",
       "      <td>2012-2013</td>\n",
       "      <td>13-29-18782</td>\n",
       "      <td>P</td>\n",
       "      <td>233628874</td>\n",
       "      <td>2.0</td>\n",
       "      <td>15K001-121912-0113</td>\n",
       "      <td>4</td>\n",
       "      <td>A34</td>\n",
       "      <td>Altercation and/or Physically Aggressive Behavior</td>\n",
       "      <td>15K001</td>\n",
       "      <td>...</td>\n",
       "      <td>Hispanic</td>\n",
       "      <td>Elementary</td>\n",
       "      <td>15</td>\n",
       "      <td>K</td>\n",
       "      <td>Other</td>\n",
       "      <td>Hispanic</td>\n",
       "      <td>Hispanic_N</td>\n",
       "      <td>Hispanic_N_M</td>\n",
       "      <td>Hispanic_N_M_Other</td>\n",
       "      <td>1</td>\n",
       "    </tr>\n",
       "    <tr>\n",
       "      <th>...</th>\n",
       "      <td>...</td>\n",
       "      <td>...</td>\n",
       "      <td>...</td>\n",
       "      <td>...</td>\n",
       "      <td>...</td>\n",
       "      <td>...</td>\n",
       "      <td>...</td>\n",
       "      <td>...</td>\n",
       "      <td>...</td>\n",
       "      <td>...</td>\n",
       "      <td>...</td>\n",
       "      <td>...</td>\n",
       "      <td>...</td>\n",
       "      <td>...</td>\n",
       "      <td>...</td>\n",
       "      <td>...</td>\n",
       "      <td>...</td>\n",
       "      <td>...</td>\n",
       "      <td>...</td>\n",
       "      <td>...</td>\n",
       "      <td>...</td>\n",
       "    </tr>\n",
       "    <tr>\n",
       "      <th>18207</th>\n",
       "      <td>2019-2020</td>\n",
       "      <td>20-40-24820</td>\n",
       "      <td>S</td>\n",
       "      <td>248849333</td>\n",
       "      <td>10.0</td>\n",
       "      <td>10X391-031020-0072</td>\n",
       "      <td>5</td>\n",
       "      <td>B58</td>\n",
       "      <td>Weapon Possession (Category I)</td>\n",
       "      <td>10X391</td>\n",
       "      <td>...</td>\n",
       "      <td>Hispanic</td>\n",
       "      <td>Junior High-Intermediate-Middle</td>\n",
       "      <td>10</td>\n",
       "      <td>X</td>\n",
       "      <td>Other</td>\n",
       "      <td>Hispanic</td>\n",
       "      <td>Hispanic_N</td>\n",
       "      <td>Hispanic_N_F</td>\n",
       "      <td>Hispanic_N_F_Other</td>\n",
       "      <td>1</td>\n",
       "    </tr>\n",
       "    <tr>\n",
       "      <th>18208</th>\n",
       "      <td>2019-2020</td>\n",
       "      <td>20-45-25009</td>\n",
       "      <td>S</td>\n",
       "      <td>214841009</td>\n",
       "      <td>10.0</td>\n",
       "      <td>29Q238-031020-0235</td>\n",
       "      <td>5</td>\n",
       "      <td>B54</td>\n",
       "      <td>Group Violence</td>\n",
       "      <td>29Q238</td>\n",
       "      <td>...</td>\n",
       "      <td>Hispanic</td>\n",
       "      <td>Junior High-Intermediate-Middle</td>\n",
       "      <td>29</td>\n",
       "      <td>Q</td>\n",
       "      <td>Other</td>\n",
       "      <td>Hispanic</td>\n",
       "      <td>Hispanic_Y</td>\n",
       "      <td>Hispanic_Y_F</td>\n",
       "      <td>Hispanic_Y_F_Other</td>\n",
       "      <td>1</td>\n",
       "    </tr>\n",
       "    <tr>\n",
       "      <th>18209</th>\n",
       "      <td>2019-2020</td>\n",
       "      <td>20-40-25095</td>\n",
       "      <td>S</td>\n",
       "      <td>220723910</td>\n",
       "      <td>10.0</td>\n",
       "      <td>10X206-031120-0080</td>\n",
       "      <td>5</td>\n",
       "      <td>B52</td>\n",
       "      <td>Using Force Against/Inflicting to/Inflicting S...</td>\n",
       "      <td>10X206</td>\n",
       "      <td>...</td>\n",
       "      <td>Hispanic</td>\n",
       "      <td>Junior High-Intermediate-Middle</td>\n",
       "      <td>10</td>\n",
       "      <td>X</td>\n",
       "      <td>Other</td>\n",
       "      <td>Hispanic</td>\n",
       "      <td>Hispanic_N</td>\n",
       "      <td>Hispanic_N_F</td>\n",
       "      <td>Hispanic_N_F_Other</td>\n",
       "      <td>1</td>\n",
       "    </tr>\n",
       "    <tr>\n",
       "      <th>18210</th>\n",
       "      <td>2019-2020</td>\n",
       "      <td>20-40-24890</td>\n",
       "      <td>S</td>\n",
       "      <td>242291888</td>\n",
       "      <td>10.0</td>\n",
       "      <td>11X287-031120-0316</td>\n",
       "      <td>4</td>\n",
       "      <td>B45</td>\n",
       "      <td>Reckless Behavior with Substantial Risk of Ser...</td>\n",
       "      <td>11X287</td>\n",
       "      <td>...</td>\n",
       "      <td>Black</td>\n",
       "      <td>Junior High-Intermediate-Middle</td>\n",
       "      <td>11</td>\n",
       "      <td>X</td>\n",
       "      <td>Other</td>\n",
       "      <td>Black</td>\n",
       "      <td>Black_N</td>\n",
       "      <td>Black_N_F</td>\n",
       "      <td>Black_N_F_Other</td>\n",
       "      <td>1</td>\n",
       "    </tr>\n",
       "    <tr>\n",
       "      <th>18211</th>\n",
       "      <td>2019-2020</td>\n",
       "      <td>20-43-25254</td>\n",
       "      <td>S</td>\n",
       "      <td>229087291</td>\n",
       "      <td>10.0</td>\n",
       "      <td>06M052-031220-0060</td>\n",
       "      <td>5</td>\n",
       "      <td>B54</td>\n",
       "      <td>Group Violence</td>\n",
       "      <td>06M052</td>\n",
       "      <td>...</td>\n",
       "      <td>Hispanic</td>\n",
       "      <td>Junior High-Intermediate-Middle</td>\n",
       "      <td>6</td>\n",
       "      <td>M</td>\n",
       "      <td>Other</td>\n",
       "      <td>Hispanic</td>\n",
       "      <td>Hispanic_Y</td>\n",
       "      <td>Hispanic_Y_F</td>\n",
       "      <td>Hispanic_Y_F_Other</td>\n",
       "      <td>1</td>\n",
       "    </tr>\n",
       "  </tbody>\n",
       "</table>\n",
       "<p>209700 rows × 25 columns</p>\n",
       "</div>"
      ],
      "text/plain": [
       "      AcademicYear    SOHO_Case Type  Student_ID  Suspend_Days  \\\n",
       "68       2012-2013  13-79-30394    P   270279862           5.0   \n",
       "160      2012-2013  13-79-28458    S   205363237           6.0   \n",
       "162      2012-2013  13-79-65527    P   223473919           2.0   \n",
       "163      2012-2013  13-79-63499    P   203218458           3.0   \n",
       "164      2012-2013  13-29-18782    P   233628874           2.0   \n",
       "...            ...          ...  ...         ...           ...   \n",
       "18207    2019-2020  20-40-24820    S   248849333          10.0   \n",
       "18208    2019-2020  20-45-25009    S   214841009          10.0   \n",
       "18209    2019-2020  20-40-25095    S   220723910          10.0   \n",
       "18210    2019-2020  20-40-24890    S   242291888          10.0   \n",
       "18211    2019-2020  20-43-25254    S   229087291          10.0   \n",
       "\n",
       "                ControlNo  Level Code  \\\n",
       "68     79Q950-021113-0159      4  B38   \n",
       "160    24Q061-013013-0183      5  B55   \n",
       "162    27Q223-061813-0048      3  B22   \n",
       "163    79M973-060513-0059      4  B37   \n",
       "164    15K001-121912-0113      4  A34   \n",
       "...                   ...    ...  ...   \n",
       "18207  10X391-031020-0072      5  B58   \n",
       "18208  29Q238-031020-0235      5  B54   \n",
       "18209  10X206-031120-0080      5  B52   \n",
       "18210  11X287-031120-0316      4  B45   \n",
       "18211  06M052-031220-0060      5  B54   \n",
       "\n",
       "                                       Short Description     DBN  ...  \\\n",
       "68                                      Coercion/Threats  79Q950  ...   \n",
       "160                                       Group Violence  79M973  ...   \n",
       "162                                          Trespassing  79M973  ...   \n",
       "163    Altercation and/or Physically Aggressive Behavior  79M973  ...   \n",
       "164    Altercation and/or Physically Aggressive Behavior  15K001  ...   \n",
       "...                                                  ...     ...  ...   \n",
       "18207                     Weapon Possession (Category I)  10X391  ...   \n",
       "18208                                     Group Violence  29Q238  ...   \n",
       "18209  Using Force Against/Inflicting to/Inflicting S...  10X206  ...   \n",
       "18210  Reckless Behavior with Substantial Risk of Ser...  11X287  ...   \n",
       "18211                                     Group Violence  06M052  ...   \n",
       "\n",
       "           race                Location_Category Administrative_District  \\\n",
       "68        Black                      High school                      79   \n",
       "160    Hispanic                         Ungraded                      79   \n",
       "162    Hispanic                         Ungraded                      79   \n",
       "163       Black                         Ungraded                      79   \n",
       "164    Hispanic                       Elementary                      15   \n",
       "...         ...                              ...                     ...   \n",
       "18207  Hispanic  Junior High-Intermediate-Middle                      10   \n",
       "18208  Hispanic  Junior High-Intermediate-Middle                      29   \n",
       "18209  Hispanic  Junior High-Intermediate-Middle                      10   \n",
       "18210     Black  Junior High-Intermediate-Middle                      11   \n",
       "18211  Hispanic  Junior High-Intermediate-Middle                       6   \n",
       "\n",
       "      Borough grade_cat ethnicity ethnicity_SWD  ethnicity_SWD_Gender  \\\n",
       "68          Q     Other     Black       Black_N             Black_N_M   \n",
       "160         M     Other  Hispanic    Hispanic_N          Hispanic_N_M   \n",
       "162         M     Other  Hispanic    Hispanic_N          Hispanic_N_M   \n",
       "163         M     Other     Black       Black_N             Black_N_M   \n",
       "164         K     Other  Hispanic    Hispanic_N          Hispanic_N_M   \n",
       "...       ...       ...       ...           ...                   ...   \n",
       "18207       X     Other  Hispanic    Hispanic_N          Hispanic_N_F   \n",
       "18208       Q     Other  Hispanic    Hispanic_Y          Hispanic_Y_F   \n",
       "18209       X     Other  Hispanic    Hispanic_N          Hispanic_N_F   \n",
       "18210       X     Other     Black       Black_N             Black_N_F   \n",
       "18211       M     Other  Hispanic    Hispanic_Y          Hispanic_Y_F   \n",
       "\n",
       "      ethnicity_SWD_Gender_grade_cat total  \n",
       "68                   Black_N_M_Other     1  \n",
       "160               Hispanic_N_M_Other     1  \n",
       "162               Hispanic_N_M_Other     1  \n",
       "163                  Black_N_M_Other     1  \n",
       "164               Hispanic_N_M_Other     1  \n",
       "...                              ...   ...  \n",
       "18207             Hispanic_N_F_Other     1  \n",
       "18208             Hispanic_Y_F_Other     1  \n",
       "18209             Hispanic_N_F_Other     1  \n",
       "18210                Black_N_F_Other     1  \n",
       "18211             Hispanic_Y_F_Other     1  \n",
       "\n",
       "[209700 rows x 25 columns]"
      ]
     },
     "execution_count": 256,
     "metadata": {},
     "output_type": "execute_result"
    }
   ],
   "source": [
    "check = susp_final.query('grade_cat == \"Other\"')\n",
    "check"
   ]
  },
  {
   "cell_type": "code",
   "execution_count": 39,
   "metadata": {},
   "outputs": [],
   "source": [
    "def ethnicity (row):\n",
    "    if row['race'] == \"Black\":\n",
    "      return 'Black'\n",
    "    if row['race'] == \"Hispanic\":\n",
    "      return 'Hispanic'\n",
    "    if row['race'] == \"Asian\":\n",
    "      return 'Asian'\n",
    "    if row['race'] == \"White\":\n",
    "      return 'White'\n",
    "    return 'Other'"
   ]
  },
  {
   "cell_type": "code",
   "execution_count": 40,
   "metadata": {},
   "outputs": [
    {
     "data": {
      "text/plain": [
       "0           Black\n",
       "1           Black\n",
       "2        Hispanic\n",
       "3        Hispanic\n",
       "4        Hispanic\n",
       "           ...   \n",
       "18210       Black\n",
       "18211    Hispanic\n",
       "18212       Asian\n",
       "18213       Black\n",
       "18214       White\n",
       "Length: 312160, dtype: object"
      ]
     },
     "execution_count": 40,
     "metadata": {},
     "output_type": "execute_result"
    }
   ],
   "source": [
    "#susp_final.apply (lambda row: grade_cat(row), axis=1)\n",
    "susp_final.apply (lambda row: ethnicity(row), axis=1)"
   ]
  },
  {
   "cell_type": "code",
   "execution_count": 41,
   "metadata": {},
   "outputs": [],
   "source": [
    "susp_final['ethnicity'] = susp_final.apply (lambda row: ethnicity(row), axis=1)"
   ]
  },
  {
   "cell_type": "code",
   "execution_count": 42,
   "metadata": {},
   "outputs": [],
   "source": [
    "susp_final['ethnicity_SWD']=susp_final['ethnicity'].astype(str)+'_'+susp_final['SWD'].astype(str)\n",
    "susp_final['ethnicity_SWD_Gender']=susp_final['ethnicity'].astype(str)+'_'+susp_final['SWD'].astype(str)+'_'+susp_final['Gender'].astype(str)\n",
    "susp_final['ethnicity_SWD_Gender_grade_cat']=susp_final['ethnicity'].astype(str)+'_'+susp_final['SWD'].astype(str)+'_'+susp_final['Gender'].astype(str)+'_'+susp_final['grade_cat'].astype(str)\n"
   ]
  },
  {
   "cell_type": "code",
   "execution_count": 43,
   "metadata": {},
   "outputs": [],
   "source": [
    "susp_final['total'] = 1"
   ]
  },
  {
   "cell_type": "code",
   "execution_count": 44,
   "metadata": {},
   "outputs": [
    {
     "data": {
      "text/plain": [
       "(312160, 25)"
      ]
     },
     "execution_count": 44,
     "metadata": {},
     "output_type": "execute_result"
    }
   ],
   "source": [
    "susp_final.shape"
   ]
  },
  {
   "cell_type": "code",
   "execution_count": 45,
   "metadata": {
    "scrolled": true
   },
   "outputs": [
    {
     "data": {
      "text/html": [
       "<div>\n",
       "<style scoped>\n",
       "    .dataframe tbody tr th:only-of-type {\n",
       "        vertical-align: middle;\n",
       "    }\n",
       "\n",
       "    .dataframe tbody tr th {\n",
       "        vertical-align: top;\n",
       "    }\n",
       "\n",
       "    .dataframe thead th {\n",
       "        text-align: right;\n",
       "    }\n",
       "</style>\n",
       "<table border=\"1\" class=\"dataframe\">\n",
       "  <thead>\n",
       "    <tr style=\"text-align: right;\">\n",
       "      <th></th>\n",
       "      <th>AcademicYear</th>\n",
       "      <th>SOHO_Case</th>\n",
       "      <th>Type</th>\n",
       "      <th>Student_ID</th>\n",
       "      <th>Suspend_Days</th>\n",
       "      <th>ControlNo</th>\n",
       "      <th>Level</th>\n",
       "      <th>Code</th>\n",
       "      <th>Short Description</th>\n",
       "      <th>DBN</th>\n",
       "      <th>...</th>\n",
       "      <th>race</th>\n",
       "      <th>Location_Category</th>\n",
       "      <th>Administrative_District</th>\n",
       "      <th>Borough</th>\n",
       "      <th>grade_cat</th>\n",
       "      <th>ethnicity</th>\n",
       "      <th>ethnicity_SWD</th>\n",
       "      <th>ethnicity_SWD_Gender</th>\n",
       "      <th>ethnicity_SWD_Gender_grade_cat</th>\n",
       "      <th>total</th>\n",
       "    </tr>\n",
       "  </thead>\n",
       "  <tbody>\n",
       "    <tr>\n",
       "      <th>0</th>\n",
       "      <td>2012-2013</td>\n",
       "      <td>13-32-30669</td>\n",
       "      <td>P</td>\n",
       "      <td>268716800</td>\n",
       "      <td>4.0</td>\n",
       "      <td>17K467-021113-0006</td>\n",
       "      <td>4</td>\n",
       "      <td>B44</td>\n",
       "      <td>Taking Property Without Authorization</td>\n",
       "      <td>17K467</td>\n",
       "      <td>...</td>\n",
       "      <td>Black</td>\n",
       "      <td>High school</td>\n",
       "      <td>17</td>\n",
       "      <td>K</td>\n",
       "      <td>HS</td>\n",
       "      <td>Black</td>\n",
       "      <td>Black_N</td>\n",
       "      <td>Black_N_M</td>\n",
       "      <td>Black_N_M_HS</td>\n",
       "      <td>1</td>\n",
       "    </tr>\n",
       "    <tr>\n",
       "      <th>1</th>\n",
       "      <td>2012-2013</td>\n",
       "      <td>13-34-43411</td>\n",
       "      <td>S</td>\n",
       "      <td>268994399</td>\n",
       "      <td>0.0</td>\n",
       "      <td>19K501-032113-0006</td>\n",
       "      <td>4</td>\n",
       "      <td>B37</td>\n",
       "      <td>Altercation and/or Physically Aggressive Behavior</td>\n",
       "      <td>19K501</td>\n",
       "      <td>...</td>\n",
       "      <td>Black</td>\n",
       "      <td>High school</td>\n",
       "      <td>19</td>\n",
       "      <td>K</td>\n",
       "      <td>HS</td>\n",
       "      <td>Black</td>\n",
       "      <td>Black_N</td>\n",
       "      <td>Black_N_M</td>\n",
       "      <td>Black_N_M_HS</td>\n",
       "      <td>1</td>\n",
       "    </tr>\n",
       "    <tr>\n",
       "      <th>2</th>\n",
       "      <td>2012-2013</td>\n",
       "      <td>13-34-21302</td>\n",
       "      <td>S</td>\n",
       "      <td>268373016</td>\n",
       "      <td>5.0</td>\n",
       "      <td>19K501-010713-0004</td>\n",
       "      <td>5</td>\n",
       "      <td>B59</td>\n",
       "      <td>Weapon Possession (Category I)</td>\n",
       "      <td>19K501</td>\n",
       "      <td>...</td>\n",
       "      <td>Hispanic</td>\n",
       "      <td>High school</td>\n",
       "      <td>19</td>\n",
       "      <td>K</td>\n",
       "      <td>HS</td>\n",
       "      <td>Hispanic</td>\n",
       "      <td>Hispanic_N</td>\n",
       "      <td>Hispanic_N_F</td>\n",
       "      <td>Hispanic_N_F_HS</td>\n",
       "      <td>1</td>\n",
       "    </tr>\n",
       "    <tr>\n",
       "      <th>3</th>\n",
       "      <td>2012-2013</td>\n",
       "      <td>13-34-43407</td>\n",
       "      <td>S</td>\n",
       "      <td>264795402</td>\n",
       "      <td>6.0</td>\n",
       "      <td>19K501-032113-0006</td>\n",
       "      <td>4</td>\n",
       "      <td>B37</td>\n",
       "      <td>Altercation and/or Physically Aggressive Behavior</td>\n",
       "      <td>19K501</td>\n",
       "      <td>...</td>\n",
       "      <td>Hispanic</td>\n",
       "      <td>High school</td>\n",
       "      <td>19</td>\n",
       "      <td>K</td>\n",
       "      <td>HS</td>\n",
       "      <td>Hispanic</td>\n",
       "      <td>Hispanic_N</td>\n",
       "      <td>Hispanic_N_M</td>\n",
       "      <td>Hispanic_N_M_HS</td>\n",
       "      <td>1</td>\n",
       "    </tr>\n",
       "    <tr>\n",
       "      <th>4</th>\n",
       "      <td>2012-2013</td>\n",
       "      <td>13-26-57984</td>\n",
       "      <td>S</td>\n",
       "      <td>267319853</td>\n",
       "      <td>10.0</td>\n",
       "      <td>06M457-051313-0007</td>\n",
       "      <td>4</td>\n",
       "      <td>B44</td>\n",
       "      <td>Taking Property Without Authorization</td>\n",
       "      <td>06M457</td>\n",
       "      <td>...</td>\n",
       "      <td>Hispanic</td>\n",
       "      <td>High school</td>\n",
       "      <td>6</td>\n",
       "      <td>M</td>\n",
       "      <td>HS</td>\n",
       "      <td>Hispanic</td>\n",
       "      <td>Hispanic_N</td>\n",
       "      <td>Hispanic_N_F</td>\n",
       "      <td>Hispanic_N_F_HS</td>\n",
       "      <td>1</td>\n",
       "    </tr>\n",
       "  </tbody>\n",
       "</table>\n",
       "<p>5 rows × 25 columns</p>\n",
       "</div>"
      ],
      "text/plain": [
       "  AcademicYear    SOHO_Case Type  Student_ID  Suspend_Days  \\\n",
       "0    2012-2013  13-32-30669    P   268716800           4.0   \n",
       "1    2012-2013  13-34-43411    S   268994399           0.0   \n",
       "2    2012-2013  13-34-21302    S   268373016           5.0   \n",
       "3    2012-2013  13-34-43407    S   264795402           6.0   \n",
       "4    2012-2013  13-26-57984    S   267319853          10.0   \n",
       "\n",
       "            ControlNo  Level Code  \\\n",
       "0  17K467-021113-0006      4  B44   \n",
       "1  19K501-032113-0006      4  B37   \n",
       "2  19K501-010713-0004      5  B59   \n",
       "3  19K501-032113-0006      4  B37   \n",
       "4  06M457-051313-0007      4  B44   \n",
       "\n",
       "                                   Short Description     DBN  ...      race  \\\n",
       "0              Taking Property Without Authorization  17K467  ...     Black   \n",
       "1  Altercation and/or Physically Aggressive Behavior  19K501  ...     Black   \n",
       "2                     Weapon Possession (Category I)  19K501  ...  Hispanic   \n",
       "3  Altercation and/or Physically Aggressive Behavior  19K501  ...  Hispanic   \n",
       "4              Taking Property Without Authorization  06M457  ...  Hispanic   \n",
       "\n",
       "  Location_Category Administrative_District Borough grade_cat ethnicity  \\\n",
       "0       High school                      17       K        HS     Black   \n",
       "1       High school                      19       K        HS     Black   \n",
       "2       High school                      19       K        HS  Hispanic   \n",
       "3       High school                      19       K        HS  Hispanic   \n",
       "4       High school                       6       M        HS  Hispanic   \n",
       "\n",
       "  ethnicity_SWD  ethnicity_SWD_Gender ethnicity_SWD_Gender_grade_cat total  \n",
       "0       Black_N             Black_N_M                   Black_N_M_HS     1  \n",
       "1       Black_N             Black_N_M                   Black_N_M_HS     1  \n",
       "2    Hispanic_N          Hispanic_N_F                Hispanic_N_F_HS     1  \n",
       "3    Hispanic_N          Hispanic_N_M                Hispanic_N_M_HS     1  \n",
       "4    Hispanic_N          Hispanic_N_F                Hispanic_N_F_HS     1  \n",
       "\n",
       "[5 rows x 25 columns]"
      ]
     },
     "execution_count": 45,
     "metadata": {},
     "output_type": "execute_result"
    }
   ],
   "source": [
    "susp_final.head()"
   ]
  },
  {
   "cell_type": "code",
   "execution_count": 48,
   "metadata": {
    "scrolled": true
   },
   "outputs": [
    {
     "data": {
      "text/plain": [
       "AcademicYear\n",
       "2012-2013    53465\n",
       "2013-2014    53504\n",
       "2014-2015    44626\n",
       "2015-2016    37647\n",
       "2016-2017    35234\n",
       "2017-2018    36668\n",
       "2018-2019    32801\n",
       "2019-2020    18215\n",
       "Name: AcademicYear, dtype: int64"
      ]
     },
     "execution_count": 48,
     "metadata": {},
     "output_type": "execute_result"
    }
   ],
   "source": [
    "susp_totals = susp_final.groupby(['AcademicYear']).AcademicYear.count()\n",
    "susp_totals"
   ]
  },
  {
   "cell_type": "code",
   "execution_count": 341,
   "metadata": {
    "scrolled": false
   },
   "outputs": [
    {
     "ename": "ValueError",
     "evalue": "shape mismatch: objects cannot be broadcast to a single shape",
     "output_type": "error",
     "traceback": [
      "\u001b[0;31m---------------------------------------------------------------------------\u001b[0m",
      "\u001b[0;31mValueError\u001b[0m                                Traceback (most recent call last)",
      "\u001b[0;32m<ipython-input-341-077d66ed8c13>\u001b[0m in \u001b[0;36m<module>\u001b[0;34m\u001b[0m\n\u001b[1;32m      4\u001b[0m \u001b[0;34m\u001b[0m\u001b[0m\n\u001b[1;32m      5\u001b[0m \u001b[0;31m# plot bars\u001b[0m\u001b[0;34m\u001b[0m\u001b[0;34m\u001b[0m\u001b[0;34m\u001b[0m\u001b[0m\n\u001b[0;32m----> 6\u001b[0;31m \u001b[0msusp_bars\u001b[0m \u001b[0;34m=\u001b[0m \u001b[0mplt\u001b[0m\u001b[0;34m.\u001b[0m\u001b[0mbar\u001b[0m\u001b[0;34m(\u001b[0m\u001b[0mind\u001b[0m\u001b[0;34m,\u001b[0m \u001b[0msusp_totals\u001b[0m\u001b[0;34m,\u001b[0m \u001b[0mwidth\u001b[0m\u001b[0;34m,\u001b[0m \u001b[0mcolor\u001b[0m\u001b[0;34m=\u001b[0m\u001b[0;34m'b'\u001b[0m\u001b[0;34m,\u001b[0m \u001b[0malpha\u001b[0m\u001b[0;34m=\u001b[0m\u001b[0;36m.7\u001b[0m\u001b[0;34m,\u001b[0m \u001b[0mlabel\u001b[0m\u001b[0;34m=\u001b[0m\u001b[0;34m'Suspensions'\u001b[0m\u001b[0;34m)\u001b[0m\u001b[0;34m\u001b[0m\u001b[0;34m\u001b[0m\u001b[0m\n\u001b[0m\u001b[1;32m      7\u001b[0m \u001b[0;34m\u001b[0m\u001b[0m\n\u001b[1;32m      8\u001b[0m \u001b[0;31m# title and labels\u001b[0m\u001b[0;34m\u001b[0m\u001b[0;34m\u001b[0m\u001b[0;34m\u001b[0m\u001b[0m\n",
      "\u001b[0;32m/opt/anaconda3/lib/python3.7/site-packages/matplotlib/pyplot.py\u001b[0m in \u001b[0;36mbar\u001b[0;34m(x, height, width, bottom, align, data, **kwargs)\u001b[0m\n\u001b[1;32m   2487\u001b[0m     return gca().bar(\n\u001b[1;32m   2488\u001b[0m         \u001b[0mx\u001b[0m\u001b[0;34m,\u001b[0m \u001b[0mheight\u001b[0m\u001b[0;34m,\u001b[0m \u001b[0mwidth\u001b[0m\u001b[0;34m=\u001b[0m\u001b[0mwidth\u001b[0m\u001b[0;34m,\u001b[0m \u001b[0mbottom\u001b[0m\u001b[0;34m=\u001b[0m\u001b[0mbottom\u001b[0m\u001b[0;34m,\u001b[0m \u001b[0malign\u001b[0m\u001b[0;34m=\u001b[0m\u001b[0malign\u001b[0m\u001b[0;34m,\u001b[0m\u001b[0;34m\u001b[0m\u001b[0;34m\u001b[0m\u001b[0m\n\u001b[0;32m-> 2489\u001b[0;31m         **({\"data\": data} if data is not None else {}), **kwargs)\n\u001b[0m\u001b[1;32m   2490\u001b[0m \u001b[0;34m\u001b[0m\u001b[0m\n\u001b[1;32m   2491\u001b[0m \u001b[0;34m\u001b[0m\u001b[0m\n",
      "\u001b[0;32m/opt/anaconda3/lib/python3.7/site-packages/matplotlib/__init__.py\u001b[0m in \u001b[0;36minner\u001b[0;34m(ax, data, *args, **kwargs)\u001b[0m\n\u001b[1;32m   1436\u001b[0m     \u001b[0;32mdef\u001b[0m \u001b[0minner\u001b[0m\u001b[0;34m(\u001b[0m\u001b[0max\u001b[0m\u001b[0;34m,\u001b[0m \u001b[0;34m*\u001b[0m\u001b[0margs\u001b[0m\u001b[0;34m,\u001b[0m \u001b[0mdata\u001b[0m\u001b[0;34m=\u001b[0m\u001b[0;32mNone\u001b[0m\u001b[0;34m,\u001b[0m \u001b[0;34m**\u001b[0m\u001b[0mkwargs\u001b[0m\u001b[0;34m)\u001b[0m\u001b[0;34m:\u001b[0m\u001b[0;34m\u001b[0m\u001b[0;34m\u001b[0m\u001b[0m\n\u001b[1;32m   1437\u001b[0m         \u001b[0;32mif\u001b[0m \u001b[0mdata\u001b[0m \u001b[0;32mis\u001b[0m \u001b[0;32mNone\u001b[0m\u001b[0;34m:\u001b[0m\u001b[0;34m\u001b[0m\u001b[0;34m\u001b[0m\u001b[0m\n\u001b[0;32m-> 1438\u001b[0;31m             \u001b[0;32mreturn\u001b[0m \u001b[0mfunc\u001b[0m\u001b[0;34m(\u001b[0m\u001b[0max\u001b[0m\u001b[0;34m,\u001b[0m \u001b[0;34m*\u001b[0m\u001b[0mmap\u001b[0m\u001b[0;34m(\u001b[0m\u001b[0msanitize_sequence\u001b[0m\u001b[0;34m,\u001b[0m \u001b[0margs\u001b[0m\u001b[0;34m)\u001b[0m\u001b[0;34m,\u001b[0m \u001b[0;34m**\u001b[0m\u001b[0mkwargs\u001b[0m\u001b[0;34m)\u001b[0m\u001b[0;34m\u001b[0m\u001b[0;34m\u001b[0m\u001b[0m\n\u001b[0m\u001b[1;32m   1439\u001b[0m \u001b[0;34m\u001b[0m\u001b[0m\n\u001b[1;32m   1440\u001b[0m         \u001b[0mbound\u001b[0m \u001b[0;34m=\u001b[0m \u001b[0mnew_sig\u001b[0m\u001b[0;34m.\u001b[0m\u001b[0mbind\u001b[0m\u001b[0;34m(\u001b[0m\u001b[0max\u001b[0m\u001b[0;34m,\u001b[0m \u001b[0;34m*\u001b[0m\u001b[0margs\u001b[0m\u001b[0;34m,\u001b[0m \u001b[0;34m**\u001b[0m\u001b[0mkwargs\u001b[0m\u001b[0;34m)\u001b[0m\u001b[0;34m\u001b[0m\u001b[0;34m\u001b[0m\u001b[0m\n",
      "\u001b[0;32m/opt/anaconda3/lib/python3.7/site-packages/matplotlib/axes/_axes.py\u001b[0m in \u001b[0;36mbar\u001b[0;34m(self, x, height, width, bottom, align, **kwargs)\u001b[0m\n\u001b[1;32m   2430\u001b[0m         x, height, width, y, linewidth = np.broadcast_arrays(\n\u001b[1;32m   2431\u001b[0m             \u001b[0;31m# Make args iterable too.\u001b[0m\u001b[0;34m\u001b[0m\u001b[0;34m\u001b[0m\u001b[0;34m\u001b[0m\u001b[0m\n\u001b[0;32m-> 2432\u001b[0;31m             np.atleast_1d(x), height, width, y, linewidth)\n\u001b[0m\u001b[1;32m   2433\u001b[0m \u001b[0;34m\u001b[0m\u001b[0m\n\u001b[1;32m   2434\u001b[0m         \u001b[0;31m# Now that units have been converted, set the tick locations.\u001b[0m\u001b[0;34m\u001b[0m\u001b[0;34m\u001b[0m\u001b[0;34m\u001b[0m\u001b[0m\n",
      "\u001b[0;32m<__array_function__ internals>\u001b[0m in \u001b[0;36mbroadcast_arrays\u001b[0;34m(*args, **kwargs)\u001b[0m\n",
      "\u001b[0;32m/opt/anaconda3/lib/python3.7/site-packages/numpy/lib/stride_tricks.py\u001b[0m in \u001b[0;36mbroadcast_arrays\u001b[0;34m(subok, *args)\u001b[0m\n\u001b[1;32m    256\u001b[0m     \u001b[0margs\u001b[0m \u001b[0;34m=\u001b[0m \u001b[0;34m[\u001b[0m\u001b[0mnp\u001b[0m\u001b[0;34m.\u001b[0m\u001b[0marray\u001b[0m\u001b[0;34m(\u001b[0m\u001b[0m_m\u001b[0m\u001b[0;34m,\u001b[0m \u001b[0mcopy\u001b[0m\u001b[0;34m=\u001b[0m\u001b[0;32mFalse\u001b[0m\u001b[0;34m,\u001b[0m \u001b[0msubok\u001b[0m\u001b[0;34m=\u001b[0m\u001b[0msubok\u001b[0m\u001b[0;34m)\u001b[0m \u001b[0;32mfor\u001b[0m \u001b[0m_m\u001b[0m \u001b[0;32min\u001b[0m \u001b[0margs\u001b[0m\u001b[0;34m]\u001b[0m\u001b[0;34m\u001b[0m\u001b[0;34m\u001b[0m\u001b[0m\n\u001b[1;32m    257\u001b[0m \u001b[0;34m\u001b[0m\u001b[0m\n\u001b[0;32m--> 258\u001b[0;31m     \u001b[0mshape\u001b[0m \u001b[0;34m=\u001b[0m \u001b[0m_broadcast_shape\u001b[0m\u001b[0;34m(\u001b[0m\u001b[0;34m*\u001b[0m\u001b[0margs\u001b[0m\u001b[0;34m)\u001b[0m\u001b[0;34m\u001b[0m\u001b[0;34m\u001b[0m\u001b[0m\n\u001b[0m\u001b[1;32m    259\u001b[0m \u001b[0;34m\u001b[0m\u001b[0m\n\u001b[1;32m    260\u001b[0m     \u001b[0;32mif\u001b[0m \u001b[0mall\u001b[0m\u001b[0;34m(\u001b[0m\u001b[0marray\u001b[0m\u001b[0;34m.\u001b[0m\u001b[0mshape\u001b[0m \u001b[0;34m==\u001b[0m \u001b[0mshape\u001b[0m \u001b[0;32mfor\u001b[0m \u001b[0marray\u001b[0m \u001b[0;32min\u001b[0m \u001b[0margs\u001b[0m\u001b[0;34m)\u001b[0m\u001b[0;34m:\u001b[0m\u001b[0;34m\u001b[0m\u001b[0;34m\u001b[0m\u001b[0m\n",
      "\u001b[0;32m/opt/anaconda3/lib/python3.7/site-packages/numpy/lib/stride_tricks.py\u001b[0m in \u001b[0;36m_broadcast_shape\u001b[0;34m(*args)\u001b[0m\n\u001b[1;32m    187\u001b[0m     \u001b[0;31m# use the old-iterator because np.nditer does not handle size 0 arrays\u001b[0m\u001b[0;34m\u001b[0m\u001b[0;34m\u001b[0m\u001b[0;34m\u001b[0m\u001b[0m\n\u001b[1;32m    188\u001b[0m     \u001b[0;31m# consistently\u001b[0m\u001b[0;34m\u001b[0m\u001b[0;34m\u001b[0m\u001b[0;34m\u001b[0m\u001b[0m\n\u001b[0;32m--> 189\u001b[0;31m     \u001b[0mb\u001b[0m \u001b[0;34m=\u001b[0m \u001b[0mnp\u001b[0m\u001b[0;34m.\u001b[0m\u001b[0mbroadcast\u001b[0m\u001b[0;34m(\u001b[0m\u001b[0;34m*\u001b[0m\u001b[0margs\u001b[0m\u001b[0;34m[\u001b[0m\u001b[0;34m:\u001b[0m\u001b[0;36m32\u001b[0m\u001b[0;34m]\u001b[0m\u001b[0;34m)\u001b[0m\u001b[0;34m\u001b[0m\u001b[0;34m\u001b[0m\u001b[0m\n\u001b[0m\u001b[1;32m    190\u001b[0m     \u001b[0;31m# unfortunately, it cannot handle 32 or more arguments directly\u001b[0m\u001b[0;34m\u001b[0m\u001b[0;34m\u001b[0m\u001b[0;34m\u001b[0m\u001b[0m\n\u001b[1;32m    191\u001b[0m     \u001b[0;32mfor\u001b[0m \u001b[0mpos\u001b[0m \u001b[0;32min\u001b[0m \u001b[0mrange\u001b[0m\u001b[0;34m(\u001b[0m\u001b[0;36m32\u001b[0m\u001b[0;34m,\u001b[0m \u001b[0mlen\u001b[0m\u001b[0;34m(\u001b[0m\u001b[0margs\u001b[0m\u001b[0;34m)\u001b[0m\u001b[0;34m,\u001b[0m \u001b[0;36m31\u001b[0m\u001b[0;34m)\u001b[0m\u001b[0;34m:\u001b[0m\u001b[0;34m\u001b[0m\u001b[0;34m\u001b[0m\u001b[0m\n",
      "\u001b[0;31mValueError\u001b[0m: shape mismatch: objects cannot be broadcast to a single shape"
     ]
    },
    {
     "data": {
      "image/png": "[encoded data removed]",
      "text/plain": [
       "<Figure size 720x432 with 1 Axes>"
      ]
     },
     "metadata": {
      "needs_background": "light"
     },
     "output_type": "display_data"
    }
   ],
   "source": [
    "plt.figure(figsize=(10, 6))\n",
    "ind = np.arange(len(susp_totals))  # the x locations for the groups\n",
    "width = 0.25       # the width of the bars\n",
    "\n",
    "# plot bars\n",
    "susp_bars = plt.bar(ind, susp_totals, width, color='b', alpha=.7, label='Suspensions')\n",
    "\n",
    "# title and labels\n",
    "x = [0,1,2,3,4,5,6,7]\n",
    "xticklabels = ['SY1213', 'SY1314', 'SY1415', 'SY1516', 'SY1617', 'SY1718', 'SY1819', 'SY1920']\n",
    "plt.ylabel('Count', fontweight='bold')\n",
    "plt.xlabel('Year', fontweight='bold')\n",
    "plt.title('Suspensions', fontweight='bold')\n",
    "#plt.xticks(x, xticklabels, rotation=80)\n",
    "\n",
    "#locations = ind + width / 2  # xtick locations\n",
    "\n",
    "# legend\n",
    "plt.legend()\n",
    "plt.show()"
   ]
  },
  {
   "cell_type": "code",
   "execution_count": 179,
   "metadata": {},
   "outputs": [
    {
     "data": {
      "text/plain": [
       "AcademicYear  Type\n",
       "2012-2013     P       41884\n",
       "              S       11581\n",
       "2013-2014     P       41990\n",
       "              S       11514\n",
       "2014-2015     P       33753\n",
       "              S       10873\n",
       "2015-2016     P       27122\n",
       "              S       10525\n",
       "2016-2017     P       25696\n",
       "              S        9538\n",
       "2017-2018     P       26578\n",
       "              S       10090\n",
       "2018-2019     P       23936\n",
       "              S        8865\n",
       "2019-2020     P       13937\n",
       "              S        4278\n",
       "Name: AcademicYear, dtype: int64"
      ]
     },
     "execution_count": 179,
     "metadata": {},
     "output_type": "execute_result"
    }
   ],
   "source": [
    "susp_type_totals = susp_final.groupby(['AcademicYear', 'Type']).AcademicYear.count()\n",
    "susp_type_totals"
   ]
  },
  {
   "cell_type": "code",
   "execution_count": 332,
   "metadata": {
    "scrolled": false
   },
   "outputs": [
    {
     "data": {
      "text/plain": [
       "<matplotlib.legend.Legend at 0x2d73f1810>"
      ]
     },
     "execution_count": 332,
     "metadata": {},
     "output_type": "execute_result"
    },
    {
     "data": {
      "image/png": "[encoded data removed]",
      "text/plain": [
       "<Figure size 720x432 with 1 Axes>"
      ]
     },
     "metadata": {
      "needs_background": "light"
     },
     "output_type": "display_data"
    }
   ],
   "source": [
    "plt.figure(figsize=(10, 6))\n",
    "ind = np.arange(len(susp_type_totals))  # the x locations for the groups\n",
    "width = 0.5       # the width of the bars\n",
    "\n",
    "# plot bars\n",
    "susp_bars = plt.bar(ind, susp_type_totals, width, color='b', alpha=.7, label='Suspensions')\n",
    "\n",
    "# title and labels\n",
    "x = [0,1,2,3,4,5,6,7, 8, 9, 10,11,12,13,14,15]\n",
    "xticklabels = ['SY1213--P', 'SY1213--S','SY1314--P', 'SY1314--S','SY1415--P', 'SY1415--S','SY1516--P', 'SY1516--S','SY1617--P', 'SY1617--S','SY1718--P', 'SY1718--S','SY1819--P', 'SY1819--S','SY1920--P','SY1920--S']\n",
    "plt.ylabel('Count', fontweight='bold')\n",
    "plt.xlabel('Year/Type', fontweight='bold')\n",
    "plt.title('Suspensions by Year & Type', fontweight='bold')\n",
    "plt.xticks(x, xticklabels, rotation=80)\n",
    "\n",
    "locations = ind + width / 2  # xtick locations\n",
    "\n",
    "# legend\n",
    "plt.legend()"
   ]
  },
  {
   "cell_type": "code",
   "execution_count": 267,
   "metadata": {},
   "outputs": [
    {
     "data": {
      "image/png": "[encoded data removed]",
      "text/plain": [
       "<Figure size 720x432 with 1 Axes>"
      ]
     },
     "metadata": {
      "needs_background": "light"
     },
     "output_type": "display_data"
    }
   ],
   "source": [
    "#Source: https://python-graph-gallery.com/11-grouped-barplot/\n",
    "\n",
    "plt.figure(figsize=(10, 6))\n",
    "\n",
    "# set width of bar\n",
    "barWidth = 0.35\n",
    " \n",
    "# set height of bar\n",
    "bars1 = [41884, 41990, 33753, 27122, 25696, 26578, 23936, 13937]\n",
    "bars2 = [11581, 11514, 10873, 10525, 9538, 10090, 8865, 4278]\n",
    "\n",
    " \n",
    "# Set position of bar on X axis\n",
    "r1 = np.arange(len(bars1))\n",
    "r2 = [x + barWidth for x in r1]\n",
    "\n",
    " \n",
    "# Make the plot\n",
    "plt.bar(r1, bars1, color='b', width=barWidth, edgecolor='white', label='Principal')\n",
    "plt.bar(r2, bars2, color='g', width=barWidth, edgecolor='white', label='Superintendent')\n",
    "\n",
    " \n",
    "# Add xticks on the middle of the group bars\n",
    "plt.xlabel('Year/Type', fontweight='bold')\n",
    "#plt.xticks(rotation=80)\n",
    "plt.ylabel('Count')\n",
    "plt.xticks([r + barWidth for r in range(len(bars1))], ['SY1213', 'SY1314', 'SY1415', 'SY1516', 'SY1617', 'SY1718', 'SY1819', 'SY1920'])\n",
    "plt.title('Suspensions')\n",
    "\n",
    "# Create legend & Show graphic\n",
    "plt.legend()\n",
    "plt.show()\n"
   ]
  },
  {
   "cell_type": "code",
   "execution_count": 49,
   "metadata": {
    "scrolled": true
   },
   "outputs": [
    {
     "data": {
      "text/plain": [
       "AcademicYear  ethnicity\n",
       "2012-2013     Asian         1952\n",
       "              Black        28230\n",
       "              Hispanic     19191\n",
       "              Other          485\n",
       "              White         3607\n",
       "2013-2014     Asian         1923\n",
       "              Black        28387\n",
       "              Hispanic     19141\n",
       "              Other          484\n",
       "              White         3569\n",
       "2014-2015     Asian         1687\n",
       "              Black        23068\n",
       "              Hispanic     15966\n",
       "              Other          599\n",
       "              White         3306\n",
       "2015-2016     Asian         1531\n",
       "              Black        18678\n",
       "              Hispanic     13869\n",
       "              Other          562\n",
       "              White         3007\n",
       "2016-2017     Asian         1676\n",
       "              Black        16529\n",
       "              Hispanic     13585\n",
       "              Other          578\n",
       "              White         2866\n",
       "2017-2018     Asian         1793\n",
       "              Black        16765\n",
       "              Hispanic     14448\n",
       "              Other          662\n",
       "              White         3000\n",
       "2018-2019     Asian         1794\n",
       "              Black        14681\n",
       "              Hispanic     12816\n",
       "              Other          617\n",
       "              White         2893\n",
       "2019-2020     Asian         1007\n",
       "              Black         7882\n",
       "              Hispanic      7290\n",
       "              Other          372\n",
       "              White         1664\n",
       "Name: ethnicity, dtype: int64"
      ]
     },
     "execution_count": 49,
     "metadata": {},
     "output_type": "execute_result"
    }
   ],
   "source": [
    "race_susp_counts = susp_final.groupby(['AcademicYear', 'ethnicity']).ethnicity.count()\n",
    "race_susp_counts"
   ]
  },
  {
   "cell_type": "code",
   "execution_count": 50,
   "metadata": {},
   "outputs": [
    {
     "data": {
      "text/plain": [
       "AcademicYear  ethnicity\n",
       "2012-2013     Asian         3.650987\n",
       "              Black        52.800898\n",
       "              Hispanic     35.894510\n",
       "              Other         0.907136\n",
       "              White         6.746470\n",
       "2013-2014     Asian         3.594124\n",
       "              Black        53.055846\n",
       "              Hispanic     35.774895\n",
       "              Other         0.904605\n",
       "              White         6.670529\n",
       "2014-2015     Asian         3.780307\n",
       "              Black        51.691839\n",
       "              Hispanic     35.777350\n",
       "              Other         1.342267\n",
       "              White         7.408237\n",
       "2015-2016     Asian         4.066725\n",
       "              Black        49.613515\n",
       "              Hispanic     36.839589\n",
       "              Other         1.492815\n",
       "              White         7.987356\n",
       "2016-2017     Asian         4.756769\n",
       "              Black        46.912074\n",
       "              Hispanic     38.556508\n",
       "              Other         1.640461\n",
       "              White         8.134189\n",
       "2017-2018     Asian         4.889822\n",
       "              Black        45.721065\n",
       "              Hispanic     39.402204\n",
       "              Other         1.805389\n",
       "              White         8.181521\n",
       "2018-2019     Asian         5.469345\n",
       "              Black        44.757782\n",
       "              Hispanic     39.071980\n",
       "              Other         1.881040\n",
       "              White         8.819853\n",
       "2019-2020     Asian         5.528411\n",
       "              Black        43.272029\n",
       "              Hispanic     40.021960\n",
       "              Other         2.042273\n",
       "              White         9.135328\n",
       "dtype: float64"
      ]
     },
     "execution_count": 50,
     "metadata": {},
     "output_type": "execute_result"
    }
   ],
   "source": [
    "#susp_by_year = susp_final.groupby(['AcademicYear', 'ethnicity'])['total'].sum( )\n",
    "#susp_totals = pd.DataFrame(susp_by_year) \n",
    "\n",
    "race_susp_percents = (race_susp_counts/susp_totals) * 100\n",
    "race_susp_percents"
   ]
  },
  {
   "cell_type": "code",
   "execution_count": 209,
   "metadata": {
    "scrolled": true
   },
   "outputs": [
    {
     "data": {
      "image/png": "[encoded data removed]",
      "text/plain": [
       "<Figure size 1080x360 with 1 Axes>"
      ]
     },
     "metadata": {
      "needs_background": "light"
     },
     "output_type": "display_data"
    }
   ],
   "source": [
    "x = [0,1,2,3,4,5,6,7,8,9,10,11,12,13,14,15,16,17,18,19,20,21,22,23,24,25,26,27,28,29,30,31,32,33,34,35,36,37,38,39,40]\n",
    "\n",
    "race_susp_percents.plot(kind='bar', title='Percent of Suspensions', alpha=0.5, figsize=(15, 5), align='center', width=0.5, label='Ethnicity', color=['red', 'blue', 'green', 'yellow','black','red', 'blue', 'green', 'yellow','black','red', 'blue', 'green', 'yellow','black','red', 'blue', 'green', 'yellow','black','red', 'blue', 'green', 'yellow','black','red', 'blue', 'green', 'yellow','black','red', 'blue', 'green', 'yellow','black','red', 'blue', 'green', 'yellow','black'])\n",
    "\n",
    "plt.xlabel(\"Year/Race\", fontsize=18)\n",
    "plt.ylabel(\"Percent\", fontsize=18)\n",
    "plt.xticks(rotation=90)\n",
    "#plt.legend()\n",
    "plt.show()\n"
   ]
  },
  {
   "cell_type": "code",
   "execution_count": 319,
   "metadata": {},
   "outputs": [
    {
     "data": {
      "image/png": "[encoded data removed]",
      "text/plain": [
       "<Figure size 1080x576 with 1 Axes>"
      ]
     },
     "metadata": {
      "needs_background": "light"
     },
     "output_type": "display_data"
    }
   ],
   "source": [
    "#Source: https://python-graph-gallery.com/11-grouped-barplot/\n",
    "\n",
    "import numpy as np\n",
    "import matplotlib.pyplot as plt\n",
    "\n",
    "plt.figure(figsize=(15, 8))\n",
    " \n",
    "# set width of bar\n",
    "barWidth = 0.2\n",
    " \n",
    "# set height of bar\n",
    "bars1 = [3.7, 3.6, 3.8, 4.1, 4.8, 4.9, 5.5, 5.5]\n",
    "bars2 = [52.8, 53.1, 51.7, 49.6, 46.9, 45.7, 44.8, 43.3]\n",
    "bars3 = [35.9, 35.8, 35.8, 36.8, 38.6, 39.4, 39.1, 40.0]\n",
    "bars4 = [6.7, 6.7, 7.4, 8.0, 8.1, 8.2, 8.8, 9.1]\n",
    " \n",
    "# Set position of bar on X axis\n",
    "r1 = np.arange(len(bars1))\n",
    "r2 = [x + barWidth for x in r1]\n",
    "r3 = [x + barWidth for x in r2]\n",
    "r4 = [x + barWidth for x in r3]\n",
    " \n",
    "# Make the plot\n",
    "plt.bar(r1, bars1, color='r', width=barWidth, edgecolor='white', label='% Asian Susp')\n",
    "plt.bar(r2, bars2, color='b', width=barWidth, edgecolor='white', label='% Black Susp')\n",
    "plt.bar(r3, bars3, color='g', width=barWidth, edgecolor='white', label='% Hispanic Susp')\n",
    "plt.bar(r4, bars4, color='m', width=barWidth, edgecolor='white', label='% White Susp')\n",
    " \n",
    "# Add xticks on the middle of the group bars\n",
    "plt.xlabel('Year/Ethnicity', fontweight='bold')\n",
    "plt.ylabel('Percent', fontweight='bold')\n",
    "plt.xticks([r + barWidth for r in range(len(bars1))], ['SY1213', 'SY1314', 'SY1415', 'SY1516', 'SY1617', 'SY1718', 'SY1819', 'SY1920'])\n",
    "plt.title('Percent of Suspensions: Ethnicity', fontweight='bold') \n",
    "    \n",
    "# Create legend & Show graphic\n",
    "plt.legend()\n",
    "plt.show()\n"
   ]
  },
  {
   "cell_type": "code",
   "execution_count": 322,
   "metadata": {
    "scrolled": false
   },
   "outputs": [
    {
     "data": {
      "image/png": "[encoded data removed]",
      "text/plain": [
       "<Figure size 1440x576 with 1 Axes>"
      ]
     },
     "metadata": {
      "needs_background": "light"
     },
     "output_type": "display_data"
    }
   ],
   "source": [
    "#Source: https://python-graph-gallery.com/11-grouped-barplot/\n",
    "\n",
    "import numpy as np\n",
    "import matplotlib.pyplot as plt\n",
    "\n",
    "plt.figure(figsize=(20, 8))\n",
    " \n",
    "# set width of bar\n",
    "barWidth = 0.1\n",
    " \n",
    "# set height of bar\n",
    "bars1 = [3.7, 3.6, 3.8, 4.1, 4.8, 4.9, 5.5, 5.5]\n",
    "bars2 = [16.1, 16.2, 16.9, 17.0, 17.2, 17.6, 17.9, 18.2]\n",
    "bars3 = [52.8, 53.1, 51.7, 49.6, 46.9, 45.7, 44.8, 43.3]\n",
    "bars4 = [27.2, 26.2, 25.1, 24.4, 23.8, 23.1, 22.4, 21.6]\n",
    "bars5 = [35.9, 35.8, 35.8, 36.8, 38.6, 39.4, 39.1, 40.0]\n",
    "bars6 = [40.5, 40.7, 40.8, 41.0, 41.1, 41.1, 41.0, 41.2]\n",
    "bars7 = [6.7, 6.7, 7.4, 8.0, 8.1, 8.2, 8.8, 9.1]\n",
    "bars8 = [14.9, 15.0, 15.4, 15.6, 15.7, 15.9, 16.0, 16.1]\n",
    " \n",
    "# Set position of bar on X axis\n",
    "r1 = np.arange(len(bars1))\n",
    "r2 = [x + barWidth for x in r1]\n",
    "r3 = [x + barWidth for x in r2]\n",
    "r4 = [x + barWidth for x in r3]\n",
    "r5 = [x + barWidth for x in r4]\n",
    "r6 = [x + barWidth for x in r5]\n",
    "r7 = [x + barWidth for x in r6]\n",
    "r8 = [x + barWidth for x in r7]\n",
    " \n",
    "# Make the plot\n",
    "plt.bar(r1, bars1, color='red', width=barWidth, edgecolor='white', label='% Asian Susp')\n",
    "plt.bar(r2, bars2, color='darkred', width=barWidth, edgecolor='white', label='% Asian Enroll')\n",
    "plt.bar(r3, bars3, color='blue', width=barWidth, edgecolor='white', label='% Black Susp')\n",
    "plt.bar(r4, bars4, color='darkblue', width=barWidth, edgecolor='white', label='% Black Enroll')\n",
    "plt.bar(r5, bars5, color='orange', width=barWidth, edgecolor='white', label='% Hispanic Susp')\n",
    "plt.bar(r6, bars6, color='orangered', width=barWidth, edgecolor='white', label='% Hispanic Enroll')\n",
    "plt.bar(r7, bars7, color='limegreen', width=barWidth, edgecolor='white', label='% White Susp')\n",
    "plt.bar(r8, bars8, color='forestgreen', width=barWidth, edgecolor='white', label='% White Enroll')\n",
    " \n",
    "# Add xticks on the middle of the group bars\n",
    "plt.xlabel('Year/Ethnicty', fontweight='bold')\n",
    "plt.ylabel('Percent', fontweight='bold')\n",
    "plt.xticks([r + barWidth for r in range(len(bars1))], ['SY1213', 'SY1314', 'SY1415', 'SY1516', 'SY1617', 'SY1718', 'SY1819', 'SY1920'])\n",
    "plt.title('Percent of Suspensions v Percent of Enrollment: Ethnicity', fontweight='bold') \n",
    "    \n",
    "# Create legend & Show graphic\n",
    "plt.legend()\n",
    "plt.show()"
   ]
  },
  {
   "cell_type": "code",
   "execution_count": 315,
   "metadata": {
    "scrolled": false
   },
   "outputs": [
    {
     "data": {
      "image/png": "[encoded data removed]",
      "text/plain": [
       "<Figure size 1080x576 with 1 Axes>"
      ]
     },
     "metadata": {
      "needs_background": "light"
     },
     "output_type": "display_data"
    }
   ],
   "source": [
    "#Source: https://python-graph-gallery.com/11-grouped-barplot/\n",
    "\n",
    "import numpy as np\n",
    "import matplotlib.pyplot as plt\n",
    "\n",
    "plt.figure(figsize=(15, 8))\n",
    " \n",
    "# set width of bar\n",
    "barWidth = 0.2\n",
    " \n",
    "# set height of bar\n",
    "bars1 = [0.23, 0.22, 0.23, 0.24, 0.27, 0.28, 0.3, 0.29]\n",
    "bars2 = [2.76, 2.89, 2.94, 2.84, 2.63, 2.59, 2.61, 2.67]\n",
    "bars3 = [0.86, 0.86, 0.85, 0.87, 0.93, 0.96, 0.95, 0.97]\n",
    "bars4 = [0.44, 0.43, 0.46, 0.49, 0.5, 0.51, 0.53, 0.52]\n",
    " \n",
    "# Set position of bar on X axis\n",
    "r1 = np.arange(len(bars1))\n",
    "r2 = [x + barWidth for x in r1]\n",
    "r3 = [x + barWidth for x in r2]\n",
    "r4 = [x + barWidth for x in r3]\n",
    " \n",
    "# Make the plot\n",
    "plt.bar(r1, bars1, color='red', width=barWidth, edgecolor='white', label='Asian')\n",
    "plt.bar(r2, bars2, color='blue', width=barWidth, edgecolor='white', label='Black')\n",
    "plt.bar(r3, bars3, color='orange', width=barWidth, edgecolor='white', label='Hispanic')\n",
    "plt.bar(r4, bars4, color='green', width=barWidth, edgecolor='white', label='White')\n",
    " \n",
    "# Add xticks on the middle of the group bars\n",
    "plt.xlabel('Year/Ethnicty', fontweight='bold')\n",
    "plt.ylabel('Relative Risk', fontweight='bold')\n",
    "plt.xticks([r + barWidth for r in range(len(bars1))], ['SY1213', 'SY1314', 'SY1415', 'SY1516', 'SY1617', 'SY1718', 'SY1819', 'SY1920'])\n",
    "plt.title('Relative Risk: Ethnicity', fontweight='bold') \n",
    "    \n",
    "# Create legend & Show graphic\n",
    "plt.legend()\n",
    "plt.show()\n"
   ]
  },
  {
   "cell_type": "code",
   "execution_count": 317,
   "metadata": {
    "scrolled": false
   },
   "outputs": [
    {
     "data": {
      "image/png": "[encoded data removed]",
      "text/plain": [
       "<Figure size 1440x720 with 1 Axes>"
      ]
     },
     "metadata": {
      "needs_background": "light"
     },
     "output_type": "display_data"
    }
   ],
   "source": [
    "#Source: https://python-graph-gallery.com/11-grouped-barplot/\n",
    "#Source: https://matplotlib.org/3.1.0/gallery/color/named_colors.html -- COLORS\n",
    "\n",
    "import numpy as np\n",
    "import matplotlib.pyplot as plt\n",
    "\n",
    "plt.figure(figsize=(20, 10))\n",
    " \n",
    "# set width of bar\n",
    "barWidth = 0.1\n",
    " \n",
    "# set height of bar\n",
    "bars1 = [.21, .20, .21, .22, .25, .25, .27, .27]\n",
    "bars2 = [.58, .54, .54, .52, .6, .67, .69, .63]\n",
    "bars3 = [1.99, 2.04, 2.02, 1.97, 1.87, 1.84, 1.9, 1.89]\n",
    "bars4 = [3.03, 3.15, 3.35, 3.21, 3.0, 3.02, 2.96, 3.11]\n",
    "bars5 = [.69, .69, .67, .7, .75, .77, .74, .73]\n",
    "bars6 = [1.51, 1.44, 1.49, 1.43, 1.47, 1.48, 1.53, 1.59]\n",
    "bars7 = [.36, .35, .37, .39, .4, .4, .44, .41]\n",
    "bars8 = [.88, .92, 1.03, 1.04, 1.0, 1.07, 1.02, 1.1]\n",
    " \n",
    "# Set position of bar on X axis\n",
    "r1 = np.arange(len(bars1))\n",
    "r2 = [x + barWidth for x in r1]\n",
    "r3 = [x + barWidth for x in r2]\n",
    "r4 = [x + barWidth for x in r3]\n",
    "r5 = [x + barWidth for x in r4]\n",
    "r6 = [x + barWidth for x in r5]\n",
    "r7 = [x + barWidth for x in r6]\n",
    "r8 = [x + barWidth for x in r7]\n",
    " \n",
    "# Make the plot\n",
    "plt.bar(r1, bars1, color='red', width=barWidth, edgecolor='white', label='Asian Gen Ed')\n",
    "plt.bar(r2, bars2, color='darkred', width=barWidth, edgecolor='white', label='Asian SWD')\n",
    "plt.bar(r3, bars3, color='blue', width=barWidth, edgecolor='white', label='Black Gen Ed')\n",
    "plt.bar(r4, bars4, color='darkblue', width=barWidth, edgecolor='white', label='Black SWD')\n",
    "plt.bar(r5, bars5, color='orange', width=barWidth, edgecolor='white', label='Hisapnic Gen Ed')\n",
    "plt.bar(r6, bars6, color='orangered', width=barWidth, edgecolor='white', label='Hispanic SWD')\n",
    "plt.bar(r7, bars7, color='limegreen', width=barWidth, edgecolor='white', label='White Gen Ed')\n",
    "plt.bar(r8, bars8, color='forestgreen', width=barWidth, edgecolor='white', label='White SWD')\n",
    " \n",
    "# Add xticks on the middle of the group bars\n",
    "plt.xlabel('Year/Ethnicty', fontweight='bold')\n",
    "plt.ylabel('Relative Risk', fontweight='bold')\n",
    "plt.xticks([r + barWidth for r in range(len(bars1))], ['SY1213', 'SY1314', 'SY1415', 'SY1516', 'SY1617', 'SY1718', 'SY1819', 'SY1920'])\n",
    "plt.title('Relative Risk: Ethnicity/SWD', fontweight='bold') \n",
    "    \n",
    "# Create legend & Show graphic\n",
    "plt.legend()\n",
    "plt.show()"
   ]
  },
  {
   "cell_type": "code",
   "execution_count": 327,
   "metadata": {},
   "outputs": [
    {
     "data": {
      "image/png": "[encoded data removed]",
      "text/plain": [
       "<Figure size 1440x720 with 1 Axes>"
      ]
     },
     "metadata": {
      "needs_background": "light"
     },
     "output_type": "display_data"
    }
   ],
   "source": [
    "#Source: https://python-graph-gallery.com/11-grouped-barplot/\n",
    "#Source: https://matplotlib.org/3.1.0/gallery/color/named_colors.html -- COLORS\n",
    "\n",
    "import numpy as np\n",
    "import matplotlib.pyplot as plt\n",
    "\n",
    "plt.figure(figsize=(20, 10))\n",
    " \n",
    "# set width of bar\n",
    "barWidth = 0.1\n",
    " \n",
    "# set height of bar\n",
    "bars1 = [1.37, 1.32, 1.33, 1.38, 1.42, 1.35, 1.41, 1.47] #Black_N_F\n",
    "bars2 = [2.15, 2.24, 2.35, 2.34, 2.21, 2.28, 2.24, 2.35] #Black_Y_F\n",
    "bars3 = [2.26, 2.45, 2.42, 2.3, 2.09, 2.13, 2.17, 2.09] #Black_N_M\n",
    "bars4 = [3.28, 3.39,3.62, 3.42, 3.2, 3.18, 3.14, 3.28] #Black_Y_M\n",
    "bars5 = [.49, .49, .48, .52, .57, .58, .6, .56] #Hispanic_N_F\n",
    "bars6 = [.99, .92, .98, .99, 1.0, 1.03, 1.12, 1.19] #Hispanic_Y_F\n",
    "bars7 = [1.02, 1.04, 1.0, 1.01, 1.03, 1.07, .99, 1.02] #Hispanic_N_M\n",
    "bars8 = [1.76, 1.69, 1.74, 1.64, 1.69, 1.69, 1.71, 1.75] #Hispanic_Y_M\n",
    " \n",
    "# Set position of bar on X axis\n",
    "r1 = np.arange(len(bars1))\n",
    "r2 = [x + barWidth for x in r1]\n",
    "r3 = [x + barWidth for x in r2]\n",
    "r4 = [x + barWidth for x in r3]\n",
    "r5 = [x + barWidth for x in r4]\n",
    "r6 = [x + barWidth for x in r5]\n",
    "r7 = [x + barWidth for x in r6]\n",
    "r8 = [x + barWidth for x in r7]\n",
    " \n",
    "# Make the plot\n",
    "plt.bar(r1, bars1, color='red', width=barWidth, edgecolor='white', label='Black Gen Ed Female')\n",
    "plt.bar(r2, bars2, color='darkred', width=barWidth, edgecolor='white', label='Black SWD Female')\n",
    "plt.bar(r3, bars3, color='blue', width=barWidth, edgecolor='white', label='Black Gen Ed Male')\n",
    "plt.bar(r4, bars4, color='darkblue', width=barWidth, edgecolor='white', label='Black SWD Male')\n",
    "plt.bar(r5, bars5, color='orange', width=barWidth, edgecolor='white', label='Hisapnic Gen Ed Female')\n",
    "plt.bar(r6, bars6, color='orangered', width=barWidth, edgecolor='white', label='Hispanic SWD Female')\n",
    "plt.bar(r7, bars7, color='limegreen', width=barWidth, edgecolor='white', label='Hisapnic Gen Ed Male')\n",
    "plt.bar(r8, bars8, color='forestgreen', width=barWidth, edgecolor='white', label='Hispanic SWD Male')\n",
    " \n",
    "# Add xticks on the middle of the group bars\n",
    "plt.xlabel('Year/Ethnicty/SWD', fontweight='bold')\n",
    "plt.ylabel('Relative Risk', fontweight='bold')\n",
    "plt.xticks([r + barWidth for r in range(len(bars1))], ['SY1213', 'SY1314', 'SY1415', 'SY1516', 'SY1617', 'SY1718', 'SY1819', 'SY1920'])\n",
    "plt.title('Relative Risk: Ethnicity/SWD/Gender', fontweight='bold') \n",
    "    \n",
    "# Create legend & Show graphic\n",
    "plt.legend()\n",
    "plt.show()"
   ]
  },
  {
   "cell_type": "code",
   "execution_count": 53,
   "metadata": {},
   "outputs": [
    {
     "data": {
      "text/plain": [
       "AcademicYear  SWD\n",
       "2012-2013     N      35213\n",
       "              Y      18252\n",
       "2013-2014     N      34212\n",
       "              Y      19292\n",
       "2014-2015     N      27562\n",
       "              Y      17064\n",
       "2015-2016     N      23122\n",
       "              Y      14525\n",
       "2016-2017     N      21526\n",
       "              Y      13708\n",
       "2017-2018     N      21978\n",
       "              Y      14690\n",
       "2018-2019     N      19783\n",
       "              Y      13018\n",
       "2019-2020     N      10844\n",
       "              Y       7371\n",
       "Name: SWD, dtype: int64"
      ]
     },
     "execution_count": 53,
     "metadata": {},
     "output_type": "execute_result"
    }
   ],
   "source": [
    "swd_susp_counts = susp_final.groupby(['AcademicYear', 'SWD']).SWD.count()\n",
    "swd_susp_counts"
   ]
  },
  {
   "cell_type": "code",
   "execution_count": 54,
   "metadata": {
    "scrolled": true
   },
   "outputs": [
    {
     "data": {
      "text/plain": [
       "AcademicYear  SWD\n",
       "2012-2013     N      65.861779\n",
       "              Y      34.138221\n",
       "2013-2014     N      63.942883\n",
       "              Y      36.057117\n",
       "2014-2015     N      61.762201\n",
       "              Y      38.237799\n",
       "2015-2016     N      61.417908\n",
       "              Y      38.582092\n",
       "2016-2017     N      61.094397\n",
       "              Y      38.905603\n",
       "2017-2018     N      59.937820\n",
       "              Y      40.062180\n",
       "2018-2019     N      60.312186\n",
       "              Y      39.687814\n",
       "2019-2020     N      59.533352\n",
       "              Y      40.466648\n",
       "dtype: float64"
      ]
     },
     "execution_count": 54,
     "metadata": {},
     "output_type": "execute_result"
    }
   ],
   "source": [
    "#susp_counts = susp_final.groupby(['AcademicYear', 'SWD']).ethnicity.count()\n",
    "#susp_totals = susp_final.groupby(['AcademicYear']).ethnicity.count()\n",
    "swd_susp_percents = (swd_susp_counts/susp_totals) * 100\n",
    "swd_susp_percents"
   ]
  },
  {
   "cell_type": "code",
   "execution_count": 175,
   "metadata": {
    "scrolled": true
   },
   "outputs": [
    {
     "data": {
      "text/plain": [
       "<matplotlib.legend.Legend at 0x2d846b9d0>"
      ]
     },
     "execution_count": 175,
     "metadata": {},
     "output_type": "execute_result"
    },
    {
     "data": {
      "image/png": "[encoded data removed]",
      "text/plain": [
       "<Figure size 720x432 with 1 Axes>"
      ]
     },
     "metadata": {
      "needs_background": "light"
     },
     "output_type": "display_data"
    }
   ],
   "source": [
    "#Source: https://stackoverflow.com/questions/11244514/modify-tick-label-text\n",
    "\n",
    "plt.figure(figsize=(10, 6))\n",
    "ind = np.arange(len(swd_susp_percents))  # the x locations for the groups\n",
    "width = 0.35       # the width of the bars\n",
    "\n",
    "# plot bars\n",
    "susp_bars = plt.bar(ind, swd_susp_percents, width, color='g', alpha=.7, label='% Susp')\n",
    "enroll_bars = plt.bar(ind + width, swd_percents, width, color='b', alpha=.7, label='% Enroll')\n",
    "\n",
    "# title and labels\n",
    "x = [0,1,2,3,4,5,6,7,8,9,10,11,12,13,14,15]\n",
    "xticklabels = ['SY1213--GEN ED', 'SY1213--SWD','SY1314--GEN ED', 'SY1314--SWD','SY1415--GEN ED', 'SY1415--SWD', 'SY1516--GEN ED', 'SY1516--SWD','SY1617--GEN ED','SY1617--SWD', 'SY1718--GEN ED', 'SY1718--SWD','SY1819--GEN ED', 'SY1819--SWD','SY1920--GEN ED', 'SY1920--SWD']\n",
    "plt.ylabel('Percent')\n",
    "plt.xlabel('Year')\n",
    "plt.title('SWD Suspensions v Enrollment')\n",
    "plt.xticks(x, xticklabels, rotation=80)\n",
    "\n",
    "locations = ind + width / 2  # xtick locations\n",
    "\n",
    "# legend\n",
    "plt.legend()\n"
   ]
  },
  {
   "cell_type": "code",
   "execution_count": 132,
   "metadata": {},
   "outputs": [
    {
     "data": {
      "text/plain": [
       "AcademicYear  SWD\n",
       "2012-2013     Y      18252\n",
       "2013-2014     Y      19292\n",
       "2014-2015     Y      17064\n",
       "2015-2016     Y      14525\n",
       "2016-2017     Y      13708\n",
       "2017-2018     Y      14690\n",
       "2018-2019     Y      13018\n",
       "2019-2020     Y       7371\n",
       "Name: SWD, dtype: int64"
      ]
     },
     "execution_count": 132,
     "metadata": {},
     "output_type": "execute_result"
    }
   ],
   "source": [
    "swd_y_susp = susp_final.query('SWD == \"Y\"')\n",
    "swd_y_susp_counts = swd_y_susp.groupby(['AcademicYear', 'SWD']).SWD.count()\n",
    "swd_y_susp_counts"
   ]
  },
  {
   "cell_type": "code",
   "execution_count": 133,
   "metadata": {
    "scrolled": true
   },
   "outputs": [
    {
     "data": {
      "text/plain": [
       "AcademicYear  SWD\n",
       "2012-2013     Y      34.138221\n",
       "2013-2014     Y      36.057117\n",
       "2014-2015     Y      38.237799\n",
       "2015-2016     Y      38.582092\n",
       "2016-2017     Y      38.905603\n",
       "2017-2018     Y      40.062180\n",
       "2018-2019     Y      39.687814\n",
       "2019-2020     Y      40.466648\n",
       "dtype: float64"
      ]
     },
     "execution_count": 133,
     "metadata": {},
     "output_type": "execute_result"
    }
   ],
   "source": [
    "swd_y_susp_percents = (swd_y_susp_counts/susp_totals)*100\n",
    "swd_y_susp_percents"
   ]
  },
  {
   "cell_type": "code",
   "execution_count": 134,
   "metadata": {},
   "outputs": [
    {
     "data": {
      "text/plain": [
       "AcademicYear  SWD\n",
       "2012-2013     N      35213\n",
       "2013-2014     N      34212\n",
       "2014-2015     N      27562\n",
       "2015-2016     N      23122\n",
       "2016-2017     N      21526\n",
       "2017-2018     N      21978\n",
       "2018-2019     N      19783\n",
       "2019-2020     N      10844\n",
       "Name: SWD, dtype: int64"
      ]
     },
     "execution_count": 134,
     "metadata": {},
     "output_type": "execute_result"
    }
   ],
   "source": [
    "swd_n_susp = susp_final.query('SWD == \"N\"')\n",
    "swd_n_susp_counts = swd_n_susp.groupby(['AcademicYear', 'SWD']).SWD.count()\n",
    "swd_n_susp_counts"
   ]
  },
  {
   "cell_type": "code",
   "execution_count": 135,
   "metadata": {
    "scrolled": true
   },
   "outputs": [
    {
     "data": {
      "text/plain": [
       "AcademicYear  SWD\n",
       "2012-2013     N      65.861779\n",
       "2013-2014     N      63.942883\n",
       "2014-2015     N      61.762201\n",
       "2015-2016     N      61.417908\n",
       "2016-2017     N      61.094397\n",
       "2017-2018     N      59.937820\n",
       "2018-2019     N      60.312186\n",
       "2019-2020     N      59.533352\n",
       "dtype: float64"
      ]
     },
     "execution_count": 135,
     "metadata": {},
     "output_type": "execute_result"
    }
   ],
   "source": [
    "swd_n_susp_percents = (swd_n_susp_counts/susp_totals)*100\n",
    "swd_n_susp_percents"
   ]
  },
  {
   "cell_type": "code",
   "execution_count": 323,
   "metadata": {},
   "outputs": [
    {
     "data": {
      "image/png": "[encoded data removed]",
      "text/plain": [
       "<Figure size 1080x576 with 1 Axes>"
      ]
     },
     "metadata": {
      "needs_background": "light"
     },
     "output_type": "display_data"
    }
   ],
   "source": [
    "#Source: https://python-graph-gallery.com/11-grouped-barplot/\n",
    "\n",
    "plt.figure(figsize=(15, 8))\n",
    "\n",
    "# set width of bar\n",
    "barWidth = 0.2\n",
    " \n",
    "# set height of bar\n",
    "bars1 = [34.1, 36.1, 38.2, 38.6, 38.9, 40.1, 39.7, 40.5]\n",
    "bars2 = [18.1, 19.4, 19.4, 20.5, 21.3, 21.8, 21.4, 21.9]\n",
    "bars3 = [65.9, 63.9, 61.8, 61.4, 61.1, 59.9, 60.3, 59.5]\n",
    "bars4 = [81.9, 80.6, 80.6, 79.5, 78.7, 78.2, 78.6, 78.1]\n",
    "\n",
    " \n",
    "# Set position of bar on X axis\n",
    "r1 = np.arange(len(bars1))\n",
    "r2 = [x + barWidth for x in r1]\n",
    "r3 = [x + barWidth for x in r2]\n",
    "r4 = [x + barWidth for x in r3]\n",
    " \n",
    "# Make the plot\n",
    "plt.bar(r1, bars1, color='r', width=barWidth, edgecolor='white', label='% SWD Susp')\n",
    "plt.bar(r2, bars2, color='purple', width=barWidth, edgecolor='white', label='% SWD Enroll')\n",
    "plt.bar(r3, bars3, color='b', width=barWidth, edgecolor='white', label='% Gen Ed Susp')\n",
    "plt.bar(r4, bars4, color='g', width=barWidth, edgecolor='white', label='%Gen Ed Enroll')\n",
    " \n",
    "# Add xticks on the middle of the group bars\n",
    "plt.xlabel('Year/Type', fontweight='bold')\n",
    "#plt.xticks(rotation=80)\n",
    "plt.ylabel('Percent', fontweight='bold')\n",
    "plt.xticks([r + barWidth for r in range(len(bars1))], ['SY1213', 'SY1314', 'SY1415', 'SY1516', 'SY1617', 'SY1718', 'SY1819', 'SY1920'])\n",
    "plt.title('Percent Suspensions v Percent Enrollment: SWD & Gen Ed', fontweight='bold')\n",
    "\n",
    "# Create legend & Show graphic\n",
    "plt.legend()\n",
    "plt.show()"
   ]
  },
  {
   "cell_type": "code",
   "execution_count": 330,
   "metadata": {},
   "outputs": [
    {
     "data": {
      "text/plain": [
       "<matplotlib.legend.Legend at 0x2d73183d0>"
      ]
     },
     "execution_count": 330,
     "metadata": {},
     "output_type": "execute_result"
    },
    {
     "data": {
      "image/png": "[encoded data removed]",
      "text/plain": [
       "<Figure size 720x432 with 1 Axes>"
      ]
     },
     "metadata": {
      "needs_background": "light"
     },
     "output_type": "display_data"
    }
   ],
   "source": [
    "plt.figure(figsize=(10, 6))\n",
    "ind = np.arange(len(swd_y_percents))\n",
    "width = 0.2       # the width of the bars\n",
    "\n",
    "# plot bars\n",
    "swd_y_susp_bars = plt.bar(ind, swd_y_susp_percents, width, color='g', alpha=.8, label='% SWD Susp')\n",
    "swd_y_percents_bars = plt.bar(ind + width, swd_y_percents, width, color='y', alpha=.8, label='% SWD Enroll')\n",
    "swd_n_susp_bars = plt.bar(ind + width, swd_n_susp_percents, width, color='b', alpha=.8, label='% Gen Ed Susp')\n",
    "swd_n_percents_bars = plt.bar(ind + width, swd_n_percents, width, color='r', alpha=.8, label='% Gen Ed Enroll')\n",
    "\n",
    "# title and labels\n",
    "x = [0,1,2,3, 4, 5, 6, 7]\n",
    "xticklabels = ['SY1213--GEN ED', 'SY1314--GEN ED', 'SY1415--GEN ED', 'SY1516--GEN ED', 'SY1617--GEN ED', 'SY1718--GEN ED', 'SY1819--GEN ED', 'SY1920--GEN ED']\n",
    "plt.ylabel('Percent')\n",
    "plt.xlabel('Year')\n",
    "plt.title('SWD Suspensions v Enrollment')\n",
    "#plt.xticks(x, xticklabels, rotation=60)\n",
    "\n",
    "#locations = ind + width / 2 # xtick locations\n",
    "\n",
    "# legend\n",
    "plt.legend()"
   ]
  },
  {
   "cell_type": "code",
   "execution_count": 157,
   "metadata": {},
   "outputs": [
    {
     "data": {
      "text/plain": [
       "<matplotlib.legend.Legend at 0x2d8c9bd90>"
      ]
     },
     "execution_count": 157,
     "metadata": {},
     "output_type": "execute_result"
    },
    {
     "data": {
      "image/png": "[encoded data removed]",
      "text/plain": [
       "<Figure size 720x432 with 1 Axes>"
      ]
     },
     "metadata": {
      "needs_background": "light"
     },
     "output_type": "display_data"
    }
   ],
   "source": [
    "plt.figure(figsize=(10, 6))\n",
    "ind = np.arange(len(swd_y_percents))  # the x locations for the groups\n",
    "width = 0.35       # the width of the bars\n",
    "\n",
    "# plot bars\n",
    "swd_y_susp_bars = plt.bar(ind, swd_y_susp_percents, width, color='g', alpha=.8, label='% SWD Susp')\n",
    "swd_y_percents_bars = plt.bar(ind + width, swd_y_percents, width, color='y', alpha=.8, label='% SWD Enroll')\n",
    "\n",
    "\n",
    "# title and labels\n",
    "#Zx = [0,2,4,6, 8, 10, 12, 14]\n",
    "xticklabels = ['SY1213--GEN ED', 'SY1314--GEN ED', 'SY1415--GEN ED', 'SY1516--GEN ED', 'SY1617--GEN ED', 'SY1718--GEN ED', 'SY1819--GEN ED', 'SY1920--GEN ED']\n",
    "plt.ylabel('Percent')\n",
    "plt.xlabel('Year')\n",
    "plt.title('SWD Suspensions v Enrollment')\n",
    "plt.xticks(x, xticklabels, rotation=60)\n",
    "\n",
    "locations = ind + width / 2 # xtick locations\n",
    "\n",
    "# legend\n",
    "plt.legend()"
   ]
  },
  {
   "cell_type": "code",
   "execution_count": null,
   "metadata": {},
   "outputs": [],
   "source": [
    "plt.figure(figsize=(10, 6))\n",
    "ind = np.arange(len(swd_y_percents))  # the x locations for the groups\n",
    "width = 0.35       # the width of the bars\n",
    "\n",
    "# plot bars\n",
    "\n",
    "swd_n_susp_bars = plt.bar(ind + width*4, swd_n_susp_percents, width, color='b', alpha=.8, label='% Gen Ed Susp')\n",
    "swd_n_percents_bars = plt.bar(ind + width*6, swd_n_percents, width, color='r', alpha=.8, label='% Gen Ed Enroll')\n",
    "\n",
    "# title and labels\n",
    "#Zx = [0,2,4,6, 8, 10, 12, 14]\n",
    "xticklabels = ['SY1213--GEN ED', 'SY1314--GEN ED', 'SY1415--GEN ED', 'SY1516--GEN ED', 'SY1617--GEN ED', 'SY1718--GEN ED', 'SY1819--GEN ED', 'SY1920--GEN ED']\n",
    "plt.ylabel('Percent')\n",
    "plt.xlabel('Year')\n",
    "plt.title('SWD Suspensions v Enrollment')\n",
    "plt.xticks(x, xticklabels, rotation=60)\n",
    "\n",
    "locations = ind + width / 2 # xtick locations\n",
    "\n",
    "# legend\n",
    "plt.legend()"
   ]
  },
  {
   "cell_type": "code",
   "execution_count": null,
   "metadata": {},
   "outputs": [],
   "source": [
    "#########SWD RELATIVE RISK"
   ]
  },
  {
   "cell_type": "code",
   "execution_count": 239,
   "metadata": {},
   "outputs": [],
   "source": [
    "##NOT WORKING!!!!\n",
    "#swd_rel_risk = ((swd_susp_pivot2/swd_flg_enroll) / ((susp_totals - swd_susp_pivot2) / (total_enroll - swd_flg_enroll)))\n",
    "#swd_rel_risk"
   ]
  },
  {
   "cell_type": "code",
   "execution_count": 124,
   "metadata": {
    "scrolled": false
   },
   "outputs": [
    {
     "data": {
      "text/plain": [
       "<matplotlib.legend.Legend at 0x2d97eac50>"
      ]
     },
     "execution_count": 124,
     "metadata": {},
     "output_type": "execute_result"
    },
    {
     "data": {
      "image/png": "[encoded data removed]",
      "text/plain": [
       "<Figure size 1080x432 with 1 Axes>"
      ]
     },
     "metadata": {
      "needs_background": "light"
     },
     "output_type": "display_data"
    }
   ],
   "source": [
    "plt.figure(figsize=(15, 6))\n",
    "ind = np.arange(len(race_susp_percents))  # the x locations for the groups\n",
    "width = 0.35       # the width of the bars\n",
    "\n",
    "x = [0,1,2,3,4,5,6,7,8,9,10,11,12,13,14,15,16,17,18,19,20,21,22,23,24,25,26,27,28,29,30,31,32,33,34,35,36,37,38,39,40]\n",
    "xticklabels = ['SY1213--GEN ED', 'SY1314--GEN ED', 'SY1415--GEN ED', 'SY1516--GEN ED', 'SY1617--GEN ED', 'SY1718--GEN ED', 'SY1819--GEN ED', 'SY1920--GEN ED']\n",
    "\n",
    "# plot bars\n",
    "susp_bars = plt.bar(ind, race_susp_percents, width, color='g', alpha=.7, label='% Susp')\n",
    "enroll_bars = plt.bar(ind + width, race_percents, width, color='b', alpha=.7, label='% Enroll')\n",
    "\n",
    "# title and labels\n",
    "#x = [0,2,4,6, 8, 10, 12, 14]\n",
    "#xticklabels = ['SY1213--GEN ED', 'SY1314--GEN ED', 'SY1415--GEN ED', 'SY1516--GEN ED', 'SY1617--GEN ED', 'SY1718--GEN ED', 'SY1819--GEN ED', 'SY1920--GEN ED']\n",
    "plt.ylabel('Percent')\n",
    "plt.xlabel('Year')\n",
    "plt.title('Suspensions v Enrollment by Race')\n",
    "plt.xticks(x, xticklabels, rotation=60)\n",
    "\n",
    "locations = ind + width / 2  # xtick locations\n",
    "\n",
    "# legend\n",
    "plt.legend()"
   ]
  },
  {
   "cell_type": "code",
   "execution_count": 210,
   "metadata": {},
   "outputs": [
    {
     "data": {
      "text/plain": [
       "AcademicYear  ethnicity\n",
       "2012-2013     Asian        1952\n",
       "2013-2014     Asian        1923\n",
       "2014-2015     Asian        1687\n",
       "2015-2016     Asian        1531\n",
       "2016-2017     Asian        1676\n",
       "2017-2018     Asian        1793\n",
       "2018-2019     Asian        1794\n",
       "2019-2020     Asian        1007\n",
       "Name: ethnicity, dtype: int64"
      ]
     },
     "execution_count": 210,
     "metadata": {},
     "output_type": "execute_result"
    }
   ],
   "source": [
    "race_asian_susp = susp_final.query('ethnicity == \"Asian\"')\n",
    "race_asian_susp_counts = race_asian_susp.groupby(['AcademicYear', 'ethnicity']).ethnicity.count()\n",
    "race_asian_susp_counts"
   ]
  },
  {
   "cell_type": "code",
   "execution_count": 55,
   "metadata": {},
   "outputs": [
    {
     "data": {
      "text/plain": [
       "AcademicYear  ethnicity_SWD\n",
       "2012-2013     Asian_N           1595\n",
       "              Asian_Y            357\n",
       "              Black_N          18846\n",
       "              Black_Y           9384\n",
       "              Hispanic_N       12134\n",
       "                               ...  \n",
       "2019-2020     Hispanic_Y        3149\n",
       "              Other_N            242\n",
       "              Other_Y            130\n",
       "              White_N           1002\n",
       "              White_Y            662\n",
       "Name: ethnicity_SWD, Length: 80, dtype: int64"
      ]
     },
     "execution_count": 55,
     "metadata": {},
     "output_type": "execute_result"
    }
   ],
   "source": [
    "race_swd_susp_counts = susp_final.groupby(['AcademicYear', 'ethnicity_SWD']).ethnicity_SWD.count()\n",
    "race_swd_susp_counts"
   ]
  },
  {
   "cell_type": "code",
   "execution_count": 56,
   "metadata": {
    "scrolled": true
   },
   "outputs": [
    {
     "data": {
      "text/plain": [
       "AcademicYear  ethnicity_SWD\n",
       "2012-2013     Asian_N           2.983260\n",
       "              Asian_Y           0.667727\n",
       "              Black_N          35.249228\n",
       "              Black_Y          17.551669\n",
       "              Hispanic_N       22.695221\n",
       "                                 ...    \n",
       "2019-2020     Hispanic_Y       17.287949\n",
       "              Other_N           1.328575\n",
       "              Other_Y           0.713698\n",
       "              White_N           5.500961\n",
       "              White_Y           3.634367\n",
       "Length: 80, dtype: float64"
      ]
     },
     "execution_count": 56,
     "metadata": {},
     "output_type": "execute_result"
    }
   ],
   "source": [
    "race_swd_susp_percents = (race_swd_susp_counts/susp_totals) * 100\n",
    "race_swd_susp_percents"
   ]
  },
  {
   "cell_type": "code",
   "execution_count": 57,
   "metadata": {},
   "outputs": [
    {
     "data": {
      "text/plain": [
       "AcademicYear  ethnicity_SWD_Gender\n",
       "2012-2013     Asian_N_F                298\n",
       "              Asian_N_M               1297\n",
       "              Asian_Y_F                 34\n",
       "              Asian_Y_M                323\n",
       "              Black_N_F               7621\n",
       "                                      ... \n",
       "2019-2020     Other_Y_M                108\n",
       "              White_N_F                267\n",
       "              White_N_M                735\n",
       "              White_Y_F                 81\n",
       "              White_Y_M                581\n",
       "Name: ethnicity_SWD_Gender, Length: 160, dtype: int64"
      ]
     },
     "execution_count": 57,
     "metadata": {},
     "output_type": "execute_result"
    }
   ],
   "source": [
    "race_swd_Gender_susp_counts = susp_final.groupby(['AcademicYear', 'ethnicity_SWD_Gender']).ethnicity_SWD_Gender.count()\n",
    "race_swd_Gender_susp_counts"
   ]
  },
  {
   "cell_type": "code",
   "execution_count": 58,
   "metadata": {
    "scrolled": true
   },
   "outputs": [
    {
     "data": {
      "text/plain": [
       "AcademicYear  ethnicity_SWD_Gender\n",
       "2012-2013     Asian_N_F                0.557374\n",
       "              Asian_N_M                2.425886\n",
       "              Asian_Y_F                0.063593\n",
       "              Asian_Y_M                0.604134\n",
       "              Black_N_F               14.254185\n",
       "                                        ...    \n",
       "2019-2020     Other_Y_M                0.592918\n",
       "              White_N_F                1.465825\n",
       "              White_N_M                4.035136\n",
       "              White_Y_F                0.444688\n",
       "              White_Y_M                3.189679\n",
       "Length: 160, dtype: float64"
      ]
     },
     "execution_count": 58,
     "metadata": {},
     "output_type": "execute_result"
    }
   ],
   "source": [
    "race_swd_Gender_percents = (race_swd_Gender_susp_counts/susp_totals) * 100\n",
    "race_swd_Gender_percents"
   ]
  },
  {
   "cell_type": "code",
   "execution_count": 59,
   "metadata": {},
   "outputs": [
    {
     "data": {
      "text/plain": [
       "AcademicYear  ethnicity_SWD_Gender_grade_cat\n",
       "2012-2013     Asian_N_F_HS                      111\n",
       "              Asian_N_F_Other                   187\n",
       "              Asian_N_M_HS                      387\n",
       "              Asian_N_M_Other                   910\n",
       "              Asian_Y_F_HS                        5\n",
       "                                               ... \n",
       "2019-2020     White_N_M_Other                   466\n",
       "              White_Y_F_HS                       26\n",
       "              White_Y_F_Other                    55\n",
       "              White_Y_M_HS                      149\n",
       "              White_Y_M_Other                   432\n",
       "Name: ethnicity_SWD_Gender_grade_cat, Length: 320, dtype: int64"
      ]
     },
     "execution_count": 59,
     "metadata": {},
     "output_type": "execute_result"
    }
   ],
   "source": [
    "race_swd_Gender_grade_cat_susp_counts = susp_final.groupby(['AcademicYear', 'ethnicity_SWD_Gender_grade_cat']).ethnicity_SWD_Gender_grade_cat.count()\n",
    "race_swd_Gender_grade_cat_susp_counts"
   ]
  },
  {
   "cell_type": "code",
   "execution_count": 60,
   "metadata": {},
   "outputs": [
    {
     "data": {
      "text/plain": [
       "AcademicYear  ethnicity_SWD_Gender_grade_cat\n",
       "2012-2013     Asian_N_F_HS                      0.207612\n",
       "              Asian_N_F_Other                   0.349762\n",
       "              Asian_N_M_HS                      0.723838\n",
       "              Asian_N_M_Other                   1.702048\n",
       "              Asian_Y_F_HS                      0.009352\n",
       "                                                  ...   \n",
       "2019-2020     White_N_M_Other                   2.558331\n",
       "              White_Y_F_HS                      0.142740\n",
       "              White_Y_F_Other                   0.301949\n",
       "              White_Y_M_HS                      0.818007\n",
       "              White_Y_M_Other                   2.371672\n",
       "Length: 320, dtype: float64"
      ]
     },
     "execution_count": 60,
     "metadata": {},
     "output_type": "execute_result"
    }
   ],
   "source": [
    "race_swd_Gender_grade_cat_percents = (race_swd_Gender_grade_cat_susp_counts/susp_totals) * 100\n",
    "race_swd_Gender_grade_cat_percents"
   ]
  },
  {
   "cell_type": "code",
   "execution_count": 241,
   "metadata": {
    "scrolled": true
   },
   "outputs": [
    {
     "name": "stdout",
     "output_type": "stream",
     "text": [
      "             Student_ID                                                    \\\n",
      "AcademicYear  2012-2013 2013-2014 2014-2015 2015-2016 2016-2017 2017-2018   \n",
      "Borough                                                                     \n",
      "K                 11246     11122      9216      7998      7379      7613   \n",
      "M                  5341      5326      4736      4286      3859      3968   \n",
      "O                     4        14         9        25        29        16   \n",
      "Q                  8357      7957      7014      6112      5833      6037   \n",
      "R                  2127      2020      1996      1753      1702      1617   \n",
      "X                  8764      8709      7324      6407      6486      6853   \n",
      "\n",
      "                                  \n",
      "AcademicYear 2018-2019 2019-2020  \n",
      "Borough                           \n",
      "K                 7120      4194  \n",
      "M                 3810      2292  \n",
      "O                   23        14  \n",
      "Q                 5284      3215  \n",
      "R                 1566      1174  \n",
      "X                 5827      3363  \n"
     ]
    }
   ],
   "source": [
    "#Pivot susp data to get summary\n",
    "susp_pivot = pd.DataFrame(susp_final, columns= ['Borough','AcademicYear','ethnicity', 'Gender', 'SWD', 'grade_cat', 'ethnicity_SWD', 'ethnicity_SWD_Gender','ethnicity_SWD_Gender_grade_cat','total', 'Student_ID'])\n",
    "\n",
    "susp_totals = susp_pivot.pivot_table(index=['Borough'], columns=['AcademicYear'], values=['Student_ID'], aggfunc='nunique', fill_value=0)\n",
    "print(susp_totals)\n",
    "\n"
   ]
  },
  {
   "cell_type": "code",
   "execution_count": 320,
   "metadata": {
    "scrolled": false
   },
   "outputs": [
    {
     "name": "stdout",
     "output_type": "stream",
     "text": [
      "             Student_ID                                                      \\\n",
      "AcademicYear  2012-2013                            2013-2014                  \n",
      "ethnicity         Asian Black Hispanic Other White     Asian Black Hispanic   \n",
      "Borough                                                                       \n",
      "K                   362  7679     2368    83   754       376  7543     2354   \n",
      "M                   163  2415     2470    71   222       129  2446     2455   \n",
      "O                     0     3        1     0     0         0     9        5   \n",
      "Q                   873  3762     2964    92   666       832  3516     2815   \n",
      "R                    48   770      554    24   731        48   733      555   \n",
      "X                    96  3589     4850    55   174        90  3587     4810   \n",
      "\n",
      "                          ...                                                 \\\n",
      "AcademicYear              ... 2018-2019                            2019-2020   \n",
      "ethnicity    Other White  ...     Asian Black Hispanic Other White     Asian   \n",
      "Borough                   ...                                                  \n",
      "K               95   754  ...       478  3931     1860   117   734       279   \n",
      "M               79   217  ...       132  1537     1763   104   274        88   \n",
      "O                0     0  ...         0    18        2     0     3         0   \n",
      "Q               90   704  ...       686  1857     2103   143   495       393   \n",
      "R               23   661  ...        55   507      464    36   504        45   \n",
      "X               53   169  ...        94  2302     3206    77   148        59   \n",
      "\n",
      "                                         \n",
      "AcademicYear                             \n",
      "ethnicity    Black Hispanic Other White  \n",
      "Borough                                  \n",
      "K             2240     1200    77   398  \n",
      "M              940     1028    64   172  \n",
      "O                7        4     1     2  \n",
      "Q             1124     1290    89   319  \n",
      "R              393      384    27   325  \n",
      "X             1343     1849    32    80  \n",
      "\n",
      "[6 rows x 40 columns]\n"
     ]
    }
   ],
   "source": [
    "race_susp_pivot = susp_pivot.pivot_table(index=['Borough'], columns=['AcademicYear','ethnicity'], values=['Student_ID'], aggfunc='nunique', fill_value=0)\n",
    "print(race_susp_pivot)"
   ]
  },
  {
   "cell_type": "code",
   "execution_count": 230,
   "metadata": {
    "scrolled": false
   },
   "outputs": [
    {
     "name": "stdout",
     "output_type": "stream",
     "text": [
      "             Student_ID                            \n",
      "ethnicity         Asian  Black Hispanic Other White\n",
      "AcademicYear                                       \n",
      "2012-2013          1541  18183    13193   324  2545\n",
      "2013-2014          1475  17796    12977   340  2504\n",
      "2014-2015          1343  14992    11157   388  2358\n",
      "2015-2016          1225  12683    10017   406  2214\n",
      "2016-2017          1361  11381     9952   426  2138\n",
      "2017-2018          1454  11395    10467   471  2278\n",
      "2018-2019          1444  10129     9389   477  2156\n",
      "2019-2020           864   6032     5748   290  1294\n"
     ]
    }
   ],
   "source": [
    "####REL RISK TABLES\n",
    "\n",
    "race_susp_pivot2 = susp_pivot.pivot_table(index=['AcademicYear'], columns=['ethnicity'], values=['Student_ID'], aggfunc='nunique', fill_value=0)\n",
    "print(race_susp_pivot2)"
   ]
  },
  {
   "cell_type": "code",
   "execution_count": 242,
   "metadata": {},
   "outputs": [],
   "source": [
    "enroll_pivot = pd.DataFrame(enroll_final, columns= ['borough','year','ethnicity', 'sex', 'swd_flg', 'grade_cat', 'ethnicity_swd_flg', 'ethnicity_swd_flg_sex','ethnicity_swd_flg_sex_grade_cat','total'])\n"
   ]
  },
  {
   "cell_type": "code",
   "execution_count": 233,
   "metadata": {
    "scrolled": false
   },
   "outputs": [
    {
     "name": "stdout",
     "output_type": "stream",
     "text": [
      "            total                                \n",
      "ethnicity   Asian   Black Hispanic  Other   White\n",
      "year                                             \n",
      "2012-2013  150240  254570   378530  12021  139463\n",
      "2013-2014  150867  241826   375256  15660  138502\n",
      "2014-2015  154602  229781   374413  16750  141294\n",
      "2015-2016  156829  225563   378836  19192  144350\n",
      "2016-2017  158962  220052   379771  20675  145322\n",
      "2017-2018  161599  211884   377441  22240  145702\n",
      "2018-2019  167021  208892   382963  25178  149096\n",
      "2019-2020  166679  197864   377239  25424  147732\n"
     ]
    }
   ],
   "source": [
    "race_enroll_pivot2 = enroll_pivot.pivot_table(index=['year'], columns=['ethnicity'], values=['total'], aggfunc='sum', fill_value=0)\n",
    "print(race_enroll_pivot2)"
   ]
  },
  {
   "cell_type": "code",
   "execution_count": 236,
   "metadata": {
    "scrolled": true
   },
   "outputs": [
    {
     "name": "stdout",
     "output_type": "stream",
     "text": [
      "             Student_ID       \n",
      "SWD                   N      Y\n",
      "AcademicYear                  \n",
      "2012-2013         24656  11130\n",
      "2013-2014         23623  11469\n",
      "2014-2015         19859  10379\n",
      "2015-2016         17304   9241\n",
      "2016-2017         16350   8908\n",
      "2017-2018         16598   9467\n",
      "2018-2019         15160   8435\n",
      "2019-2020          8910   5318\n"
     ]
    }
   ],
   "source": [
    "swd_susp_pivot2 = susp_pivot.pivot_table(index=['AcademicYear'], columns=['SWD'], values=['Student_ID'], aggfunc='nunique', fill_value=0)\n",
    "print(swd_susp_pivot2)\n"
   ]
  },
  {
   "cell_type": "code",
   "execution_count": 237,
   "metadata": {
    "scrolled": true
   },
   "outputs": [
    {
     "name": "stdout",
     "output_type": "stream",
     "text": [
      "            total        \n",
      "swd_flg         N       Y\n",
      "year                     \n",
      "2012-2013  765097  169727\n",
      "2013-2014  743211  178900\n",
      "2014-2015  738699  178141\n",
      "2015-2016  734782  189988\n",
      "2016-2017  728105  196677\n",
      "2017-2018  718452  200414\n",
      "2018-2019  733181  199969\n",
      "2019-2020  714950  199988\n"
     ]
    }
   ],
   "source": [
    "swd_enroll_pivot2 = enroll_pivot.pivot_table(index=['year'], columns=['swd_flg'], values=['total'], aggfunc='sum', fill_value=0)\n",
    "print(swd_enroll_pivot2)\n"
   ]
  },
  {
   "cell_type": "code",
   "execution_count": 243,
   "metadata": {
    "scrolled": true
   },
   "outputs": [
    {
     "name": "stdout",
     "output_type": "stream",
     "text": [
      "              Student_ID                                                \\\n",
      "ethnicity_SWD    Asian_N Asian_Y Black_N Black_Y Hispanic_N Hispanic_Y   \n",
      "AcademicYear                                                             \n",
      "2012-2013           1298     243   12622    5561       8750       4443   \n",
      "2013-2014           1230     245   11991    5805       8470       4507   \n",
      "2014-2015           1125     218    9838    5154       7076       4081   \n",
      "2015-2016           1025     200    8180    4503       6354       3663   \n",
      "2016-2017           1133     228    7251    4130       6252       3700   \n",
      "2017-2018           1175     279    7088    4307       6532       3935   \n",
      "2018-2019           1174     270    6419    3710       5775       3614   \n",
      "2019-2020            707     157    3713    2319       3458       2290   \n",
      "\n",
      "                                               \n",
      "ethnicity_SWD Other_N Other_Y White_N White_Y  \n",
      "AcademicYear                                   \n",
      "2012-2013         225      99    1761     784  \n",
      "2013-2014         258      82    1674     830  \n",
      "2014-2015         272     116    1548     810  \n",
      "2015-2016         283     123    1462     752  \n",
      "2016-2017         291     135    1423     715  \n",
      "2017-2018         330     141    1473     805  \n",
      "2018-2019         331     146    1461     695  \n",
      "2019-2020         198      92     834     460  \n"
     ]
    }
   ],
   "source": [
    "ethnicity_swd_susp_pivot2 = susp_pivot.pivot_table(index=['AcademicYear'], columns=['ethnicity_SWD'], values=['Student_ID'], aggfunc='nunique', fill_value=0)\n",
    "print(ethnicity_swd_susp_pivot2)\n"
   ]
  },
  {
   "cell_type": "code",
   "execution_count": 244,
   "metadata": {
    "scrolled": true
   },
   "outputs": [
    {
     "name": "stdout",
     "output_type": "stream",
     "text": [
      "                    total                                                \\\n",
      "ethnicity_swd_flg Asian_N Asian_Y Black_N Black_Y Hispanic_N Hispanic_Y   \n",
      "year                                                                      \n",
      "2012-2013          139277   10963  201065   53505     298299      80231   \n",
      "2013-2014          139070   11797  187205   54621     289725      85531   \n",
      "2014-2015          142343   12259  176842   52939     287626      86787   \n",
      "2015-2016          143602   13227  170212   55351     285661      93175   \n",
      "2016-2017          145097   13865  163505   56547     283056      96715   \n",
      "2017-2018          146912   14687  155304   56580     278831      98610   \n",
      "2018-2019          151694   15327  153644   55248     284553      98410   \n",
      "2019-2020          150689   15990  143981   53883     278471      98768   \n",
      "\n",
      "                                                   \n",
      "ethnicity_swd_flg Other_N Other_Y White_N White_Y  \n",
      "year                                               \n",
      "2012-2013           10120    1901  116336   23127  \n",
      "2013-2014           12402    3258  114809   23693  \n",
      "2014-2015           14375    2375  117513   23781  \n",
      "2015-2016           16288    2904  119019   25331  \n",
      "2016-2017           17273    3402  119174   26148  \n",
      "2017-2018           18380    3860  119025   26677  \n",
      "2018-2019           21050    4128  122240   26856  \n",
      "2019-2020           21078    4346  120731   27001  \n"
     ]
    }
   ],
   "source": [
    "ethnicity_swd_enroll_pivot2 = enroll_pivot.pivot_table(index=['year'], columns=['ethnicity_swd_flg'], values=['total'], aggfunc='sum', fill_value=0)\n",
    "print(ethnicity_swd_enroll_pivot2)\n"
   ]
  },
  {
   "cell_type": "code",
   "execution_count": 252,
   "metadata": {
    "scrolled": false
   },
   "outputs": [
    {
     "name": "stdout",
     "output_type": "stream",
     "text": [
      "                                 Student_ID                               \\\n",
      "ethnicity_SWD_Gender_grade_cat Asian_N_F_HS Asian_N_F_Other Asian_N_M_HS   \n",
      "AcademicYear                                                               \n",
      "2012-2013                               101             164          316   \n",
      "2013-2014                                85             137          332   \n",
      "2014-2015                                79             118          299   \n",
      "2015-2016                                72             103          309   \n",
      "2016-2017                                83             154          271   \n",
      "2017-2018                                95             162          314   \n",
      "2018-2019                                88             159          279   \n",
      "2019-2020                                54             107          180   \n",
      "\n",
      "                                                                             \\\n",
      "ethnicity_SWD_Gender_grade_cat Asian_N_M_Other Asian_Y_F_HS Asian_Y_F_Other   \n",
      "AcademicYear                                                                  \n",
      "2012-2013                                  717            4              26   \n",
      "2013-2014                                  676           13              26   \n",
      "2014-2015                                  629            8              17   \n",
      "2015-2016                                  541            8              22   \n",
      "2016-2017                                  625           15              17   \n",
      "2017-2018                                  604            8              33   \n",
      "2018-2019                                  648            7              32   \n",
      "2019-2020                                  366            8              12   \n",
      "\n",
      "                                                                          \\\n",
      "ethnicity_SWD_Gender_grade_cat Asian_Y_M_HS Asian_Y_M_Other Black_N_F_HS   \n",
      "AcademicYear                                                               \n",
      "2012-2013                                46             167         2112   \n",
      "2013-2014                                32             174         1960   \n",
      "2014-2015                                34             159         1691   \n",
      "2015-2016                                33             137         1605   \n",
      "2016-2017                                44             152         1578   \n",
      "2017-2018                                40             198         1457   \n",
      "2018-2019                                44             187         1325   \n",
      "2019-2020                                32             105          759   \n",
      "\n",
      "                                                ...               \\\n",
      "ethnicity_SWD_Gender_grade_cat Black_N_F_Other  ... Other_Y_M_HS   \n",
      "AcademicYear                                    ...                \n",
      "2012-2013                                 3253  ...           19   \n",
      "2013-2014                                 2863  ...           14   \n",
      "2014-2015                                 2342  ...           19   \n",
      "2015-2016                                 1882  ...           26   \n",
      "2016-2017                                 1670  ...           20   \n",
      "2017-2018                                 1617  ...           39   \n",
      "2018-2019                                 1482  ...           44   \n",
      "2019-2020                                  928  ...           24   \n",
      "\n",
      "                                                                             \\\n",
      "ethnicity_SWD_Gender_grade_cat Other_Y_M_Other White_N_F_HS White_N_F_Other   \n",
      "AcademicYear                                                                  \n",
      "2012-2013                                   60          181             215   \n",
      "2013-2014                                   49          161             233   \n",
      "2014-2015                                   76          183             198   \n",
      "2015-2016                                   70          164             196   \n",
      "2016-2017                                   74          169             213   \n",
      "2017-2018                                   70          155             210   \n",
      "2018-2019                                   65          181             205   \n",
      "2019-2020                                   53          118             118   \n",
      "\n",
      "                                                                          \\\n",
      "ethnicity_SWD_Gender_grade_cat White_N_M_HS White_N_M_Other White_Y_F_HS   \n",
      "AcademicYear                                                               \n",
      "2012-2013                               459             906           44   \n",
      "2013-2014                               434             846           40   \n",
      "2014-2015                               442             725           55   \n",
      "2015-2016                               409             693           53   \n",
      "2016-2017                               380             661           47   \n",
      "2017-2018                               424             684           44   \n",
      "2018-2019                               396             679           41   \n",
      "2019-2020                               216             382           24   \n",
      "\n",
      "                                                                             \n",
      "ethnicity_SWD_Gender_grade_cat White_Y_F_Other White_Y_M_HS White_Y_M_Other  \n",
      "AcademicYear                                                                 \n",
      "2012-2013                                   93          153             494  \n",
      "2013-2014                                   95          159             536  \n",
      "2014-2015                                   87          175             493  \n",
      "2015-2016                                   89          151             459  \n",
      "2016-2017                                   89          161             418  \n",
      "2017-2018                                   97          162             502  \n",
      "2018-2019                                   80          146             428  \n",
      "2019-2020                                   47          110             279  \n",
      "\n",
      "[8 rows x 40 columns]\n"
     ]
    }
   ],
   "source": [
    "ethnicity_swd_Gender_grade_cat_susp_pivot2 = susp_pivot.pivot_table(index=['AcademicYear'], columns=['ethnicity_SWD_Gender_grade_cat'], values=['Student_ID'], aggfunc='nunique', fill_value=0)\n",
    "print(ethnicity_swd_Gender_grade_cat_susp_pivot2)"
   ]
  },
  {
   "cell_type": "code",
   "execution_count": 253,
   "metadata": {},
   "outputs": [],
   "source": [
    "#Export type pivot table to excel\n",
    "ethnicity_swd_Gender_grade_cat_susp_pivot2.to_excel(r\"/Users/holly/Desktop/12172020 data v2.xlsx\", sheet_name='enroll',header=True, merge_cells=False)\n"
   ]
  },
  {
   "cell_type": "code",
   "execution_count": 254,
   "metadata": {
    "scrolled": true
   },
   "outputs": [
    {
     "name": "stdout",
     "output_type": "stream",
     "text": [
      "                                        total                             \\\n",
      "ethnicity_swd_flg_sex_grade_cat Asian_N_F_3-5 Asian_N_F_HS Asian_N_F_K-2   \n",
      "year                                                                       \n",
      "2012-2013                               16010        16435         11198   \n",
      "2013-2014                               16324        19110         11992   \n",
      "2014-2015                               16645        21165         11806   \n",
      "2015-2016                               16932        22451         11235   \n",
      "2016-2017                               17284        22638         10959   \n",
      "2017-2018                               16663        19765         10936   \n",
      "2018-2019                               16861        23547         11811   \n",
      "2019-2020                               16619        23565         11592   \n",
      "\n",
      "                                                                            \\\n",
      "ethnicity_swd_flg_sex_grade_cat Asian_N_F_MS Asian_N_F_Other Asian_N_M_3-5   \n",
      "year                                                                         \n",
      "2012-2013                              15279            9826         16037   \n",
      "2013-2014                              15406            5861         16301   \n",
      "2014-2015                              15346            5495         16464   \n",
      "2015-2016                              15502            5192         16490   \n",
      "2016-2017                              15875            5263         16874   \n",
      "2017-2018                              14978           10536         16480   \n",
      "2018-2019                              17144            5753         16761   \n",
      "2019-2020                              17304            5750         16227   \n",
      "\n",
      "                                                                         \\\n",
      "ethnicity_swd_flg_sex_grade_cat Asian_N_M_HS Asian_N_M_K-2 Asian_N_M_MS   \n",
      "year                                                                      \n",
      "2012-2013                              17772         11201        15697   \n",
      "2013-2014                              20551         11709        15824   \n",
      "2014-2015                              22491         11583        15704   \n",
      "2015-2016                              23816         11197        15773   \n",
      "2016-2017                              24205         10754        16172   \n",
      "2017-2018                              21360         10464        15180   \n",
      "2018-2019                              25484         11546        17240   \n",
      "2019-2020                              25370         11176        17417   \n",
      "\n",
      "                                                 ...               \\\n",
      "ethnicity_swd_flg_sex_grade_cat Asian_N_M_Other  ... White_Y_F_HS   \n",
      "year                                             ...                \n",
      "2012-2013                                  9822  ...          967   \n",
      "2013-2014                                  5992  ...         1390   \n",
      "2014-2015                                  5644  ...         1444   \n",
      "2015-2016                                  5014  ...         1785   \n",
      "2016-2017                                  5073  ...         1980   \n",
      "2017-2018                                 10550  ...         1869   \n",
      "2018-2019                                  5547  ...         2345   \n",
      "2019-2020                                  5669  ...         2393   \n",
      "\n",
      "                                                                            \\\n",
      "ethnicity_swd_flg_sex_grade_cat White_Y_F_K-2 White_Y_F_MS White_Y_F_Other   \n",
      "year                                                                         \n",
      "2012-2013                                1278         1638            1302   \n",
      "2013-2014                                1342         1737             719   \n",
      "2014-2015                                1379         1868             628   \n",
      "2015-2016                                1435         1963             652   \n",
      "2016-2017                                1499         2056             642   \n",
      "2017-2018                                1559         1778            1266   \n",
      "2018-2019                                1469         1938             640   \n",
      "2019-2020                                1478         1917             647   \n",
      "\n",
      "                                                                          \\\n",
      "ethnicity_swd_flg_sex_grade_cat White_Y_M_3-5 White_Y_M_HS White_Y_M_K-2   \n",
      "year                                                                       \n",
      "2012-2013                                4755         1710          3113   \n",
      "2013-2014                                4877         2595          3369   \n",
      "2014-2015                                4844         2723          3316   \n",
      "2015-2016                                4868         3455          3333   \n",
      "2016-2017                                4714         3926          3393   \n",
      "2017-2018                                4629         3671          3372   \n",
      "2018-2019                                4630         4578          3359   \n",
      "2019-2020                                4751         4684          3189   \n",
      "\n",
      "                                                                             \n",
      "ethnicity_swd_flg_sex_grade_cat White_Y_M_MS White_Y_M_Other White_Y_nan_HS  \n",
      "year                                                                         \n",
      "2012-2013                               3324            2904              0  \n",
      "2013-2014                               3555            1783              0  \n",
      "2014-2015                               3695            1598              0  \n",
      "2015-2016                               3904            1629              0  \n",
      "2016-2017                               3983            1712              0  \n",
      "2017-2018                               3537            2833              1  \n",
      "2018-2019                               4024            1523              0  \n",
      "2019-2020                               3945            1626              0  \n",
      "\n",
      "[8 rows x 105 columns]\n"
     ]
    }
   ],
   "source": [
    "ethnicity_swd_sex_grade_cat_enroll_pivot2 = enroll_pivot.pivot_table(index=['year'], columns=['ethnicity_swd_flg_sex_grade_cat'], values=['total'], aggfunc='sum', fill_value=0)\n",
    "print(ethnicity_swd_sex_grade_cat_enroll_pivot2)"
   ]
  },
  {
   "cell_type": "code",
   "execution_count": 255,
   "metadata": {},
   "outputs": [],
   "source": [
    "#Export type pivot table to excel\n",
    "ethnicity_swd_sex_grade_cat_enroll_pivot2.to_excel(r\"/Users/holly/Desktop/12172020 data v3.xlsx\", sheet_name='enroll',header=True, merge_cells=False)\n"
   ]
  },
  {
   "cell_type": "code",
   "execution_count": 245,
   "metadata": {
    "scrolled": false
   },
   "outputs": [
    {
     "name": "stdout",
     "output_type": "stream",
     "text": [
      "                     Student_ID                                          \\\n",
      "ethnicity_SWD_Gender  Asian_N_F Asian_N_M Asian_Y_F Asian_Y_M Black_N_F   \n",
      "AcademicYear                                                              \n",
      "2012-2013                   265      1033        30       213      5365   \n",
      "2013-2014                   222      1008        39       206      4823   \n",
      "2014-2015                   197       928        25       193      4033   \n",
      "2015-2016                   175       850        30       170      3487   \n",
      "2016-2017                   237       896        32       196      3248   \n",
      "2017-2018                   257       918        41       238      3074   \n",
      "2018-2019                   247       927        39       231      2807   \n",
      "2019-2020                   161       546        20       137      1687   \n",
      "\n",
      "                                                                              \\\n",
      "ethnicity_SWD_Gender Black_N_M Black_Y_F Black_Y_M Hispanic_N_F Hispanic_N_M   \n",
      "AcademicYear                                                                   \n",
      "2012-2013                 7257      1410      4151         3241         5509   \n",
      "2013-2014                 7168      1511      4294         3101         5369   \n",
      "2014-2015                 5805      1339      3815         2637         4439   \n",
      "2015-2016                 4693      1226      3277         2478         3876   \n",
      "2016-2017                 4003      1131      2999         2526         3726   \n",
      "2017-2018                 4014      1208      3099         2612         3920   \n",
      "2018-2019                 3612      1030      2680         2436         3339   \n",
      "2019-2020                 2026       643      1676         1389         2069   \n",
      "\n",
      "                                                                              \\\n",
      "ethnicity_SWD_Gender Hispanic_Y_F Hispanic_Y_M Other_N_F Other_N_M Other_Y_F   \n",
      "AcademicYear                                                                   \n",
      "2012-2013                    1031         3412        85       140        20   \n",
      "2013-2014                    1037         3470        90       168        19   \n",
      "2014-2015                     975         3106        91       181        21   \n",
      "2015-2016                     918         2745       105       178        27   \n",
      "2016-2017                     922         2778       100       191        41   \n",
      "2017-2018                    1001         2934       124       206        32   \n",
      "2018-2019                     968         2646       112       219        37   \n",
      "2019-2020                     634         1656        63       135        15   \n",
      "\n",
      "                                                                        \n",
      "ethnicity_SWD_Gender Other_Y_M White_N_F White_N_M White_Y_F White_Y_M  \n",
      "AcademicYear                                                            \n",
      "2012-2013                   79       396      1365       137       647  \n",
      "2013-2014                   63       394      1280       135       695  \n",
      "2014-2015                   95       381      1167       142       668  \n",
      "2015-2016                   96       360      1102       142       610  \n",
      "2016-2017                   94       382      1041       136       579  \n",
      "2017-2018                  109       365      1108       141       664  \n",
      "2018-2019                  109       386      1075       121       574  \n",
      "2019-2020                   77       236       598        71       389  \n"
     ]
    }
   ],
   "source": [
    "ethnicity_swd_gender_susp_pivot2 = susp_pivot.pivot_table(index=['AcademicYear'], columns=['ethnicity_SWD_Gender'], values=['Student_ID'], aggfunc='nunique', fill_value=0)\n",
    "print(ethnicity_swd_gender_susp_pivot2)"
   ]
  },
  {
   "cell_type": "code",
   "execution_count": 247,
   "metadata": {
    "scrolled": true
   },
   "outputs": [
    {
     "name": "stdout",
     "output_type": "stream",
     "text": [
      "                          total                                          \\\n",
      "ethnicity_swd_flg_sex Asian_N_F Asian_N_M Asian_Y_F Asian_Y_M Black_N_F   \n",
      "year                                                                      \n",
      "2012-2013                 68748     70529      3391      7572    106619   \n",
      "2013-2014                 68693     70377      3629      8168     99601   \n",
      "2014-2015                 70457     71886      3767      8492     94771   \n",
      "2015-2016                 71312     72290      4018      9209     91081   \n",
      "2016-2017                 72019     73078      4186      9679     87155   \n",
      "2017-2018                 72878     74034      4378     10309     83025   \n",
      "2018-2019                 75116     76578      4568     10759     81759   \n",
      "2019-2020                 74830     75859      4740     11250     76726   \n",
      "\n",
      "                                                                               \\\n",
      "ethnicity_swd_flg_sex Black_N_M Black_Y_F Black_Y_M Hispanic_N_F Hispanic_N_M   \n",
      "year                                                                            \n",
      "2012-2013                 94446     17513     35992       156741       141558   \n",
      "2013-2014                 87604     18160     36461       152757       136968   \n",
      "2014-2015                 82071     17746     35193       152462       135164   \n",
      "2015-2016                 79131     18754     36597       151824       133837   \n",
      "2016-2017                 76350     19167     37380       150367       132689   \n",
      "2017-2018                 72279     19193     37387       148396       130435   \n",
      "2018-2019                 71885     18613     36635       150848       133704   \n",
      "2019-2020                 67255     18097     35786       147917       130554   \n",
      "\n",
      "                       ...                                              \\\n",
      "ethnicity_swd_flg_sex  ... Other_N_nan Other_Y_F Other_Y_M Other_Y_nan   \n",
      "year                   ...                                               \n",
      "2012-2013              ...           0       583      1318           0   \n",
      "2013-2014              ...           2       944      2314           0   \n",
      "2014-2015              ...           0       757      1618           0   \n",
      "2015-2016              ...           0       955      1949           0   \n",
      "2016-2017              ...           0      1172      2230           0   \n",
      "2017-2018              ...           1      1324      2535           1   \n",
      "2018-2019              ...           1      1402      2726           0   \n",
      "2019-2020              ...           0      1476      2870           0   \n",
      "\n",
      "                                                                           \\\n",
      "ethnicity_swd_flg_sex White_N_F White_N_M White_N_nan White_Y_F White_Y_M   \n",
      "year                                                                        \n",
      "2012-2013                 59220     57116           0      7321     15806   \n",
      "2013-2014                 58610     56199           0      7514     16179   \n",
      "2014-2015                 60035     57478           0      7605     16176   \n",
      "2015-2016                 60935     58084           0      8142     17189   \n",
      "2016-2017                 60872     58302           0      8420     17728   \n",
      "2017-2018                 60965     58058           2      8634     18042   \n",
      "2018-2019                 62652     59588           0      8742     18114   \n",
      "2019-2020                 61940     58791           0      8806     18195   \n",
      "\n",
      "                                   \n",
      "ethnicity_swd_flg_sex White_Y_nan  \n",
      "year                               \n",
      "2012-2013                       0  \n",
      "2013-2014                       0  \n",
      "2014-2015                       0  \n",
      "2015-2016                       0  \n",
      "2016-2017                       0  \n",
      "2017-2018                       1  \n",
      "2018-2019                       0  \n",
      "2019-2020                       0  \n",
      "\n",
      "[8 rows x 25 columns]\n"
     ]
    }
   ],
   "source": [
    "ethnicity_swd_sex_enroll_pivot2 = enroll_pivot.pivot_table(index=['year'], columns=['ethnicity_swd_flg_sex'], values=['total'], aggfunc='sum', fill_value=0)\n",
    "print(ethnicity_swd_sex_enroll_pivot2)"
   ]
  },
  {
   "cell_type": "code",
   "execution_count": 249,
   "metadata": {},
   "outputs": [],
   "source": [
    "#Export type pivot table to excel\n",
    "ethnicity_swd_sex_enroll_pivot2.to_excel(r\"/Users/holly/Desktop/12172020 data.xlsx\", sheet_name='enroll',header=True, merge_cells=False)\n"
   ]
  },
  {
   "cell_type": "code",
   "execution_count": 235,
   "metadata": {},
   "outputs": [],
   "source": [
    "######REL RISK v2 -- NOT WORKING!!!!!\n",
    "#race_susp_pivot2 + race_enroll_pivot2\n",
    "\n",
    "#race_rel_risk = ((race_susp_pivot2/race_enroll_pivot2) / ((susp_totals - race_susp_pivot2) / (total_enroll - race_enroll_pivot2)))\n",
    "#race_rel_risk"
   ]
  },
  {
   "cell_type": "code",
   "execution_count": 321,
   "metadata": {
    "scrolled": true
   },
   "outputs": [
    {
     "name": "stdout",
     "output_type": "stream",
     "text": [
      "             Student_ID                                                     \\\n",
      "AcademicYear  2012-2013          2013-2014       2014-2015       2015-2016   \n",
      "SWD                   N     Y  y         N     Y         N     Y         N   \n",
      "Borough                                                                      \n",
      "K                  7918  3326  2      7694  3428      6216  3000      5293   \n",
      "M                  3601  1740  0      3524  1802      3120  1616      2832   \n",
      "O                     0     4  0         7     7         0     9         1   \n",
      "Q                  6015  2342  0      5549  2408      4801  2213      4151   \n",
      "R                  1258   869  0      1134   886      1095   901       975   \n",
      "X                  5893  2871  0      5744  2965      4656  2668      4070   \n",
      "\n",
      "                                                                              \\\n",
      "AcademicYear       2016-2017       2017-2018       2018-2019       2019-2020   \n",
      "SWD              Y         N     Y         N     Y         N     Y         N   \n",
      "Borough                                                                        \n",
      "K             2705      4857  2522      4965  2648      4734  2386      2656   \n",
      "M             1454      2513  1346      2475  1493      2381  1429      1389   \n",
      "O               24         0    29         0    16         0    23         0   \n",
      "Q             1961      3964  1869      4042  1995      3606  1678      2146   \n",
      "R              778       914   788       854   763       860   706       619   \n",
      "X             2337      4110  2376      4286  2567      3598  2229      2117   \n",
      "\n",
      "                    \n",
      "AcademicYear        \n",
      "SWD              Y  \n",
      "Borough             \n",
      "K             1538  \n",
      "M              903  \n",
      "O               14  \n",
      "Q             1069  \n",
      "R              555  \n",
      "X             1246  \n"
     ]
    }
   ],
   "source": [
    "swd_susp_pivot = susp_pivot.pivot_table(index=['Borough'], columns=['AcademicYear','SWD'], values=['Student_ID'], aggfunc='nunique', fill_value=0)\n",
    "print(swd_susp_pivot)"
   ]
  },
  {
   "cell_type": "code",
   "execution_count": 322,
   "metadata": {
    "scrolled": false
   },
   "outputs": [
    {
     "name": "stdout",
     "output_type": "stream",
     "text": [
      "             Student_ID                                                     \\\n",
      "AcademicYear  2012-2013                                                      \n",
      "ethnicity         Asian      Black       Hispanic          Other     White   \n",
      "SWD                   N    Y     N     Y        N     Y  y     N   Y     N   \n",
      "Borough                                                                      \n",
      "K                   308   54  5454  2225     1541   825  2    57  26   558   \n",
      "M                   151   12  1617   798     1615   855  0    46  25   172   \n",
      "O                     0    0     0     3        0     1  0     0   0     0   \n",
      "Q                   732  141  2654  1108     2080   884  0    71  21   478   \n",
      "R                    35   13   454   316      327   227  0    15   9   427   \n",
      "X                    72   24  2462  1127     3195  1655  0    37  18   127   \n",
      "\n",
      "              ...                                                              \n",
      "AcademicYear  ... 2019-2020                                                    \n",
      "ethnicity     ...     Asian     Black      Hispanic      Other     White       \n",
      "SWD           ...         N   Y     N    Y        N    Y     N   Y     N    Y  \n",
      "Borough       ...                                                              \n",
      "K             ...       234  45  1371  869      720  480    59  18   272  126  \n",
      "M             ...        72  16   563  377      608  420    45  19   101   71  \n",
      "O             ...         0   0     0    7        0    4     0   1     0    2  \n",
      "Q             ...       318  75   732  392      820  470    57  32   219  100  \n",
      "R             ...        36   9   198  195      182  202    15  12   188  137  \n",
      "X             ...        47  12   861  482     1131  718    22  10    56   24  \n",
      "\n",
      "[6 rows x 81 columns]\n"
     ]
    }
   ],
   "source": [
    "race_swd_susp_pivot = susp_pivot.pivot_table(index=['Borough'], columns=['AcademicYear','ethnicity', 'SWD'], values=['Student_ID'], aggfunc='nunique', fill_value=0)\n",
    "print(race_swd_susp_pivot)"
   ]
  },
  {
   "cell_type": "code",
   "execution_count": 323,
   "metadata": {
    "scrolled": true
   },
   "outputs": [
    {
     "name": "stdout",
     "output_type": "stream",
     "text": [
      "             Student_ID                                                      \\\n",
      "AcademicYear  2012-2013                                                       \n",
      "ethnicity         Asian               Black                  Hispanic         \n",
      "SWD                   N        Y          N          Y              N         \n",
      "Gender                F    M   F    M     F     M    F     M        F     M   \n",
      "Borough                                                                       \n",
      "K                    44  264   6   48  2307  3147  556  1669      561   980   \n",
      "M                    36  115   0   12   751   866  211   587      641   974   \n",
      "O                     0    0   0    0     0     0    1     2        0     0   \n",
      "Q                   156  576  20  121  1056  1598  286   822      695  1385   \n",
      "R                    12   23   2   11   170   284   82   234      115   212   \n",
      "X                    17   55   2   22  1087  1375  278   849     1230  1965   \n",
      "\n",
      "              ...                                                      \n",
      "AcademicYear  ... 2019-2020                                            \n",
      "ethnicity     ...  Hispanic      Other            White                \n",
      "SWD           ...         Y          N      Y         N        Y       \n",
      "Gender        ...         F    M     F   M  F   M     F    M   F    M  \n",
      "Borough       ...                                                      \n",
      "K             ...       140  340    14  45  3  15    71  201  16  110  \n",
      "M             ...       117  303    19  26  2  17    30   71  10   61  \n",
      "O             ...         0    4     0   0  0   1     0    0   0    2  \n",
      "Q             ...       104  366    16  41  5  27    54  165  11   89  \n",
      "R             ...        56  146     5  10  2  10    64  124  27  110  \n",
      "X             ...       219  499     9  13  3   7    18   38   7   17  \n",
      "\n",
      "[6 rows x 161 columns]\n"
     ]
    }
   ],
   "source": [
    "race_swd_gender_susp_pivot = susp_pivot.pivot_table(index=['Borough'], columns=['AcademicYear','ethnicity', 'SWD', 'Gender'], values=['Student_ID'], aggfunc='nunique', fill_value=0)\n",
    "print(race_swd_gender_susp_pivot)"
   ]
  },
  {
   "cell_type": "code",
   "execution_count": 336,
   "metadata": {},
   "outputs": [],
   "source": [
    "race_enroll_percents.to_excel(r'/Users/holly/Desktop/nycdoe/12152020 race_enroll_percents.xlsx', sheet_name='test',header=True, merge_cells=False)\n",
    "race_susp_percents.to_excel(r'/Users/holly/Desktop/nycdoe/12152020 race_susp_percents.xlsx', sheet_name='test',header=True, merge_cells=False)\n",
    "swd_enroll_percents.to_excel(r'/Users/holly/Desktop/nycdoe/12152020 swd_enroll_percents.xlsx', sheet_name='test',header=True, merge_cells=False)\n",
    "swd_susp_percents.to_excel(r'/Users/holly/Desktop/nycdoe/12152020 swd_susp_percents.xlsx', sheet_name='test',header=True, merge_cells=False)\n",
    "race_swd_enroll_percents.to_excel(r'/Users/holly/Desktop/nycdoe/12152020 race_swd_enroll_percents.xlsx', sheet_name='test',header=True, merge_cells=False)\n",
    "race_swd_susp_percents.to_excel(r'/Users/holly/Desktop/nycdoe/12152020 race_swd_susp_percents.xlsx', sheet_name='test',header=True, merge_cells=False)\n",
    "enroll_total.to_excel(r'/Users/holly/Desktop/nycdoe/12152020 enroll_total.xlsx', sheet_name='test',header=True, merge_cells=False)\n",
    "susp_totals.to_excel(r'/Users/holly/Desktop/nycdoe/12152020 susp_totals.xlsx', sheet_name='test',header=True, merge_cells=False)\n",
    "race_enroll_pivot.to_excel(r'/Users/holly/Desktop/nycdoe/12152020 race_enroll_pivot.xlsx', sheet_name='test',header=True, merge_cells=False)\n",
    "race_susp_pivot.to_excel(r'/Users/holly/Desktop/nycdoe/12152020 race_susp_pivot.xlsx', sheet_name='test',header=True, merge_cells=False)\n",
    "swd_enroll_pivot.to_excel(r'/Users/holly/Desktop/nycdoe/12152020 swd_enroll_pivot.xlsx', sheet_name='test',header=True, merge_cells=False)\n",
    "swd_susp_pivot.to_excel(r'/Users/holly/Desktop/nycdoe/12152020 swd_susp_pivot.xlsx', sheet_name='test',header=True, merge_cells=False)\n",
    "race_swd_enroll_pivot.to_excel(r'/Users/holly/Desktop/nycdoe/12152020 race_swd_enroll_pivot.xlsx', sheet_name='test',header=True, merge_cells=False)\n",
    "race_swd_susp_pivot.to_excel(r'/Users/holly/Desktop/nycdoe/12152020 race_swd_susp_pivot.xlsx', sheet_name='test',header=True, merge_cells=False)\n",
    "race_swd_gender_enroll_pivot.to_excel(r'/Users/holly/Desktop/nycdoe/12152020 race_swd_gender_enroll_pivot.xlsx', sheet_name='test',header=True, merge_cells=False)\n",
    "race_swd_gender_susp_pivot.to_excel(r'/Users/holly/Desktop/nycdoe/12152020 race_swd_gender_susp_pivot.xlsx', sheet_name='test',header=True, merge_cells=False)\n"
   ]
  },
  {
   "cell_type": "code",
   "execution_count": 334,
   "metadata": {},
   "outputs": [],
   "source": [
    "#Source: https://stackoverflow.com/questions/35707723/writing-multiple-pandas-dataframes-to-multiple-excel-worksheets\n",
    "#initialze the excel writer\n",
    "#writer = pd.ExcelWriter('/Users/holly/Desktop/nycdoe/12152020 SUSP Dispro Data Outputv2.xlsx', engine='xlsxwriter')\n",
    "\n",
    "#df1 = pd.DataFrame({'race_enroll_percents'})\n",
    "#df2 = pd.DataFrame({'race_susp_percents'})\n",
    "#df3 = pd.DataFrame({'swd_enroll_percents'})\n",
    "#df4 = pd.DataFrame({'swd_susp_percents'})\n",
    "#df5 = pd.DataFrame({'race_swd_enroll_percents'})\n",
    "#df6 = pd.DataFrame({'race_swd_susp_percents'})\n",
    "#df7 = pd.DataFrame({'enroll_total'}) \n",
    "#df8 = pd.DataFrame({'susp_totals'}) \n",
    "#df9 = pd.DataFrame({'race_enroll_pivot'})\n",
    "#df10 = pd.DataFrame({'race_susp_pivot'})\n",
    "#df11 = pd.DataFrame({'swd_enroll_pivot'})\n",
    "#df12 = pd.DataFrame({'swd_susp_pivot'})\n",
    "#df13 = pd.DataFrame({'race_swd_enroll_pivot'})\n",
    "#df14 = pd.DataFrame({'race_swd_susp_pivot'}) \n",
    "#df15 = pd.DataFrame({'race_swd_gender_enroll_pivot'})\n",
    "#df16 = pd.DataFrame({'race_swd_gender_susp_pivot'})\n",
    "\n",
    "\n",
    "#race_enroll_percents.to_excel(writer, sheet_name='race_enroll')\n",
    "#race_susp_percents.to_excel(writer, sheet_name='race_susp')\n",
    "#swd_enroll_percents.to_excel(writer, sheet_name='swd_enroll')\n",
    "#swd_susp_percents.to_excel(writer, sheet_name='swd_susp')\n",
    "#race_swd_enroll_percents.to_excel(writer, sheet_name='race_swd_enroll')\n",
    "#race_swd_susp_percents.to_excel(writer, sheet_name='race_swd_susp')\n",
    "#enroll_total.to_excel(writer, sheet_name='enroll_total')\n",
    "#susp_totals.to_excel(writer, sheet_name='susp_totals')\n",
    "#race_enroll_pivot.to_excel(writer, sheet_name='race_enroll')\n",
    "#race_susp_pivot.to_excel(writer, sheet_name='race_susp')\n",
    "#swd_enroll_pivot.to_excel(writer, sheet_name='swd_enroll')\n",
    "#swd_susp_pivot.to_excel(writer, sheet_name='swd_susp')\n",
    "#race_swd_enroll_pivot.to_excel(writer, sheet_name='race_swd_enroll')\n",
    "#race_swd_susp_pivot.to_excel(writer, sheet_name='race_swd_susp')\n",
    "#race_swd_gender_enroll_pivot.to_excel(writer, sheet_name='race_swd_gender_enroll')\n",
    "#race_swd_gender_susp_pivot.to_excel(writer, sheet_name='race_swd_gender_susp')\n",
    "\n",
    "#now loop thru and put each on a specific sheet\n",
    "#for sheet, frame in  frames.iteritems(): # .use .items for python 3.X\n",
    "#    frame.to_excel(writer, sheet_name = sheet)\n",
    "\n",
    "#critical last step\n",
    "#writer.save()"
   ]
  }
 ],
 "metadata": {
  "kernelspec": {
   "display_name": "Python 3",
   "language": "python",
   "name": "python3"
  },
  "language_info": {
   "codemirror_mode": {
    "name": "ipython",
    "version": 3
   },
   "file_extension": ".py",
   "mimetype": "text/x-python",
   "name": "python",
   "nbconvert_exporter": "python",
   "pygments_lexer": "ipython3",
   "version": "3.8.5"
  }
 },
 "nbformat": 4,
 "nbformat_minor": 4
}
